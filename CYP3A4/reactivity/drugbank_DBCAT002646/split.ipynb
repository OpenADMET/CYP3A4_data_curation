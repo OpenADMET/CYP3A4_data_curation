{
 "cells": [
  {
   "cell_type": "code",
   "execution_count": 19,
   "id": "201eeedb-4824-4355-b828-1b82c81a9f63",
   "metadata": {},
   "outputs": [],
   "source": [
    "import pandas as pd\n",
    "\n",
    "import re\n",
    "patt = re.compile(\"[^\\t]+\")"
   ]
  },
  {
   "cell_type": "code",
   "execution_count": 26,
   "id": "47a131a6-d672-479a-b56a-1b1537928b99",
   "metadata": {},
   "outputs": [],
   "source": [
    "def read_col(f):\n",
    "    drugnames = []\n",
    "    with open(f, \"r\") as r:\n",
    "        lines = r.readlines()\n",
    "        for line in lines:\n",
    "            toks = line.split(\"\\t\")\n",
    "            drugnames.append(toks[0])\n",
    "        return drugnames"
   ]
  },
  {
   "cell_type": "code",
   "execution_count": 28,
   "id": "858575a6-a0f8-46eb-a296-63b491311b3a",
   "metadata": {},
   "outputs": [],
   "source": [
    "names = read_col(\"compounds.txt\")"
   ]
  },
  {
   "cell_type": "code",
   "execution_count": 29,
   "id": "2c9108fb-7073-480b-b990-10acad428857",
   "metadata": {},
   "outputs": [],
   "source": [
    "with open(\"names_only.txt\", \"w\") as f:\n",
    "    for d in names:\n",
    "        f.write(f\"{d}\\n\")"
   ]
  },
  {
   "cell_type": "code",
   "execution_count": null,
   "id": "37d46443-a624-49ba-b99e-bb577a1a66f5",
   "metadata": {},
   "outputs": [],
   "source": []
  }
 ],
 "metadata": {
  "kernelspec": {
   "display_name": "Python 3 (ipykernel)",
   "language": "python",
   "name": "python3"
  },
  "language_info": {
   "codemirror_mode": {
    "name": "ipython",
    "version": 3
   },
   "file_extension": ".py",
   "mimetype": "text/x-python",
   "name": "python",
   "nbconvert_exporter": "python",
   "pygments_lexer": "ipython3",
   "version": "3.11.10"
  }
 },
 "nbformat": 4,
 "nbformat_minor": 5
}
