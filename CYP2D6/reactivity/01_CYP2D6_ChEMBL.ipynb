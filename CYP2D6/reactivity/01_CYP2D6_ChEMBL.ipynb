{
 "cells": [
  {
   "cell_type": "code",
   "execution_count": 1,
   "id": "a758fc03-3502-4721-adc4-db2b380e7671",
   "metadata": {},
   "outputs": [],
   "source": [
    "import pandas as pd\n",
    "from rdkit import Chem\n",
    "import seaborn as sns\n",
    "from tqdm import tqdm\n",
    "import numpy as np"
   ]
  },
  {
   "cell_type": "code",
   "execution_count": 2,
   "id": "608040d2-a223-4fa2-9967-41f67a1f78cc",
   "metadata": {},
   "outputs": [],
   "source": [
    "tqdm.pandas()\n"
   ]
  },
  {
   "cell_type": "code",
   "execution_count": 3,
   "id": "13a05526-db75-4fca-bdf8-b4266aa1981d",
   "metadata": {},
   "outputs": [
    {
     "name": "stderr",
     "output_type": "stream",
     "text": [
      "/tmp/ipykernel_65817/1909509050.py:1: DtypeWarning: Columns (32,33) have mixed types. Specify dtype option on import or set low_memory=False.\n",
      "  chembl = pd.read_csv(\"ChEMBL/ChEMBL289.csv\", sep=\";\")\n"
     ]
    }
   ],
   "source": [
    "chembl = pd.read_csv(\"ChEMBL/ChEMBL289.csv\", sep=\";\")"
   ]
  },
  {
   "cell_type": "code",
   "execution_count": 4,
   "id": "6ab8b63a-84e6-448f-bced-dec856ec1397",
   "metadata": {},
   "outputs": [
    {
     "data": {
      "text/html": [
       "<div>\n",
       "<style scoped>\n",
       "    .dataframe tbody tr th:only-of-type {\n",
       "        vertical-align: middle;\n",
       "    }\n",
       "\n",
       "    .dataframe tbody tr th {\n",
       "        vertical-align: top;\n",
       "    }\n",
       "\n",
       "    .dataframe thead th {\n",
       "        text-align: right;\n",
       "    }\n",
       "</style>\n",
       "<table border=\"1\" class=\"dataframe\">\n",
       "  <thead>\n",
       "    <tr style=\"text-align: right;\">\n",
       "      <th></th>\n",
       "      <th>Molecule ChEMBL ID</th>\n",
       "      <th>Molecule Name</th>\n",
       "      <th>Molecule Max Phase</th>\n",
       "      <th>Molecular Weight</th>\n",
       "      <th>#RO5 Violations</th>\n",
       "      <th>AlogP</th>\n",
       "      <th>Compound Key</th>\n",
       "      <th>Smiles</th>\n",
       "      <th>Standard Type</th>\n",
       "      <th>Standard Relation</th>\n",
       "      <th>...</th>\n",
       "      <th>Document ChEMBL ID</th>\n",
       "      <th>Source ID</th>\n",
       "      <th>Source Description</th>\n",
       "      <th>Document Journal</th>\n",
       "      <th>Document Year</th>\n",
       "      <th>Cell ChEMBL ID</th>\n",
       "      <th>Properties</th>\n",
       "      <th>Action Type</th>\n",
       "      <th>Standard Text Value</th>\n",
       "      <th>Value</th>\n",
       "    </tr>\n",
       "  </thead>\n",
       "  <tbody>\n",
       "    <tr>\n",
       "      <th>0</th>\n",
       "      <td>CHEMBL1287953</td>\n",
       "      <td>NaN</td>\n",
       "      <td>NaN</td>\n",
       "      <td>536.04</td>\n",
       "      <td>2.0</td>\n",
       "      <td>5.77</td>\n",
       "      <td>2</td>\n",
       "      <td>CC(C)(C(=O)Nc1ccc(N2CCC3(CCN(CC4CC4)C3)CC2)c(C...</td>\n",
       "      <td>INH</td>\n",
       "      <td>'&gt;'</td>\n",
       "      <td>...</td>\n",
       "      <td>CHEMBL1287792</td>\n",
       "      <td>1</td>\n",
       "      <td>Scientific Literature</td>\n",
       "      <td>Bioorg Med Chem Lett</td>\n",
       "      <td>2010.0</td>\n",
       "      <td>NaN</td>\n",
       "      <td>NaN</td>\n",
       "      <td>NaN</td>\n",
       "      <td>NaN</td>\n",
       "      <td>10.000000</td>\n",
       "    </tr>\n",
       "    <tr>\n",
       "      <th>1</th>\n",
       "      <td>CHEMBL256961</td>\n",
       "      <td>NaN</td>\n",
       "      <td>NaN</td>\n",
       "      <td>327.82</td>\n",
       "      <td>0.0</td>\n",
       "      <td>3.21</td>\n",
       "      <td>rac-46</td>\n",
       "      <td>Clc1ccc2ncc(-c3cccc(NC4CCCNC4)n3)n2c1</td>\n",
       "      <td>Inhibition</td>\n",
       "      <td>'='</td>\n",
       "      <td>...</td>\n",
       "      <td>CHEMBL1145577</td>\n",
       "      <td>1</td>\n",
       "      <td>Scientific Literature</td>\n",
       "      <td>Bioorg Med Chem Lett</td>\n",
       "      <td>2008.0</td>\n",
       "      <td>NaN</td>\n",
       "      <td>NaN</td>\n",
       "      <td>NaN</td>\n",
       "      <td>NaN</td>\n",
       "      <td>1.800000</td>\n",
       "    </tr>\n",
       "    <tr>\n",
       "      <th>2</th>\n",
       "      <td>CHEMBL256989</td>\n",
       "      <td>NaN</td>\n",
       "      <td>NaN</td>\n",
       "      <td>499.44</td>\n",
       "      <td>0.0</td>\n",
       "      <td>4.57</td>\n",
       "      <td>10</td>\n",
       "      <td>O=C(Cn1c(=O)cnc2cc(Cl)c(Cl)cc21)N1CCCC(c2ccccc...</td>\n",
       "      <td>IC50</td>\n",
       "      <td>'='</td>\n",
       "      <td>...</td>\n",
       "      <td>CHEMBL1145579</td>\n",
       "      <td>1</td>\n",
       "      <td>Scientific Literature</td>\n",
       "      <td>Bioorg Med Chem Lett</td>\n",
       "      <td>2008.0</td>\n",
       "      <td>NaN</td>\n",
       "      <td>NaN</td>\n",
       "      <td>NaN</td>\n",
       "      <td>NaN</td>\n",
       "      <td>2.900000</td>\n",
       "    </tr>\n",
       "    <tr>\n",
       "      <th>3</th>\n",
       "      <td>CHEMBL1269022</td>\n",
       "      <td>NaN</td>\n",
       "      <td>NaN</td>\n",
       "      <td>308.37</td>\n",
       "      <td>0.0</td>\n",
       "      <td>3.25</td>\n",
       "      <td>SID4253263</td>\n",
       "      <td>S=C(Nc1ccc2cn[nH]c2c1)Nc1ccc2cn[nH]c2c1</td>\n",
       "      <td>AC50</td>\n",
       "      <td>'='</td>\n",
       "      <td>...</td>\n",
       "      <td>CHEMBL1201862</td>\n",
       "      <td>7</td>\n",
       "      <td>PubChem BioAssays</td>\n",
       "      <td>NaN</td>\n",
       "      <td>NaN</td>\n",
       "      <td>NaN</td>\n",
       "      <td>NaN</td>\n",
       "      <td>NaN</td>\n",
       "      <td>NaN</td>\n",
       "      <td>1.995262</td>\n",
       "    </tr>\n",
       "    <tr>\n",
       "      <th>4</th>\n",
       "      <td>CHEMBL1586264</td>\n",
       "      <td>NaN</td>\n",
       "      <td>NaN</td>\n",
       "      <td>353.49</td>\n",
       "      <td>0.0</td>\n",
       "      <td>3.22</td>\n",
       "      <td>SID17413171</td>\n",
       "      <td>CC(C)(C)NS(=O)(=O)c1ccc(NC(=O)NC2CCCCC2)cc1</td>\n",
       "      <td>AC50</td>\n",
       "      <td>'='</td>\n",
       "      <td>...</td>\n",
       "      <td>CHEMBL1201862</td>\n",
       "      <td>7</td>\n",
       "      <td>PubChem BioAssays</td>\n",
       "      <td>NaN</td>\n",
       "      <td>NaN</td>\n",
       "      <td>NaN</td>\n",
       "      <td>NaN</td>\n",
       "      <td>NaN</td>\n",
       "      <td>NaN</td>\n",
       "      <td>17.782794</td>\n",
       "    </tr>\n",
       "    <tr>\n",
       "      <th>...</th>\n",
       "      <td>...</td>\n",
       "      <td>...</td>\n",
       "      <td>...</td>\n",
       "      <td>...</td>\n",
       "      <td>...</td>\n",
       "      <td>...</td>\n",
       "      <td>...</td>\n",
       "      <td>...</td>\n",
       "      <td>...</td>\n",
       "      <td>...</td>\n",
       "      <td>...</td>\n",
       "      <td>...</td>\n",
       "      <td>...</td>\n",
       "      <td>...</td>\n",
       "      <td>...</td>\n",
       "      <td>...</td>\n",
       "      <td>...</td>\n",
       "      <td>...</td>\n",
       "      <td>...</td>\n",
       "      <td>...</td>\n",
       "      <td>...</td>\n",
       "    </tr>\n",
       "    <tr>\n",
       "      <th>34249</th>\n",
       "      <td>CHEMBL490</td>\n",
       "      <td>PAROXETINE</td>\n",
       "      <td>4.0</td>\n",
       "      <td>329.37</td>\n",
       "      <td>0.0</td>\n",
       "      <td>3.33</td>\n",
       "      <td>Paroxetin</td>\n",
       "      <td>Fc1ccc([C@@H]2CCNC[C@H]2COc2ccc3c(c2)OCO3)cc1</td>\n",
       "      <td>IC50</td>\n",
       "      <td>'='</td>\n",
       "      <td>...</td>\n",
       "      <td>CHEMBL5390273</td>\n",
       "      <td>1</td>\n",
       "      <td>Scientific Literature</td>\n",
       "      <td>J Med Chem</td>\n",
       "      <td>2023.0</td>\n",
       "      <td>NaN</td>\n",
       "      <td>TIME = 0.5833 hr</td>\n",
       "      <td>INHIBITOR</td>\n",
       "      <td>NaN</td>\n",
       "      <td>0.380000</td>\n",
       "    </tr>\n",
       "    <tr>\n",
       "      <th>34250</th>\n",
       "      <td>CHEMBL288441</td>\n",
       "      <td>BOSUTINIB</td>\n",
       "      <td>4.0</td>\n",
       "      <td>530.46</td>\n",
       "      <td>2.0</td>\n",
       "      <td>5.19</td>\n",
       "      <td>3</td>\n",
       "      <td>COc1cc(Nc2c(C#N)cnc3cc(OCCCN4CCN(C)CC4)c(OC)cc...</td>\n",
       "      <td>IC50</td>\n",
       "      <td>NaN</td>\n",
       "      <td>...</td>\n",
       "      <td>CHEMBL5370690</td>\n",
       "      <td>1</td>\n",
       "      <td>Scientific Literature</td>\n",
       "      <td>ACS Med Chem Lett</td>\n",
       "      <td>2023.0</td>\n",
       "      <td>NaN</td>\n",
       "      <td>TIME = 0.08333 hr</td>\n",
       "      <td>NaN</td>\n",
       "      <td>NaN</td>\n",
       "      <td>NaN</td>\n",
       "    </tr>\n",
       "    <tr>\n",
       "      <th>34251</th>\n",
       "      <td>CHEMBL75</td>\n",
       "      <td>NaN</td>\n",
       "      <td>NaN</td>\n",
       "      <td>531.44</td>\n",
       "      <td>1.0</td>\n",
       "      <td>4.21</td>\n",
       "      <td>Ketoconazole</td>\n",
       "      <td>CC(=O)N1CCN(c2ccc(OC[C@H]3CO[C@](Cn4ccnc4)(c4c...</td>\n",
       "      <td>Activity</td>\n",
       "      <td>'&gt;'</td>\n",
       "      <td>...</td>\n",
       "      <td>CHEMBL4823255</td>\n",
       "      <td>1</td>\n",
       "      <td>Scientific Literature</td>\n",
       "      <td>Eur J Med Chem</td>\n",
       "      <td>2021.0</td>\n",
       "      <td>NaN</td>\n",
       "      <td>Dose = 10.0 microM</td>\n",
       "      <td>NaN</td>\n",
       "      <td>NaN</td>\n",
       "      <td>100.000000</td>\n",
       "    </tr>\n",
       "    <tr>\n",
       "      <th>34252</th>\n",
       "      <td>CHEMBL376488</td>\n",
       "      <td>BEDAQUILINE</td>\n",
       "      <td>4.0</td>\n",
       "      <td>555.52</td>\n",
       "      <td>2.0</td>\n",
       "      <td>7.13</td>\n",
       "      <td>1; TMC207,R207910</td>\n",
       "      <td>COc1nc2ccc(Br)cc2cc1[C@@H](c1ccccc1)[C@@](O)(C...</td>\n",
       "      <td>IC50</td>\n",
       "      <td>'&gt;'</td>\n",
       "      <td>...</td>\n",
       "      <td>CHEMBL5113423</td>\n",
       "      <td>1</td>\n",
       "      <td>Scientific Literature</td>\n",
       "      <td>Bioorg Med Chem Lett</td>\n",
       "      <td>2022.0</td>\n",
       "      <td>NaN</td>\n",
       "      <td>NaN</td>\n",
       "      <td>NaN</td>\n",
       "      <td>NaN</td>\n",
       "      <td>10.000000</td>\n",
       "    </tr>\n",
       "    <tr>\n",
       "      <th>34253</th>\n",
       "      <td>CHEMBL5181536</td>\n",
       "      <td>NaN</td>\n",
       "      <td>NaN</td>\n",
       "      <td>464.57</td>\n",
       "      <td>0.0</td>\n",
       "      <td>2.44</td>\n",
       "      <td>16</td>\n",
       "      <td>COC(=O)N1C[C@@H](C)N(c2ncc3[nH]nc(-c4ccc(N5CCN...</td>\n",
       "      <td>IC50</td>\n",
       "      <td>'&gt;'</td>\n",
       "      <td>...</td>\n",
       "      <td>CHEMBL5120943</td>\n",
       "      <td>1</td>\n",
       "      <td>Scientific Literature</td>\n",
       "      <td>ACS Med Chem Lett</td>\n",
       "      <td>2022.0</td>\n",
       "      <td>NaN</td>\n",
       "      <td>NaN</td>\n",
       "      <td>NaN</td>\n",
       "      <td>NaN</td>\n",
       "      <td>25.000000</td>\n",
       "    </tr>\n",
       "  </tbody>\n",
       "</table>\n",
       "<p>34254 rows × 48 columns</p>\n",
       "</div>"
      ],
      "text/plain": [
       "      Molecule ChEMBL ID Molecule Name  Molecule Max Phase  Molecular Weight  \\\n",
       "0          CHEMBL1287953           NaN                 NaN            536.04   \n",
       "1           CHEMBL256961           NaN                 NaN            327.82   \n",
       "2           CHEMBL256989           NaN                 NaN            499.44   \n",
       "3          CHEMBL1269022           NaN                 NaN            308.37   \n",
       "4          CHEMBL1586264           NaN                 NaN            353.49   \n",
       "...                  ...           ...                 ...               ...   \n",
       "34249          CHEMBL490    PAROXETINE                 4.0            329.37   \n",
       "34250       CHEMBL288441     BOSUTINIB                 4.0            530.46   \n",
       "34251           CHEMBL75           NaN                 NaN            531.44   \n",
       "34252       CHEMBL376488   BEDAQUILINE                 4.0            555.52   \n",
       "34253      CHEMBL5181536           NaN                 NaN            464.57   \n",
       "\n",
       "       #RO5 Violations  AlogP       Compound Key  \\\n",
       "0                  2.0   5.77                  2   \n",
       "1                  0.0   3.21             rac-46   \n",
       "2                  0.0   4.57                 10   \n",
       "3                  0.0   3.25         SID4253263   \n",
       "4                  0.0   3.22        SID17413171   \n",
       "...                ...    ...                ...   \n",
       "34249              0.0   3.33          Paroxetin   \n",
       "34250              2.0   5.19                  3   \n",
       "34251              1.0   4.21       Ketoconazole   \n",
       "34252              2.0   7.13  1; TMC207,R207910   \n",
       "34253              0.0   2.44                 16   \n",
       "\n",
       "                                                  Smiles Standard Type  \\\n",
       "0      CC(C)(C(=O)Nc1ccc(N2CCC3(CCN(CC4CC4)C3)CC2)c(C...           INH   \n",
       "1                  Clc1ccc2ncc(-c3cccc(NC4CCCNC4)n3)n2c1    Inhibition   \n",
       "2      O=C(Cn1c(=O)cnc2cc(Cl)c(Cl)cc21)N1CCCC(c2ccccc...          IC50   \n",
       "3                S=C(Nc1ccc2cn[nH]c2c1)Nc1ccc2cn[nH]c2c1          AC50   \n",
       "4            CC(C)(C)NS(=O)(=O)c1ccc(NC(=O)NC2CCCCC2)cc1          AC50   \n",
       "...                                                  ...           ...   \n",
       "34249      Fc1ccc([C@@H]2CCNC[C@H]2COc2ccc3c(c2)OCO3)cc1          IC50   \n",
       "34250  COc1cc(Nc2c(C#N)cnc3cc(OCCCN4CCN(C)CC4)c(OC)cc...          IC50   \n",
       "34251  CC(=O)N1CCN(c2ccc(OC[C@H]3CO[C@](Cn4ccnc4)(c4c...      Activity   \n",
       "34252  COc1nc2ccc(Br)cc2cc1[C@@H](c1ccccc1)[C@@](O)(C...          IC50   \n",
       "34253  COC(=O)N1C[C@@H](C)N(c2ncc3[nH]nc(-c4ccc(N5CCN...          IC50   \n",
       "\n",
       "      Standard Relation  ...  Document ChEMBL ID Source ID  \\\n",
       "0                   '>'  ...       CHEMBL1287792         1   \n",
       "1                   '='  ...       CHEMBL1145577         1   \n",
       "2                   '='  ...       CHEMBL1145579         1   \n",
       "3                   '='  ...       CHEMBL1201862         7   \n",
       "4                   '='  ...       CHEMBL1201862         7   \n",
       "...                 ...  ...                 ...       ...   \n",
       "34249               '='  ...       CHEMBL5390273         1   \n",
       "34250               NaN  ...       CHEMBL5370690         1   \n",
       "34251               '>'  ...       CHEMBL4823255         1   \n",
       "34252               '>'  ...       CHEMBL5113423         1   \n",
       "34253               '>'  ...       CHEMBL5120943         1   \n",
       "\n",
       "          Source Description      Document Journal Document Year  \\\n",
       "0      Scientific Literature  Bioorg Med Chem Lett        2010.0   \n",
       "1      Scientific Literature  Bioorg Med Chem Lett        2008.0   \n",
       "2      Scientific Literature  Bioorg Med Chem Lett        2008.0   \n",
       "3          PubChem BioAssays                   NaN           NaN   \n",
       "4          PubChem BioAssays                   NaN           NaN   \n",
       "...                      ...                   ...           ...   \n",
       "34249  Scientific Literature            J Med Chem        2023.0   \n",
       "34250  Scientific Literature     ACS Med Chem Lett        2023.0   \n",
       "34251  Scientific Literature        Eur J Med Chem        2021.0   \n",
       "34252  Scientific Literature  Bioorg Med Chem Lett        2022.0   \n",
       "34253  Scientific Literature     ACS Med Chem Lett        2022.0   \n",
       "\n",
       "      Cell ChEMBL ID          Properties  Action Type  Standard Text Value  \\\n",
       "0                NaN                 NaN          NaN                  NaN   \n",
       "1                NaN                 NaN          NaN                  NaN   \n",
       "2                NaN                 NaN          NaN                  NaN   \n",
       "3                NaN                 NaN          NaN                  NaN   \n",
       "4                NaN                 NaN          NaN                  NaN   \n",
       "...              ...                 ...          ...                  ...   \n",
       "34249            NaN    TIME = 0.5833 hr    INHIBITOR                  NaN   \n",
       "34250            NaN   TIME = 0.08333 hr          NaN                  NaN   \n",
       "34251            NaN  Dose = 10.0 microM          NaN                  NaN   \n",
       "34252            NaN                 NaN          NaN                  NaN   \n",
       "34253            NaN                 NaN          NaN                  NaN   \n",
       "\n",
       "            Value  \n",
       "0       10.000000  \n",
       "1        1.800000  \n",
       "2        2.900000  \n",
       "3        1.995262  \n",
       "4       17.782794  \n",
       "...           ...  \n",
       "34249    0.380000  \n",
       "34250         NaN  \n",
       "34251  100.000000  \n",
       "34252   10.000000  \n",
       "34253   25.000000  \n",
       "\n",
       "[34254 rows x 48 columns]"
      ]
     },
     "execution_count": 4,
     "metadata": {},
     "output_type": "execute_result"
    }
   ],
   "source": [
    "chembl"
   ]
  },
  {
   "cell_type": "code",
   "execution_count": 5,
   "id": "70e28a1f-fb4d-4106-a829-55557c313e1e",
   "metadata": {},
   "outputs": [
    {
     "data": {
      "text/plain": [
       "Index(['Molecule ChEMBL ID', 'Molecule Name', 'Molecule Max Phase',\n",
       "       'Molecular Weight', '#RO5 Violations', 'AlogP', 'Compound Key',\n",
       "       'Smiles', 'Standard Type', 'Standard Relation', 'Standard Value',\n",
       "       'Standard Units', 'pChEMBL Value', 'Data Validity Comment', 'Comment',\n",
       "       'Uo Units', 'Ligand Efficiency BEI', 'Ligand Efficiency LE',\n",
       "       'Ligand Efficiency LLE', 'Ligand Efficiency SEI', 'Potential Duplicate',\n",
       "       'Assay ChEMBL ID', 'Assay Description', 'Assay Type', 'BAO Format ID',\n",
       "       'BAO Label', 'Assay Organism', 'Assay Tissue ChEMBL ID',\n",
       "       'Assay Tissue Name', 'Assay Cell Type', 'Assay Subcellular Fraction',\n",
       "       'Assay Parameters', 'Assay Variant Accession', 'Assay Variant Mutation',\n",
       "       'Target ChEMBL ID', 'Target Name', 'Target Organism', 'Target Type',\n",
       "       'Document ChEMBL ID', 'Source ID', 'Source Description',\n",
       "       'Document Journal', 'Document Year', 'Cell ChEMBL ID', 'Properties',\n",
       "       'Action Type', 'Standard Text Value', 'Value'],\n",
       "      dtype='object')"
      ]
     },
     "execution_count": 5,
     "metadata": {},
     "output_type": "execute_result"
    }
   ],
   "source": [
    "chembl.columns"
   ]
  },
  {
   "cell_type": "code",
   "execution_count": 6,
   "id": "6fa3277a-5c32-468f-9a4c-f14ca555d91b",
   "metadata": {},
   "outputs": [
    {
     "data": {
      "text/plain": [
       "Data Validity Comment\n",
       "Outside typical range            197\n",
       "Potential transcription error      3\n",
       "Name: count, dtype: int64"
      ]
     },
     "execution_count": 6,
     "metadata": {},
     "output_type": "execute_result"
    }
   ],
   "source": [
    "chembl[\"Data Validity Comment\"].value_counts()"
   ]
  },
  {
   "cell_type": "code",
   "execution_count": 7,
   "id": "a9901477-19a7-4f90-87c2-5a4b53613941",
   "metadata": {},
   "outputs": [
    {
     "data": {
      "text/plain": [
       "Action Type\n",
       "INHIBITOR        586\n",
       "SUBSTRATE         35\n",
       "DEGRADER           8\n",
       "BINDING AGENT      3\n",
       "Name: count, dtype: int64"
      ]
     },
     "execution_count": 7,
     "metadata": {},
     "output_type": "execute_result"
    }
   ],
   "source": [
    "chembl[\"Action Type\"].value_counts()"
   ]
  },
  {
   "cell_type": "code",
   "execution_count": 8,
   "id": "7e3266e8-7718-405a-a766-57ebccd328fc",
   "metadata": {},
   "outputs": [
    {
     "data": {
      "text/plain": [
       "Standard Units\n",
       "nM               16210\n",
       "%                 3580\n",
       "uM                 340\n",
       "hr                  16\n",
       "pmol/min            11\n",
       "mL.min-1.g-1        11\n",
       "uL/min              11\n",
       "nmol/min            10\n",
       "min-1                9\n",
       "1/min                7\n",
       "10'-4/min            4\n",
       "%/min/pmol           4\n",
       "min                  4\n",
       "10'3ml/min           3\n",
       "/min                 3\n",
       "ug.mL-1              2\n",
       "mM                   2\n",
       "nmol                 2\n",
       "mL/min.umol          2\n",
       "ul.min.nmol-1        1\n",
       "pmol.min.mg-1        1\n",
       "Name: count, dtype: int64"
      ]
     },
     "execution_count": 8,
     "metadata": {},
     "output_type": "execute_result"
    }
   ],
   "source": [
    "chembl[\"Standard Units\"].value_counts()"
   ]
  },
  {
   "cell_type": "code",
   "execution_count": 9,
   "id": "c46b85df-5a75-4c55-ba68-0ae0b6c0c45e",
   "metadata": {},
   "outputs": [
    {
     "data": {
      "text/plain": [
       "Standard Type\n",
       "AC50                          17143\n",
       "IC50                           7694\n",
       "Potency                        3649\n",
       "Inhibition                     3187\n",
       "Ki                             1056\n",
       "Activity                        535\n",
       "INH                             291\n",
       "Drug metabolism                 188\n",
       "FC                              151\n",
       "TDI                             100\n",
       "Km                               35\n",
       "Vmax                             32\n",
       "Compound recovery                29\n",
       "EC50                             26\n",
       "Ratio IC50                       25\n",
       "CL                               23\n",
       "T1/2                             16\n",
       "IC20                             13\n",
       "Kinact                           11\n",
       "Stability                        11\n",
       "IC90                              8\n",
       "IC                                7\n",
       "Ratio                             4\n",
       "PPB                               4\n",
       "Drug uptake                       3\n",
       "Vmax/Km                           3\n",
       "PB                                2\n",
       "Control of P-450 marker           2\n",
       "Activation                        1\n",
       "Fm                                1\n",
       "Partition ratio                   1\n",
       "Ks                                1\n",
       "Retention_time                    1\n",
       "mechanism based inhibition        1\n",
       "Name: count, dtype: int64"
      ]
     },
     "execution_count": 9,
     "metadata": {},
     "output_type": "execute_result"
    }
   ],
   "source": [
    "chembl[\"Standard Type\"].value_counts()"
   ]
  },
  {
   "cell_type": "code",
   "execution_count": 10,
   "id": "ca7ce78e-b414-4035-bd57-79b5f0324035",
   "metadata": {},
   "outputs": [
    {
     "data": {
      "text/plain": [
       "<Axes: xlabel='pChEMBL Value', ylabel='Count'>"
      ]
     },
     "execution_count": 10,
     "metadata": {},
     "output_type": "execute_result"
    },
    {
     "data": {
      "image/png": "[encoded data removed]",
      "text/plain": [
       "<Figure size 640x480 with 1 Axes>"
      ]
     },
     "metadata": {},
     "output_type": "display_data"
    }
   ],
   "source": [
    "sns.histplot(data=chembl, x=\"pChEMBL Value\", hue=\"Assay Type\")"
   ]
  },
  {
   "cell_type": "code",
   "execution_count": 11,
   "id": "53ef58c1-f0b1-42b1-b799-01abaa4c5e79",
   "metadata": {},
   "outputs": [
    {
     "data": {
      "text/plain": [
       "<Axes: xlabel='Action Type', ylabel='count'>"
      ]
     },
     "execution_count": 11,
     "metadata": {},
     "output_type": "execute_result"
    },
    {
     "data": {
      "image/png": "[encoded data removed]",
      "text/plain": [
       "<Figure size 640x480 with 1 Axes>"
      ]
     },
     "metadata": {},
     "output_type": "display_data"
    }
   ],
   "source": [
    "sns.countplot(data=chembl, x=\"Action Type\")"
   ]
  },
  {
   "cell_type": "code",
   "execution_count": null,
   "id": "a9d85bb3-2754-4483-a1a1-a7d7a5799fba",
   "metadata": {},
   "outputs": [],
   "source": []
  },
  {
   "cell_type": "code",
   "execution_count": 12,
   "id": "4f708bdf-7097-4100-87e4-c045d134eed7",
   "metadata": {},
   "outputs": [
    {
     "data": {
      "text/plain": [
       "27253"
      ]
     },
     "execution_count": 12,
     "metadata": {},
     "output_type": "execute_result"
    }
   ],
   "source": [
    "n_mol = chembl[\"Molecule ChEMBL ID\"].nunique()\n",
    "n_mol"
   ]
  },
  {
   "cell_type": "code",
   "execution_count": 13,
   "id": "1bb0613e-e2f8-44d4-bd88-ae7762493226",
   "metadata": {},
   "outputs": [
    {
     "data": {
      "text/plain": [
       "3129"
      ]
     },
     "execution_count": 13,
     "metadata": {},
     "output_type": "execute_result"
    }
   ],
   "source": [
    "n_assays = chembl[\"Assay ChEMBL ID\"].nunique()\n",
    "n_assays"
   ]
  },
  {
   "cell_type": "code",
   "execution_count": 14,
   "id": "8d2fce10-94c7-43c1-a331-0108785d4061",
   "metadata": {},
   "outputs": [],
   "source": [
    "\n",
    "# from Pat Walters method\n",
    "def standardize_smiles(smiles):\n",
    "    try:\n",
    "        # follows the steps in\n",
    "        # https://github.com/greglandrum/RSC_OpenScience_Standardization_202104/blob/main/MolStandardize%20pieces.ipynb\n",
    "        # as described **excellently** (by Greg) in\n",
    "        # https://www.youtube.com/watch?v=eWTApNX8dJQ\n",
    "        mol = Chem.MolFromSmiles(smiles)\n",
    "    \n",
    "        # removeHs, disconnect metal atoms, normalize the molecule, reionize the molecule\n",
    "        clean_mol = rdMolStandardize.Cleanup(mol)\n",
    "    \n",
    "        # if many fragments, get the \"parent\" (the actual mol we are interested in) \n",
    "        parent_clean_mol = rdMolStandardize.FragmentParent(clean_mol)\n",
    "    \n",
    "        # try to neutralize molecule\n",
    "        uncharger = rdMolStandardize.Uncharger()  # annoying, but necessary as no convenience method exists\n",
    "        uncharged_parent_clean_mol = uncharger.uncharge(parent_clean_mol)\n",
    "    \n",
    "        # note that no attempt is made at reionization at this step\n",
    "        # nor at ionization at some pH (rdkit has no pKa caculator)\n",
    "        # the main aim to represent all molecules from different sources\n",
    "        # in a (single) standard way, for use in ML, catalogue, etc.\n",
    "    \n",
    "        te = rdMolStandardize.TautomerEnumerator()  # idem\n",
    "        taut_uncharged_parent_clean_mol = te.Canonicalize(uncharged_parent_clean_mol)\n",
    "    \n",
    "        return Chem.MolToSmiles(taut_uncharged_parent_clean_mol)\n",
    "    except:\n",
    "        return pd.NA"
   ]
  },
  {
   "cell_type": "code",
   "execution_count": 15,
   "id": "9b3c89e5-9417-4caf-ac38-e4df968ba11d",
   "metadata": {},
   "outputs": [],
   "source": [
    "# standardisation of SMILES\n",
    "from rdkit import Chem\n",
    "from rdkit.Chem.MolStandardize import rdMolStandardize\n",
    "from rdkit.rdBase import BlockLogs\n",
    "import mols2grid"
   ]
  },
  {
   "cell_type": "code",
   "execution_count": 16,
   "id": "eddf586c-9bfd-4244-8445-38855c678987",
   "metadata": {},
   "outputs": [
    {
     "name": "stderr",
     "output_type": "stream",
     "text": [
      "100%|█████████████████████████████████████████████████████████████████████████████████████████████████████████████████████████████████████████████| 34254/34254 [03:54<00:00, 146.05it/s]\n"
     ]
    }
   ],
   "source": [
    "\n",
    "with BlockLogs():\n",
    "    chembl[\"CANONICAL_SMILES\"] = chembl[\"Smiles\"].progress_apply(lambda x: standardize_smiles(x))"
   ]
  },
  {
   "cell_type": "code",
   "execution_count": 17,
   "id": "68f89667-e140-4125-8a93-f5c51b8f3855",
   "metadata": {},
   "outputs": [],
   "source": [
    "def smi_to_inchikey(smiles):\n",
    "    try:\n",
    "        mol = Chem.MolFromSmiles(smiles)\n",
    "        return Chem.MolToInchiKey(mol)\n",
    "    except:\n",
    "        return pd.NA"
   ]
  },
  {
   "cell_type": "code",
   "execution_count": 18,
   "id": "9a9811a3-f8e6-4e23-a950-f968dcfa732b",
   "metadata": {},
   "outputs": [
    {
     "name": "stderr",
     "output_type": "stream",
     "text": [
      "100%|████████████████████████████████████████████████████████████████████████████████████████████████████████████████████████████████████████████| 34254/34254 [00:09<00:00, 3780.10it/s]\n"
     ]
    }
   ],
   "source": [
    "# compute inchikeys\n",
    "with BlockLogs():\n",
    "    chembl[\"INCHIKEY\"] = chembl[\"CANONICAL_SMILES\"].progress_apply(lambda x: smi_to_inchikey(x))"
   ]
  },
  {
   "cell_type": "code",
   "execution_count": 19,
   "id": "aa8ecb50-bce7-44a7-bb14-fc63a4b9f0a5",
   "metadata": {},
   "outputs": [],
   "source": [
    "substrates = chembl[chembl[\"Action Type\"] == \"SUBSTRATE\"]"
   ]
  },
  {
   "cell_type": "code",
   "execution_count": 69,
   "id": "8656fea7-ef8b-478d-af34-f92b87e6d9f7",
   "metadata": {},
   "outputs": [
    {
     "data": {
      "text/plain": [
       "35"
      ]
     },
     "execution_count": 69,
     "metadata": {},
     "output_type": "execute_result"
    }
   ],
   "source": [
    "substrates.INCHIKEY.nunique()"
   ]
  },
  {
   "cell_type": "code",
   "execution_count": 71,
   "id": "a5370de0-f873-4aa2-a514-1e6e9af6630d",
   "metadata": {},
   "outputs": [
    {
     "data": {
      "text/plain": [
       "35"
      ]
     },
     "execution_count": 71,
     "metadata": {},
     "output_type": "execute_result"
    }
   ],
   "source": [
    "len(substrates.INCHIKEY)"
   ]
  },
  {
   "cell_type": "code",
   "execution_count": 76,
   "id": "0843bd7f-0659-44c2-9020-345ab39e4038",
   "metadata": {},
   "outputs": [],
   "source": [
    "# now clean up \n",
    "keep_cols = [\"CANONICAL_SMILES\", \"INCHIKEY\", \"Molecule Name\", \"Action Type\"]"
   ]
  },
  {
   "cell_type": "code",
   "execution_count": 77,
   "id": "270c564d-ad29-4924-80a0-318ead9e73dd",
   "metadata": {},
   "outputs": [
    {
     "name": "stderr",
     "output_type": "stream",
     "text": [
      "/tmp/ipykernel_65817/1475071475.py:2: SettingWithCopyWarning: \n",
      "A value is trying to be set on a copy of a slice from a DataFrame\n",
      "\n",
      "See the caveats in the documentation: https://pandas.pydata.org/pandas-docs/stable/user_guide/indexing.html#returning-a-view-versus-a-copy\n",
      "  clean_active.rename(columns={\"assay_count\":\"appears_in_N_ChEMBL_assays\", \"Molecule Name\": \"common_name\", \"Action Type\": \"action_type\"}, inplace=True)\n"
     ]
    }
   ],
   "source": [
    "clean_active = substrates[keep_cols]\n",
    "clean_active.rename(columns={\"assay_count\":\"appears_in_N_ChEMBL_assays\", \"Molecule Name\": \"common_name\", \"Action Type\": \"action_type\"}, inplace=True)\n",
    "clean_active_sorted = clean_active.sort_values([\"common_name\", \"action_type\"], ascending=[False, False]) # keep the ones with names if possible\n",
    "clean_deduped = clean_active_sorted.drop_duplicates(subset=\"INCHIKEY\", keep=\"first\")\n"
   ]
  },
  {
   "cell_type": "code",
   "execution_count": 78,
   "id": "e806934e-b397-41d5-8613-1c81a85ee368",
   "metadata": {},
   "outputs": [
    {
     "data": {
      "text/html": [
       "<div>\n",
       "<style scoped>\n",
       "    .dataframe tbody tr th:only-of-type {\n",
       "        vertical-align: middle;\n",
       "    }\n",
       "\n",
       "    .dataframe tbody tr th {\n",
       "        vertical-align: top;\n",
       "    }\n",
       "\n",
       "    .dataframe thead th {\n",
       "        text-align: right;\n",
       "    }\n",
       "</style>\n",
       "<table border=\"1\" class=\"dataframe\">\n",
       "  <thead>\n",
       "    <tr style=\"text-align: right;\">\n",
       "      <th></th>\n",
       "      <th>CANONICAL_SMILES</th>\n",
       "      <th>INCHIKEY</th>\n",
       "      <th>common_name</th>\n",
       "      <th>action_type</th>\n",
       "    </tr>\n",
       "  </thead>\n",
       "  <tbody>\n",
       "    <tr>\n",
       "      <th>2523</th>\n",
       "      <td>CNCC[C@H](Oc1cccc2ccccc12)c1cccs1</td>\n",
       "      <td>ZEUITGRIYCTCEM-KRWDZBQOSA-N</td>\n",
       "      <td>DULOXETINE</td>\n",
       "      <td>SUBSTRATE</td>\n",
       "    </tr>\n",
       "    <tr>\n",
       "      <th>2524</th>\n",
       "      <td>Cc1cccc(C)c1OCC(C)N</td>\n",
       "      <td>VLPIATFUUWWMKC-UHFFFAOYSA-N</td>\n",
       "      <td>MEXILETINE</td>\n",
       "      <td>SUBSTRATE</td>\n",
       "    </tr>\n",
       "    <tr>\n",
       "      <th>2799</th>\n",
       "      <td>CNCC[C@@H](Oc1ccccc1C)c1ccccc1</td>\n",
       "      <td>VHGCDTVCOLNTBX-QGZVFWFLSA-N</td>\n",
       "      <td>ATOMOXETINE</td>\n",
       "      <td>SUBSTRATE</td>\n",
       "    </tr>\n",
       "    <tr>\n",
       "      <th>2895</th>\n",
       "      <td>CN(C)CCC(c1ccc(Cl)cc1)c1ccccn1</td>\n",
       "      <td>SOYKEARSMXGVTM-UHFFFAOYSA-N</td>\n",
       "      <td>DEXCHLORPHENIRAMINE</td>\n",
       "      <td>SUBSTRATE</td>\n",
       "    </tr>\n",
       "    <tr>\n",
       "      <th>2896</th>\n",
       "      <td>CC(C)NC[C@@H](O)COc1cccc2ccccc12</td>\n",
       "      <td>AQHHHDLHHXJYJD-CQSZACIVSA-N</td>\n",
       "      <td>DEXPROPRANOLOL</td>\n",
       "      <td>SUBSTRATE</td>\n",
       "    </tr>\n",
       "  </tbody>\n",
       "</table>\n",
       "</div>"
      ],
      "text/plain": [
       "                       CANONICAL_SMILES                     INCHIKEY  \\\n",
       "2523  CNCC[C@H](Oc1cccc2ccccc12)c1cccs1  ZEUITGRIYCTCEM-KRWDZBQOSA-N   \n",
       "2524                Cc1cccc(C)c1OCC(C)N  VLPIATFUUWWMKC-UHFFFAOYSA-N   \n",
       "2799     CNCC[C@@H](Oc1ccccc1C)c1ccccc1  VHGCDTVCOLNTBX-QGZVFWFLSA-N   \n",
       "2895     CN(C)CCC(c1ccc(Cl)cc1)c1ccccn1  SOYKEARSMXGVTM-UHFFFAOYSA-N   \n",
       "2896   CC(C)NC[C@@H](O)COc1cccc2ccccc12  AQHHHDLHHXJYJD-CQSZACIVSA-N   \n",
       "\n",
       "              common_name action_type  \n",
       "2523           DULOXETINE   SUBSTRATE  \n",
       "2524           MEXILETINE   SUBSTRATE  \n",
       "2799          ATOMOXETINE   SUBSTRATE  \n",
       "2895  DEXCHLORPHENIRAMINE   SUBSTRATE  \n",
       "2896       DEXPROPRANOLOL   SUBSTRATE  "
      ]
     },
     "execution_count": 78,
     "metadata": {},
     "output_type": "execute_result"
    }
   ],
   "source": [
    "clean_active.head()"
   ]
  },
  {
   "cell_type": "code",
   "execution_count": 53,
   "id": "372e4bce-1c57-4dde-a400-1c140ed7252d",
   "metadata": {},
   "outputs": [
    {
     "data": {
      "text/plain": [
       "action_type\n",
       "INHIBITOR    79\n",
       "Name: count, dtype: int64"
      ]
     },
     "execution_count": 53,
     "metadata": {},
     "output_type": "execute_result"
    }
   ],
   "source": [
    "clean_deduped[\"action_type\"].value_counts()"
   ]
  },
  {
   "cell_type": "code",
   "execution_count": 83,
   "id": "14596861-cc0b-4a5d-aec2-7d7c472e5039",
   "metadata": {},
   "outputs": [],
   "source": [
    "clean_deduped[\"action_type\"] = \"substrate\""
   ]
  },
  {
   "cell_type": "code",
   "execution_count": 84,
   "id": "a96b5664-d32d-44db-b46e-afe1e4a4fd32",
   "metadata": {},
   "outputs": [
    {
     "data": {
      "text/plain": [
       "action_type\n",
       "substrate    35\n",
       "Name: count, dtype: int64"
      ]
     },
     "execution_count": 84,
     "metadata": {},
     "output_type": "execute_result"
    }
   ],
   "source": [
    "clean_deduped[\"action_type\"].value_counts()"
   ]
  },
  {
   "cell_type": "code",
   "execution_count": 85,
   "id": "da70c9d9-af88-4a10-9da8-501b42d00019",
   "metadata": {},
   "outputs": [],
   "source": [
    "clean_deduped[\"dataset\"] = \"ChEMBL_curated\"\n",
    "clean_deduped[\"active\"] = True"
   ]
  },
  {
   "cell_type": "code",
   "execution_count": 86,
   "id": "79e057f0-8602-48c2-ad8c-3ff86ff8c753",
   "metadata": {},
   "outputs": [],
   "source": [
    "clean_deduped.to_csv(\"processed/chembl_active.csv\", index=False)"
   ]
  }
 ],
 "metadata": {
  "kernelspec": {
   "display_name": "Python 3 (ipykernel)",
   "language": "python",
   "name": "python3"
  },
  "language_info": {
   "codemirror_mode": {
    "name": "ipython",
    "version": 3
   },
   "file_extension": ".py",
   "mimetype": "text/x-python",
   "name": "python",
   "nbconvert_exporter": "python",
   "pygments_lexer": "ipython3",
   "version": "3.12.7"
  }
 },
 "nbformat": 4,
 "nbformat_minor": 5
}
