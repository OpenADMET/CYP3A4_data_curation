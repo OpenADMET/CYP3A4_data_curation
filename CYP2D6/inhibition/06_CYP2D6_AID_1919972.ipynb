{
 "cells": [
  {
   "cell_type": "code",
   "execution_count": 1,
   "id": "c1db7db6-9e38-4e24-be4c-565b76facc3d",
   "metadata": {},
   "outputs": [],
   "source": [
    "import pandas as pd\n",
    "from rdkit import Chem\n",
    "import seaborn as sns\n",
    "from tqdm import tqdm\n",
    "import numpy as np"
   ]
  },
  {
   "cell_type": "code",
   "execution_count": 2,
   "id": "53a043ee-f172-4621-aafd-15a8bef25a1d",
   "metadata": {},
   "outputs": [],
   "source": [
    "tqdm.pandas()\n"
   ]
  },
  {
   "cell_type": "markdown",
   "id": "dfd592de-3406-48c5-a106-cc1beb872a74",
   "metadata": {},
   "source": [
    "# PubChem AID \t1919972\n",
    "\n",
    "## Assay info\n",
    "\n",
    "Dietary Supplements and Natural Products have minor oversight of their safety and efficacy. We assembled a collection of Dietary Supplements and Natural Products (DSNP) as well as Traditional Chinese Medicinal (TCM) Plant extracts, which were screened against an in vitro panel of assays, including a liver cytochrome p450 enzyme panel, CAR/PXR signaling pathways, and P-gp transporter assays, to assess their activity. This pipeline facilitated the interrogation of Natural Product-Drug Interaction (NaPDI) through prominent metabolizing pathways. In addition, we compared the activity profiles of the DSNP/TCM substances with those of an approved drug collection. Many of the approved drugs have well-annotated mechanisms of action (MOA) while the MOAs for most of the DSNP and TCM samples remain unknown. Based on the premise that compounds with similar activity profiles tend to share similar targets or MOA, we clustered the library activity profiles to identify overlap with the NCATS Pharmaceutical Collection to predict the MOAs of the DSNP/TCM substances. Overall, we highlight four significant bioactivity profiles (measured by p-values) as examples of this prediction. To assess broad cytotoxicity, we employed screening against a HepG2 cell line. In addition, transporter-mediated drug interactions are utilized in the characterization of DDIs using a P-glycoprotein (P-gp) assays [1]. To profile potential P-gp activity, a differential cell viability was measured against two cell lines: a parental KB-3-1 human cervical adenocarcinoma cell line and the drug-resistant subline KB-8-5-11 that overexpresses P-gp.\n",
    "\n",
    "\n",
    "Modulation of CAR and PXR have been shown to cause up/down regulation of CYP enzymes at the mRNA, protein, and activity levels. To this end, we profiled both collections for potential CAR and/or PXR activity, employing a previously published 1536-well qHTS assay. These results can be used as a starting point for further exploration on the toxicity potential and clinical relevance of these substances.\n",
    "\n",
    "\n",
    "Reference:[1] Lee TD, et al. A High-Throughput Screen of a Library of Therapeutics Identifies Cytotoxic Substrates of P-glycoprotein. Mol Pharmacol. Nov 2019;96(5):629-640. doi:10.1124/mol.119.115964"
   ]
  },
  {
   "cell_type": "code",
   "execution_count": 3,
   "id": "c03fe7d6-680b-4472-9d4d-1af8b64a0e2b",
   "metadata": {},
   "outputs": [],
   "source": [
    "df = pd.read_csv(\"PubChem_AID_1919972/AID_1919972_datatable_all.csv\")"
   ]
  },
  {
   "cell_type": "code",
   "execution_count": 4,
   "id": "8853bcfe-864f-4837-8cb5-533947a6e0f3",
   "metadata": {},
   "outputs": [
    {
     "data": {
      "text/plain": [
       "['PUBCHEM_RESULT_TAG',\n",
       " 'PUBCHEM_SID',\n",
       " 'PUBCHEM_CID',\n",
       " 'PUBCHEM_EXT_DATASOURCE_SMILES',\n",
       " 'PUBCHEM_ACTIVITY_OUTCOME',\n",
       " 'PUBCHEM_ACTIVITY_SCORE',\n",
       " 'PUBCHEM_ACTIVITY_URL',\n",
       " 'PUBCHEM_ASSAYDATA_COMMENT',\n",
       " 'Phenotype',\n",
       " 'Potency',\n",
       " 'Efficacy',\n",
       " 'Analysis Comment',\n",
       " 'Activity_Score',\n",
       " 'Curve_Description',\n",
       " 'Fit_LogAC50',\n",
       " 'Fit_HillSlope',\n",
       " 'Fit_R2',\n",
       " 'Fit_InfiniteActivity',\n",
       " 'Fit_ZeroActivity',\n",
       " 'Fit_CurveClass',\n",
       " 'Excluded_Points',\n",
       " 'Max_Response',\n",
       " 'Activity at 0.0003320000 uM',\n",
       " 'Activity at 0.0009960000 uM',\n",
       " 'Activity at 0.00191 uM',\n",
       " 'Activity at 0.00299 uM',\n",
       " 'Activity at 0.00678 uM',\n",
       " 'Activity at 0.00903 uM',\n",
       " 'Activity at 0.025 uM',\n",
       " 'Activity at 0.039 uM',\n",
       " 'Activity at 0.081 uM',\n",
       " 'Activity at 0.162 uM',\n",
       " 'Activity at 0.263 uM',\n",
       " 'Activity at 0.702 uM',\n",
       " 'Activity at 1.291 uM',\n",
       " 'Activity at 2.222 uM',\n",
       " 'Activity at 4.274 uM',\n",
       " 'Activity at 7.106 uM',\n",
       " 'Activity at 18.80 uM',\n",
       " 'Activity at 34.14 uM',\n",
       " 'Activity at 58.33 uM',\n",
       " 'Activity at 103.6 uM',\n",
       " 'Activity at 207.7 uM',\n",
       " 'Activity at 483.1 uM',\n",
       " 'Activity at 966.3 uM',\n",
       " 'Activity at 1932.0 uM',\n",
       " 'Activity at 3487.5 uM',\n",
       " 'Activity at 3920.0 uM',\n",
       " 'Compound QC']"
      ]
     },
     "execution_count": 4,
     "metadata": {},
     "output_type": "execute_result"
    }
   ],
   "source": [
    "list(df.columns)"
   ]
  },
  {
   "cell_type": "code",
   "execution_count": 5,
   "id": "1b1d5290-741a-4384-8054-bf8e3bba8f05",
   "metadata": {},
   "outputs": [
    {
     "data": {
      "text/html": [
       "<div>\n",
       "<style scoped>\n",
       "    .dataframe tbody tr th:only-of-type {\n",
       "        vertical-align: middle;\n",
       "    }\n",
       "\n",
       "    .dataframe tbody tr th {\n",
       "        vertical-align: top;\n",
       "    }\n",
       "\n",
       "    .dataframe thead th {\n",
       "        text-align: right;\n",
       "    }\n",
       "</style>\n",
       "<table border=\"1\" class=\"dataframe\">\n",
       "  <thead>\n",
       "    <tr style=\"text-align: right;\">\n",
       "      <th></th>\n",
       "      <th>PUBCHEM_RESULT_TAG</th>\n",
       "      <th>PUBCHEM_SID</th>\n",
       "      <th>PUBCHEM_CID</th>\n",
       "      <th>PUBCHEM_EXT_DATASOURCE_SMILES</th>\n",
       "      <th>PUBCHEM_ACTIVITY_OUTCOME</th>\n",
       "      <th>PUBCHEM_ACTIVITY_SCORE</th>\n",
       "      <th>PUBCHEM_ACTIVITY_URL</th>\n",
       "      <th>PUBCHEM_ASSAYDATA_COMMENT</th>\n",
       "      <th>Phenotype</th>\n",
       "      <th>Potency</th>\n",
       "      <th>...</th>\n",
       "      <th>Activity at 34.14 uM</th>\n",
       "      <th>Activity at 58.33 uM</th>\n",
       "      <th>Activity at 103.6 uM</th>\n",
       "      <th>Activity at 207.7 uM</th>\n",
       "      <th>Activity at 483.1 uM</th>\n",
       "      <th>Activity at 966.3 uM</th>\n",
       "      <th>Activity at 1932.0 uM</th>\n",
       "      <th>Activity at 3487.5 uM</th>\n",
       "      <th>Activity at 3920.0 uM</th>\n",
       "      <th>Compound QC</th>\n",
       "    </tr>\n",
       "  </thead>\n",
       "  <tbody>\n",
       "    <tr>\n",
       "      <th>0</th>\n",
       "      <td>RESULT_TYPE</td>\n",
       "      <td>NaN</td>\n",
       "      <td>NaN</td>\n",
       "      <td>NaN</td>\n",
       "      <td>NaN</td>\n",
       "      <td>NaN</td>\n",
       "      <td>NaN</td>\n",
       "      <td>NaN</td>\n",
       "      <td>STRING</td>\n",
       "      <td>FLOAT</td>\n",
       "      <td>...</td>\n",
       "      <td>FLOAT</td>\n",
       "      <td>FLOAT</td>\n",
       "      <td>FLOAT</td>\n",
       "      <td>FLOAT</td>\n",
       "      <td>FLOAT</td>\n",
       "      <td>FLOAT</td>\n",
       "      <td>FLOAT</td>\n",
       "      <td>FLOAT</td>\n",
       "      <td>FLOAT</td>\n",
       "      <td>STRING</td>\n",
       "    </tr>\n",
       "    <tr>\n",
       "      <th>1</th>\n",
       "      <td>RESULT_DESCR</td>\n",
       "      <td>NaN</td>\n",
       "      <td>NaN</td>\n",
       "      <td>NaN</td>\n",
       "      <td>NaN</td>\n",
       "      <td>NaN</td>\n",
       "      <td>NaN</td>\n",
       "      <td>NaN</td>\n",
       "      <td>Indicates type of activity observed: inhibitor...</td>\n",
       "      <td>Concentration at which compound exhibits half-...</td>\n",
       "      <td>...</td>\n",
       "      <td>% Activity at given concentration.</td>\n",
       "      <td>% Activity at given concentration.</td>\n",
       "      <td>% Activity at given concentration.</td>\n",
       "      <td>% Activity at given concentration.</td>\n",
       "      <td>% Activity at given concentration.</td>\n",
       "      <td>% Activity at given concentration.</td>\n",
       "      <td>% Activity at given concentration.</td>\n",
       "      <td>% Activity at given concentration.</td>\n",
       "      <td>% Activity at given concentration.</td>\n",
       "      <td>NCGC designation for compound QC</td>\n",
       "    </tr>\n",
       "    <tr>\n",
       "      <th>2</th>\n",
       "      <td>RESULT_UNIT</td>\n",
       "      <td>NaN</td>\n",
       "      <td>NaN</td>\n",
       "      <td>NaN</td>\n",
       "      <td>NaN</td>\n",
       "      <td>NaN</td>\n",
       "      <td>NaN</td>\n",
       "      <td>NaN</td>\n",
       "      <td>NaN</td>\n",
       "      <td>MICROMOLAR</td>\n",
       "      <td>...</td>\n",
       "      <td>PERCENT</td>\n",
       "      <td>PERCENT</td>\n",
       "      <td>PERCENT</td>\n",
       "      <td>PERCENT</td>\n",
       "      <td>PERCENT</td>\n",
       "      <td>PERCENT</td>\n",
       "      <td>PERCENT</td>\n",
       "      <td>PERCENT</td>\n",
       "      <td>PERCENT</td>\n",
       "      <td>NaN</td>\n",
       "    </tr>\n",
       "    <tr>\n",
       "      <th>3</th>\n",
       "      <td>RESULT_IS_ACTIVE_CONCENTRATION</td>\n",
       "      <td>NaN</td>\n",
       "      <td>NaN</td>\n",
       "      <td>NaN</td>\n",
       "      <td>NaN</td>\n",
       "      <td>NaN</td>\n",
       "      <td>NaN</td>\n",
       "      <td>NaN</td>\n",
       "      <td>NaN</td>\n",
       "      <td>TRUE</td>\n",
       "      <td>...</td>\n",
       "      <td>NaN</td>\n",
       "      <td>NaN</td>\n",
       "      <td>NaN</td>\n",
       "      <td>NaN</td>\n",
       "      <td>NaN</td>\n",
       "      <td>NaN</td>\n",
       "      <td>NaN</td>\n",
       "      <td>NaN</td>\n",
       "      <td>NaN</td>\n",
       "      <td>NaN</td>\n",
       "    </tr>\n",
       "    <tr>\n",
       "      <th>4</th>\n",
       "      <td>RESULT_ATTR_CONC_MICROMOL</td>\n",
       "      <td>NaN</td>\n",
       "      <td>NaN</td>\n",
       "      <td>NaN</td>\n",
       "      <td>NaN</td>\n",
       "      <td>NaN</td>\n",
       "      <td>NaN</td>\n",
       "      <td>NaN</td>\n",
       "      <td>NaN</td>\n",
       "      <td>NaN</td>\n",
       "      <td>...</td>\n",
       "      <td>34.1385</td>\n",
       "      <td>58.3308</td>\n",
       "      <td>103.599</td>\n",
       "      <td>207.708</td>\n",
       "      <td>483.142</td>\n",
       "      <td>966.28</td>\n",
       "      <td>1932.03</td>\n",
       "      <td>3487.47</td>\n",
       "      <td>3920</td>\n",
       "      <td>NaN</td>\n",
       "    </tr>\n",
       "  </tbody>\n",
       "</table>\n",
       "<p>5 rows × 49 columns</p>\n",
       "</div>"
      ],
      "text/plain": [
       "               PUBCHEM_RESULT_TAG  PUBCHEM_SID  PUBCHEM_CID  \\\n",
       "0                     RESULT_TYPE          NaN          NaN   \n",
       "1                    RESULT_DESCR          NaN          NaN   \n",
       "2                     RESULT_UNIT          NaN          NaN   \n",
       "3  RESULT_IS_ACTIVE_CONCENTRATION          NaN          NaN   \n",
       "4       RESULT_ATTR_CONC_MICROMOL          NaN          NaN   \n",
       "\n",
       "  PUBCHEM_EXT_DATASOURCE_SMILES PUBCHEM_ACTIVITY_OUTCOME  \\\n",
       "0                           NaN                      NaN   \n",
       "1                           NaN                      NaN   \n",
       "2                           NaN                      NaN   \n",
       "3                           NaN                      NaN   \n",
       "4                           NaN                      NaN   \n",
       "\n",
       "   PUBCHEM_ACTIVITY_SCORE PUBCHEM_ACTIVITY_URL  PUBCHEM_ASSAYDATA_COMMENT  \\\n",
       "0                     NaN                  NaN                        NaN   \n",
       "1                     NaN                  NaN                        NaN   \n",
       "2                     NaN                  NaN                        NaN   \n",
       "3                     NaN                  NaN                        NaN   \n",
       "4                     NaN                  NaN                        NaN   \n",
       "\n",
       "                                           Phenotype  \\\n",
       "0                                             STRING   \n",
       "1  Indicates type of activity observed: inhibitor...   \n",
       "2                                                NaN   \n",
       "3                                                NaN   \n",
       "4                                                NaN   \n",
       "\n",
       "                                             Potency  ...  \\\n",
       "0                                              FLOAT  ...   \n",
       "1  Concentration at which compound exhibits half-...  ...   \n",
       "2                                         MICROMOLAR  ...   \n",
       "3                                               TRUE  ...   \n",
       "4                                                NaN  ...   \n",
       "\n",
       "                 Activity at 34.14 uM                Activity at 58.33 uM  \\\n",
       "0                               FLOAT                               FLOAT   \n",
       "1  % Activity at given concentration.  % Activity at given concentration.   \n",
       "2                             PERCENT                             PERCENT   \n",
       "3                                 NaN                                 NaN   \n",
       "4                             34.1385                             58.3308   \n",
       "\n",
       "                 Activity at 103.6 uM                Activity at 207.7 uM  \\\n",
       "0                               FLOAT                               FLOAT   \n",
       "1  % Activity at given concentration.  % Activity at given concentration.   \n",
       "2                             PERCENT                             PERCENT   \n",
       "3                                 NaN                                 NaN   \n",
       "4                             103.599                             207.708   \n",
       "\n",
       "                 Activity at 483.1 uM                Activity at 966.3 uM  \\\n",
       "0                               FLOAT                               FLOAT   \n",
       "1  % Activity at given concentration.  % Activity at given concentration.   \n",
       "2                             PERCENT                             PERCENT   \n",
       "3                                 NaN                                 NaN   \n",
       "4                             483.142                              966.28   \n",
       "\n",
       "                Activity at 1932.0 uM               Activity at 3487.5 uM  \\\n",
       "0                               FLOAT                               FLOAT   \n",
       "1  % Activity at given concentration.  % Activity at given concentration.   \n",
       "2                             PERCENT                             PERCENT   \n",
       "3                                 NaN                                 NaN   \n",
       "4                             1932.03                             3487.47   \n",
       "\n",
       "                Activity at 3920.0 uM                       Compound QC  \n",
       "0                               FLOAT                            STRING  \n",
       "1  % Activity at given concentration.  NCGC designation for compound QC  \n",
       "2                             PERCENT                               NaN  \n",
       "3                                 NaN                               NaN  \n",
       "4                                3920                               NaN  \n",
       "\n",
       "[5 rows x 49 columns]"
      ]
     },
     "execution_count": 5,
     "metadata": {},
     "output_type": "execute_result"
    }
   ],
   "source": [
    "# first 5 rows are metadata \n",
    "df[0:5]"
   ]
  },
  {
   "cell_type": "code",
   "execution_count": 6,
   "id": "d6616fa5-8468-4141-8f4d-b852bb3a4e98",
   "metadata": {},
   "outputs": [],
   "source": [
    "    df = df.drop(labels=list(range(0, 5)), axis=0).reset_index(\n",
    "        drop=True\n",
    "    )"
   ]
  },
  {
   "cell_type": "code",
   "execution_count": 7,
   "id": "b720283f-a3df-420d-ab9c-48f52290cb4b",
   "metadata": {},
   "outputs": [
    {
     "data": {
      "text/html": [
       "<div>\n",
       "<style scoped>\n",
       "    .dataframe tbody tr th:only-of-type {\n",
       "        vertical-align: middle;\n",
       "    }\n",
       "\n",
       "    .dataframe tbody tr th {\n",
       "        vertical-align: top;\n",
       "    }\n",
       "\n",
       "    .dataframe thead th {\n",
       "        text-align: right;\n",
       "    }\n",
       "</style>\n",
       "<table border=\"1\" class=\"dataframe\">\n",
       "  <thead>\n",
       "    <tr style=\"text-align: right;\">\n",
       "      <th></th>\n",
       "      <th>PUBCHEM_RESULT_TAG</th>\n",
       "      <th>PUBCHEM_SID</th>\n",
       "      <th>PUBCHEM_CID</th>\n",
       "      <th>PUBCHEM_EXT_DATASOURCE_SMILES</th>\n",
       "      <th>PUBCHEM_ACTIVITY_OUTCOME</th>\n",
       "      <th>PUBCHEM_ACTIVITY_SCORE</th>\n",
       "      <th>PUBCHEM_ACTIVITY_URL</th>\n",
       "      <th>PUBCHEM_ASSAYDATA_COMMENT</th>\n",
       "      <th>Phenotype</th>\n",
       "      <th>Potency</th>\n",
       "      <th>...</th>\n",
       "      <th>Activity at 34.14 uM</th>\n",
       "      <th>Activity at 58.33 uM</th>\n",
       "      <th>Activity at 103.6 uM</th>\n",
       "      <th>Activity at 207.7 uM</th>\n",
       "      <th>Activity at 483.1 uM</th>\n",
       "      <th>Activity at 966.3 uM</th>\n",
       "      <th>Activity at 1932.0 uM</th>\n",
       "      <th>Activity at 3487.5 uM</th>\n",
       "      <th>Activity at 3920.0 uM</th>\n",
       "      <th>Compound QC</th>\n",
       "    </tr>\n",
       "  </thead>\n",
       "  <tbody>\n",
       "    <tr>\n",
       "      <th>0</th>\n",
       "      <td>1</td>\n",
       "      <td>472319572.0</td>\n",
       "      <td>NaN</td>\n",
       "      <td>NaN</td>\n",
       "      <td>Active</td>\n",
       "      <td>88.0</td>\n",
       "      <td>http://assay.nih.gov/htsws/rest/display/DSHEA-...</td>\n",
       "      <td>NaN</td>\n",
       "      <td>Inhibitor</td>\n",
       "      <td>1122.02</td>\n",
       "      <td>...</td>\n",
       "      <td>-3.8038</td>\n",
       "      <td>-3.3387</td>\n",
       "      <td>-4.7907</td>\n",
       "      <td>-7.7155</td>\n",
       "      <td>-18.5468</td>\n",
       "      <td>-41.2991</td>\n",
       "      <td>-80.4912</td>\n",
       "      <td>NaN</td>\n",
       "      <td>-88.4137</td>\n",
       "      <td>QC'd by Spectrum Chemical</td>\n",
       "    </tr>\n",
       "    <tr>\n",
       "      <th>1</th>\n",
       "      <td>2</td>\n",
       "      <td>170466682.0</td>\n",
       "      <td>10212.0</td>\n",
       "      <td>CC(=CCOC1=C2C(=CC3=C1OC=C3)C=CC(=O)O2)C</td>\n",
       "      <td>Active</td>\n",
       "      <td>86.0</td>\n",
       "      <td>http://assay.nih.gov/htsws/rest/display/DSHEA-...</td>\n",
       "      <td>NaN</td>\n",
       "      <td>Inhibitor</td>\n",
       "      <td>1.7783</td>\n",
       "      <td>...</td>\n",
       "      <td>-65.0202</td>\n",
       "      <td>NaN</td>\n",
       "      <td>NaN</td>\n",
       "      <td>NaN</td>\n",
       "      <td>NaN</td>\n",
       "      <td>NaN</td>\n",
       "      <td>NaN</td>\n",
       "      <td>NaN</td>\n",
       "      <td>NaN</td>\n",
       "      <td>QC'd by Specs</td>\n",
       "    </tr>\n",
       "    <tr>\n",
       "      <th>2</th>\n",
       "      <td>3</td>\n",
       "      <td>26756953.0</td>\n",
       "      <td>5281654.0</td>\n",
       "      <td>COC1=C(C=CC(=C1)C2=C(C(=O)C3=C(C=C(C=C3O2)O)O)O)O</td>\n",
       "      <td>Active</td>\n",
       "      <td>84.0</td>\n",
       "      <td>http://assay.nih.gov/htsws/rest/display/DSHEA-...</td>\n",
       "      <td>NaN</td>\n",
       "      <td>Inhibitor</td>\n",
       "      <td>4.4668</td>\n",
       "      <td>...</td>\n",
       "      <td>-68.6124</td>\n",
       "      <td>NaN</td>\n",
       "      <td>NaN</td>\n",
       "      <td>NaN</td>\n",
       "      <td>NaN</td>\n",
       "      <td>NaN</td>\n",
       "      <td>NaN</td>\n",
       "      <td>NaN</td>\n",
       "      <td>NaN</td>\n",
       "      <td>QC'd by BIOMOL</td>\n",
       "    </tr>\n",
       "    <tr>\n",
       "      <th>3</th>\n",
       "      <td>4</td>\n",
       "      <td>472319437.0</td>\n",
       "      <td>2353.0</td>\n",
       "      <td>COC1=C(C2=C[N+]3=C(C=C2C=C1)C4=CC5=C(C=C4CC3)O...</td>\n",
       "      <td>Active</td>\n",
       "      <td>84.0</td>\n",
       "      <td>http://assay.nih.gov/htsws/rest/display/DSHEA-...</td>\n",
       "      <td>NaN</td>\n",
       "      <td>Inhibitor</td>\n",
       "      <td>2.2387</td>\n",
       "      <td>...</td>\n",
       "      <td>-69.1194</td>\n",
       "      <td>NaN</td>\n",
       "      <td>NaN</td>\n",
       "      <td>NaN</td>\n",
       "      <td>NaN</td>\n",
       "      <td>NaN</td>\n",
       "      <td>NaN</td>\n",
       "      <td>NaN</td>\n",
       "      <td>NaN</td>\n",
       "      <td>QC'd by Selleck</td>\n",
       "    </tr>\n",
       "    <tr>\n",
       "      <th>4</th>\n",
       "      <td>5</td>\n",
       "      <td>472319538.0</td>\n",
       "      <td>NaN</td>\n",
       "      <td>NaN</td>\n",
       "      <td>Active</td>\n",
       "      <td>84.0</td>\n",
       "      <td>http://assay.nih.gov/htsws/rest/display/DSHEA-...</td>\n",
       "      <td>NaN</td>\n",
       "      <td>Inhibitor</td>\n",
       "      <td>251.189</td>\n",
       "      <td>...</td>\n",
       "      <td>-0.6599</td>\n",
       "      <td>-4.8562</td>\n",
       "      <td>-19.8587</td>\n",
       "      <td>-47.1855</td>\n",
       "      <td>-69.3997</td>\n",
       "      <td>-78.4311</td>\n",
       "      <td>-80.2799</td>\n",
       "      <td>NaN</td>\n",
       "      <td>-80.81</td>\n",
       "      <td>QC'd by Spectrum Chemical</td>\n",
       "    </tr>\n",
       "    <tr>\n",
       "      <th>5</th>\n",
       "      <td>6</td>\n",
       "      <td>471431003.0</td>\n",
       "      <td>NaN</td>\n",
       "      <td>NaN</td>\n",
       "      <td>Active</td>\n",
       "      <td>83.0</td>\n",
       "      <td>http://assay.nih.gov/htsws/rest/display/DSHEA-...</td>\n",
       "      <td>NaN</td>\n",
       "      <td>Inhibitor</td>\n",
       "      <td>5.9616</td>\n",
       "      <td>...</td>\n",
       "      <td>NaN</td>\n",
       "      <td>-80.2142</td>\n",
       "      <td>NaN</td>\n",
       "      <td>NaN</td>\n",
       "      <td>NaN</td>\n",
       "      <td>NaN</td>\n",
       "      <td>NaN</td>\n",
       "      <td>NaN</td>\n",
       "      <td>NaN</td>\n",
       "      <td>QC'd by NCI-NPB</td>\n",
       "    </tr>\n",
       "    <tr>\n",
       "      <th>6</th>\n",
       "      <td>7</td>\n",
       "      <td>471431147.0</td>\n",
       "      <td>NaN</td>\n",
       "      <td>NaN</td>\n",
       "      <td>Active</td>\n",
       "      <td>82.0</td>\n",
       "      <td>http://assay.nih.gov/htsws/rest/display/DSHEA-...</td>\n",
       "      <td>NaN</td>\n",
       "      <td>Inhibitor</td>\n",
       "      <td>11.895</td>\n",
       "      <td>...</td>\n",
       "      <td>NaN</td>\n",
       "      <td>-83.743</td>\n",
       "      <td>NaN</td>\n",
       "      <td>NaN</td>\n",
       "      <td>NaN</td>\n",
       "      <td>NaN</td>\n",
       "      <td>NaN</td>\n",
       "      <td>NaN</td>\n",
       "      <td>NaN</td>\n",
       "      <td>QC'd by NCI-NPB</td>\n",
       "    </tr>\n",
       "    <tr>\n",
       "      <th>7</th>\n",
       "      <td>8</td>\n",
       "      <td>472319561.0</td>\n",
       "      <td>NaN</td>\n",
       "      <td>NaN</td>\n",
       "      <td>Active</td>\n",
       "      <td>82.0</td>\n",
       "      <td>http://assay.nih.gov/htsws/rest/display/DSHEA-...</td>\n",
       "      <td>NaN</td>\n",
       "      <td>Inhibitor</td>\n",
       "      <td>158.489</td>\n",
       "      <td>...</td>\n",
       "      <td>1.0867</td>\n",
       "      <td>-3.7641</td>\n",
       "      <td>-10.4462</td>\n",
       "      <td>-42.9214</td>\n",
       "      <td>-65.4924</td>\n",
       "      <td>-72.8875</td>\n",
       "      <td>-67.5188</td>\n",
       "      <td>NaN</td>\n",
       "      <td>-59.0497</td>\n",
       "      <td>QC'd by Spectrum Chemical</td>\n",
       "    </tr>\n",
       "    <tr>\n",
       "      <th>8</th>\n",
       "      <td>9</td>\n",
       "      <td>472319581.0</td>\n",
       "      <td>NaN</td>\n",
       "      <td>NaN</td>\n",
       "      <td>Active</td>\n",
       "      <td>82.0</td>\n",
       "      <td>http://assay.nih.gov/htsws/rest/display/DSHEA-...</td>\n",
       "      <td>NaN</td>\n",
       "      <td>Inhibitor</td>\n",
       "      <td>100</td>\n",
       "      <td>...</td>\n",
       "      <td>-5.8364</td>\n",
       "      <td>-21.0583</td>\n",
       "      <td>-34.2378</td>\n",
       "      <td>-61.2165</td>\n",
       "      <td>-61.555</td>\n",
       "      <td>-73.796</td>\n",
       "      <td>-76.895</td>\n",
       "      <td>NaN</td>\n",
       "      <td>-72.7384</td>\n",
       "      <td>QC'd by Spectrum Chemical</td>\n",
       "    </tr>\n",
       "    <tr>\n",
       "      <th>9</th>\n",
       "      <td>10</td>\n",
       "      <td>472319438.0</td>\n",
       "      <td>441975.0</td>\n",
       "      <td>C[C@H]1[C@H]2CN3CCC4=C([C@@H]3C[C@@H]2C(=CO1)C...</td>\n",
       "      <td>Active</td>\n",
       "      <td>72.0</td>\n",
       "      <td>http://assay.nih.gov/htsws/rest/display/DSHEA-...</td>\n",
       "      <td>NaN</td>\n",
       "      <td>Inhibitor</td>\n",
       "      <td>0.0398</td>\n",
       "      <td>...</td>\n",
       "      <td>-86.9486</td>\n",
       "      <td>NaN</td>\n",
       "      <td>NaN</td>\n",
       "      <td>NaN</td>\n",
       "      <td>NaN</td>\n",
       "      <td>NaN</td>\n",
       "      <td>NaN</td>\n",
       "      <td>NaN</td>\n",
       "      <td>NaN</td>\n",
       "      <td>QC'd by Prestwick</td>\n",
       "    </tr>\n",
       "  </tbody>\n",
       "</table>\n",
       "<p>10 rows × 49 columns</p>\n",
       "</div>"
      ],
      "text/plain": [
       "  PUBCHEM_RESULT_TAG  PUBCHEM_SID  PUBCHEM_CID  \\\n",
       "0                  1  472319572.0          NaN   \n",
       "1                  2  170466682.0      10212.0   \n",
       "2                  3   26756953.0    5281654.0   \n",
       "3                  4  472319437.0       2353.0   \n",
       "4                  5  472319538.0          NaN   \n",
       "5                  6  471431003.0          NaN   \n",
       "6                  7  471431147.0          NaN   \n",
       "7                  8  472319561.0          NaN   \n",
       "8                  9  472319581.0          NaN   \n",
       "9                 10  472319438.0     441975.0   \n",
       "\n",
       "                       PUBCHEM_EXT_DATASOURCE_SMILES PUBCHEM_ACTIVITY_OUTCOME  \\\n",
       "0                                                NaN                   Active   \n",
       "1            CC(=CCOC1=C2C(=CC3=C1OC=C3)C=CC(=O)O2)C                   Active   \n",
       "2  COC1=C(C=CC(=C1)C2=C(C(=O)C3=C(C=C(C=C3O2)O)O)O)O                   Active   \n",
       "3  COC1=C(C2=C[N+]3=C(C=C2C=C1)C4=CC5=C(C=C4CC3)O...                   Active   \n",
       "4                                                NaN                   Active   \n",
       "5                                                NaN                   Active   \n",
       "6                                                NaN                   Active   \n",
       "7                                                NaN                   Active   \n",
       "8                                                NaN                   Active   \n",
       "9  C[C@H]1[C@H]2CN3CCC4=C([C@@H]3C[C@@H]2C(=CO1)C...                   Active   \n",
       "\n",
       "   PUBCHEM_ACTIVITY_SCORE                               PUBCHEM_ACTIVITY_URL  \\\n",
       "0                    88.0  http://assay.nih.gov/htsws/rest/display/DSHEA-...   \n",
       "1                    86.0  http://assay.nih.gov/htsws/rest/display/DSHEA-...   \n",
       "2                    84.0  http://assay.nih.gov/htsws/rest/display/DSHEA-...   \n",
       "3                    84.0  http://assay.nih.gov/htsws/rest/display/DSHEA-...   \n",
       "4                    84.0  http://assay.nih.gov/htsws/rest/display/DSHEA-...   \n",
       "5                    83.0  http://assay.nih.gov/htsws/rest/display/DSHEA-...   \n",
       "6                    82.0  http://assay.nih.gov/htsws/rest/display/DSHEA-...   \n",
       "7                    82.0  http://assay.nih.gov/htsws/rest/display/DSHEA-...   \n",
       "8                    82.0  http://assay.nih.gov/htsws/rest/display/DSHEA-...   \n",
       "9                    72.0  http://assay.nih.gov/htsws/rest/display/DSHEA-...   \n",
       "\n",
       "   PUBCHEM_ASSAYDATA_COMMENT  Phenotype  Potency  ... Activity at 34.14 uM  \\\n",
       "0                        NaN  Inhibitor  1122.02  ...              -3.8038   \n",
       "1                        NaN  Inhibitor   1.7783  ...             -65.0202   \n",
       "2                        NaN  Inhibitor   4.4668  ...             -68.6124   \n",
       "3                        NaN  Inhibitor   2.2387  ...             -69.1194   \n",
       "4                        NaN  Inhibitor  251.189  ...              -0.6599   \n",
       "5                        NaN  Inhibitor   5.9616  ...                  NaN   \n",
       "6                        NaN  Inhibitor   11.895  ...                  NaN   \n",
       "7                        NaN  Inhibitor  158.489  ...               1.0867   \n",
       "8                        NaN  Inhibitor      100  ...              -5.8364   \n",
       "9                        NaN  Inhibitor   0.0398  ...             -86.9486   \n",
       "\n",
       "  Activity at 58.33 uM Activity at 103.6 uM Activity at 207.7 uM  \\\n",
       "0              -3.3387              -4.7907              -7.7155   \n",
       "1                  NaN                  NaN                  NaN   \n",
       "2                  NaN                  NaN                  NaN   \n",
       "3                  NaN                  NaN                  NaN   \n",
       "4              -4.8562             -19.8587             -47.1855   \n",
       "5             -80.2142                  NaN                  NaN   \n",
       "6              -83.743                  NaN                  NaN   \n",
       "7              -3.7641             -10.4462             -42.9214   \n",
       "8             -21.0583             -34.2378             -61.2165   \n",
       "9                  NaN                  NaN                  NaN   \n",
       "\n",
       "  Activity at 483.1 uM Activity at 966.3 uM Activity at 1932.0 uM  \\\n",
       "0             -18.5468             -41.2991              -80.4912   \n",
       "1                  NaN                  NaN                   NaN   \n",
       "2                  NaN                  NaN                   NaN   \n",
       "3                  NaN                  NaN                   NaN   \n",
       "4             -69.3997             -78.4311              -80.2799   \n",
       "5                  NaN                  NaN                   NaN   \n",
       "6                  NaN                  NaN                   NaN   \n",
       "7             -65.4924             -72.8875              -67.5188   \n",
       "8              -61.555              -73.796               -76.895   \n",
       "9                  NaN                  NaN                   NaN   \n",
       "\n",
       "  Activity at 3487.5 uM Activity at 3920.0 uM                Compound QC  \n",
       "0                   NaN              -88.4137  QC'd by Spectrum Chemical  \n",
       "1                   NaN                   NaN              QC'd by Specs  \n",
       "2                   NaN                   NaN             QC'd by BIOMOL  \n",
       "3                   NaN                   NaN            QC'd by Selleck  \n",
       "4                   NaN                -80.81  QC'd by Spectrum Chemical  \n",
       "5                   NaN                   NaN            QC'd by NCI-NPB  \n",
       "6                   NaN                   NaN            QC'd by NCI-NPB  \n",
       "7                   NaN              -59.0497  QC'd by Spectrum Chemical  \n",
       "8                   NaN              -72.7384  QC'd by Spectrum Chemical  \n",
       "9                   NaN                   NaN          QC'd by Prestwick  \n",
       "\n",
       "[10 rows x 49 columns]"
      ]
     },
     "execution_count": 7,
     "metadata": {},
     "output_type": "execute_result"
    }
   ],
   "source": [
    "df.head(10)"
   ]
  },
  {
   "cell_type": "code",
   "execution_count": 8,
   "id": "c90d67e8-15be-4053-97a9-b45493e37bb0",
   "metadata": {},
   "outputs": [
    {
     "data": {
      "text/plain": [
       "Index(['PUBCHEM_RESULT_TAG', 'PUBCHEM_SID', 'PUBCHEM_CID',\n",
       "       'PUBCHEM_EXT_DATASOURCE_SMILES', 'PUBCHEM_ACTIVITY_OUTCOME',\n",
       "       'PUBCHEM_ACTIVITY_SCORE', 'PUBCHEM_ACTIVITY_URL',\n",
       "       'PUBCHEM_ASSAYDATA_COMMENT', 'Phenotype', 'Potency', 'Efficacy',\n",
       "       'Analysis Comment', 'Activity_Score', 'Curve_Description',\n",
       "       'Fit_LogAC50', 'Fit_HillSlope', 'Fit_R2', 'Fit_InfiniteActivity',\n",
       "       'Fit_ZeroActivity', 'Fit_CurveClass', 'Excluded_Points', 'Max_Response',\n",
       "       'Activity at 0.0003320000 uM', 'Activity at 0.0009960000 uM',\n",
       "       'Activity at 0.00191 uM', 'Activity at 0.00299 uM',\n",
       "       'Activity at 0.00678 uM', 'Activity at 0.00903 uM',\n",
       "       'Activity at 0.025 uM', 'Activity at 0.039 uM', 'Activity at 0.081 uM',\n",
       "       'Activity at 0.162 uM', 'Activity at 0.263 uM', 'Activity at 0.702 uM',\n",
       "       'Activity at 1.291 uM', 'Activity at 2.222 uM', 'Activity at 4.274 uM',\n",
       "       'Activity at 7.106 uM', 'Activity at 18.80 uM', 'Activity at 34.14 uM',\n",
       "       'Activity at 58.33 uM', 'Activity at 103.6 uM', 'Activity at 207.7 uM',\n",
       "       'Activity at 483.1 uM', 'Activity at 966.3 uM', 'Activity at 1932.0 uM',\n",
       "       'Activity at 3487.5 uM', 'Activity at 3920.0 uM', 'Compound QC'],\n",
       "      dtype='object')"
      ]
     },
     "execution_count": 8,
     "metadata": {},
     "output_type": "execute_result"
    }
   ],
   "source": [
    "df.columns"
   ]
  },
  {
   "cell_type": "code",
   "execution_count": 9,
   "id": "0f77784b-0cf7-425b-b74b-ccfc6519617a",
   "metadata": {},
   "outputs": [],
   "source": [
    "# lets look at activity"
   ]
  },
  {
   "cell_type": "code",
   "execution_count": 10,
   "id": "82e0cb24-3008-4a7d-8003-d4a1d4af891e",
   "metadata": {},
   "outputs": [
    {
     "data": {
      "text/plain": [
       "<Axes: xlabel='PUBCHEM_ACTIVITY_OUTCOME', ylabel='Count'>"
      ]
     },
     "execution_count": 10,
     "metadata": {},
     "output_type": "execute_result"
    },
    {
     "data": {
      "image/png": "[encoded data removed]",
      "text/plain": [
       "<Figure size 640x480 with 1 Axes>"
      ]
     },
     "metadata": {},
     "output_type": "display_data"
    }
   ],
   "source": [
    "sns.histplot(data=df, x=\"PUBCHEM_ACTIVITY_OUTCOME\")"
   ]
  },
  {
   "cell_type": "code",
   "execution_count": 11,
   "id": "9ba06a15-eb22-41e5-b708-061f020020a0",
   "metadata": {},
   "outputs": [
    {
     "data": {
      "text/plain": [
       "Phenotype\n",
       "Inactive     589\n",
       "Inhibitor    351\n",
       "Activator     24\n",
       "Name: count, dtype: int64"
      ]
     },
     "execution_count": 11,
     "metadata": {},
     "output_type": "execute_result"
    }
   ],
   "source": [
    "df[\"Phenotype\"].value_counts()"
   ]
  },
  {
   "cell_type": "code",
   "execution_count": 12,
   "id": "f1a6dbd4-f35a-4d84-83ed-e8c8f4db893e",
   "metadata": {},
   "outputs": [],
   "source": [
    "df = df.query(\"Phenotype == 'Inhibitor'\")"
   ]
  },
  {
   "cell_type": "code",
   "execution_count": 13,
   "id": "8a3b2670-de6a-454d-a3f1-a2b13cd5de91",
   "metadata": {},
   "outputs": [],
   "source": [
    "import matplotlib.pyplot as plt"
   ]
  },
  {
   "cell_type": "code",
   "execution_count": 14,
   "id": "0c5c6121-d449-4e1f-af99-90b216340b8f",
   "metadata": {},
   "outputs": [
    {
     "data": {
      "text/plain": [
       "0      88.0\n",
       "1      86.0\n",
       "2      84.0\n",
       "3      84.0\n",
       "4      84.0\n",
       "       ... \n",
       "346    10.0\n",
       "347    10.0\n",
       "348    10.0\n",
       "349    10.0\n",
       "350    10.0\n",
       "Name: PUBCHEM_ACTIVITY_SCORE, Length: 351, dtype: float64"
      ]
     },
     "execution_count": 14,
     "metadata": {},
     "output_type": "execute_result"
    }
   ],
   "source": [
    "df[\"PUBCHEM_ACTIVITY_SCORE\"]"
   ]
  },
  {
   "cell_type": "code",
   "execution_count": 15,
   "id": "897690c2-e54a-42ea-b6e8-fbe19933d96b",
   "metadata": {},
   "outputs": [],
   "source": [
    "mol_col = \"PUBCHEM_EXT_DATASOURCE_SMILES\"\n",
    "mol_id_cols = [\"PUBCHEM_SID\", \"PUBCHEM_CID\"]"
   ]
  },
  {
   "cell_type": "code",
   "execution_count": 16,
   "id": "e30078f2-4b7b-403b-8f4c-a4696c6545ee",
   "metadata": {},
   "outputs": [
    {
     "data": {
      "text/plain": [
       "351"
      ]
     },
     "execution_count": 16,
     "metadata": {},
     "output_type": "execute_result"
    }
   ],
   "source": [
    "len(df)"
   ]
  },
  {
   "cell_type": "code",
   "execution_count": 17,
   "id": "bdfdd079-d2d6-403f-960a-f143a9338f56",
   "metadata": {},
   "outputs": [],
   "source": [
    "df = df.dropna(subset=\"PUBCHEM_SID\")"
   ]
  },
  {
   "cell_type": "code",
   "execution_count": 18,
   "id": "9917774f-a8d5-4ada-acf0-1cde2f66d453",
   "metadata": {},
   "outputs": [
    {
     "data": {
      "text/plain": [
       "351"
      ]
     },
     "execution_count": 18,
     "metadata": {},
     "output_type": "execute_result"
    }
   ],
   "source": [
    "len(df)"
   ]
  },
  {
   "cell_type": "code",
   "execution_count": 20,
   "id": "fd0550e6-a393-49c4-a38f-fa3b49c096a3",
   "metadata": {},
   "outputs": [],
   "source": [
    "df[\"PUBCHEM_SID\"] = df[\"PUBCHEM_SID\"].astype(int)\n",
    "# df[\"PUBCHEM_CID\"] = df[\"PUBCHEM_CID\"].astype(int)"
   ]
  },
  {
   "cell_type": "code",
   "execution_count": 23,
   "id": "e23504f0-3c4b-4399-8cf6-ff0895b54eef",
   "metadata": {},
   "outputs": [],
   "source": [
    "df[\"PUBCHEM_SID\"].to_csv(\"PubChem_AID_1919972/sids.csv\", index=False, header=False)"
   ]
  },
  {
   "cell_type": "code",
   "execution_count": 24,
   "id": "d0c0c656-48da-46c0-b930-eaa51f7dcc16",
   "metadata": {},
   "outputs": [],
   "source": [
    "pubchem_mapping_file = \"./PubChem_AID_1919972/2004654382932009818.txt\""
   ]
  },
  {
   "cell_type": "code",
   "execution_count": 25,
   "id": "dc1c6bac-e64c-4de1-9fc7-196c8e399173",
   "metadata": {},
   "outputs": [
    {
     "name": "stderr",
     "output_type": "stream",
     "text": [
      "/tmp/ipykernel_36221/3883419428.py:1: FutureWarning: The 'delim_whitespace' keyword in pd.read_csv is deprecated and will be removed in a future version. Use ``sep='\\s+'`` instead\n",
      "  pc_mapping =  pd.read_csv(pubchem_mapping_file, delim_whitespace=True, header=None)\n"
     ]
    },
    {
     "ename": "ParserError",
     "evalue": "Error tokenizing data. C error: Expected 1 fields in line 2, saw 2\n",
     "output_type": "error",
     "traceback": [
      "\u001b[0;31m---------------------------------------------------------------------------\u001b[0m",
      "\u001b[0;31mParserError\u001b[0m                               Traceback (most recent call last)",
      "Cell \u001b[0;32mIn[25], line 1\u001b[0m\n\u001b[0;32m----> 1\u001b[0m pc_mapping \u001b[38;5;241m=\u001b[39m  \u001b[43mpd\u001b[49m\u001b[38;5;241;43m.\u001b[39;49m\u001b[43mread_csv\u001b[49m\u001b[43m(\u001b[49m\u001b[43mpubchem_mapping_file\u001b[49m\u001b[43m,\u001b[49m\u001b[43m \u001b[49m\u001b[43mdelim_whitespace\u001b[49m\u001b[38;5;241;43m=\u001b[39;49m\u001b[38;5;28;43;01mTrue\u001b[39;49;00m\u001b[43m,\u001b[49m\u001b[43m \u001b[49m\u001b[43mheader\u001b[49m\u001b[38;5;241;43m=\u001b[39;49m\u001b[38;5;28;43;01mNone\u001b[39;49;00m\u001b[43m)\u001b[49m\n",
      "File \u001b[0;32m~/mambaforge/envs/openadmet_sklearn/lib/python3.12/site-packages/pandas/io/parsers/readers.py:1026\u001b[0m, in \u001b[0;36mread_csv\u001b[0;34m(filepath_or_buffer, sep, delimiter, header, names, index_col, usecols, dtype, engine, converters, true_values, false_values, skipinitialspace, skiprows, skipfooter, nrows, na_values, keep_default_na, na_filter, verbose, skip_blank_lines, parse_dates, infer_datetime_format, keep_date_col, date_parser, date_format, dayfirst, cache_dates, iterator, chunksize, compression, thousands, decimal, lineterminator, quotechar, quoting, doublequote, escapechar, comment, encoding, encoding_errors, dialect, on_bad_lines, delim_whitespace, low_memory, memory_map, float_precision, storage_options, dtype_backend)\u001b[0m\n\u001b[1;32m   1013\u001b[0m kwds_defaults \u001b[38;5;241m=\u001b[39m _refine_defaults_read(\n\u001b[1;32m   1014\u001b[0m     dialect,\n\u001b[1;32m   1015\u001b[0m     delimiter,\n\u001b[0;32m   (...)\u001b[0m\n\u001b[1;32m   1022\u001b[0m     dtype_backend\u001b[38;5;241m=\u001b[39mdtype_backend,\n\u001b[1;32m   1023\u001b[0m )\n\u001b[1;32m   1024\u001b[0m kwds\u001b[38;5;241m.\u001b[39mupdate(kwds_defaults)\n\u001b[0;32m-> 1026\u001b[0m \u001b[38;5;28;01mreturn\u001b[39;00m \u001b[43m_read\u001b[49m\u001b[43m(\u001b[49m\u001b[43mfilepath_or_buffer\u001b[49m\u001b[43m,\u001b[49m\u001b[43m \u001b[49m\u001b[43mkwds\u001b[49m\u001b[43m)\u001b[49m\n",
      "File \u001b[0;32m~/mambaforge/envs/openadmet_sklearn/lib/python3.12/site-packages/pandas/io/parsers/readers.py:626\u001b[0m, in \u001b[0;36m_read\u001b[0;34m(filepath_or_buffer, kwds)\u001b[0m\n\u001b[1;32m    623\u001b[0m     \u001b[38;5;28;01mreturn\u001b[39;00m parser\n\u001b[1;32m    625\u001b[0m \u001b[38;5;28;01mwith\u001b[39;00m parser:\n\u001b[0;32m--> 626\u001b[0m     \u001b[38;5;28;01mreturn\u001b[39;00m \u001b[43mparser\u001b[49m\u001b[38;5;241;43m.\u001b[39;49m\u001b[43mread\u001b[49m\u001b[43m(\u001b[49m\u001b[43mnrows\u001b[49m\u001b[43m)\u001b[49m\n",
      "File \u001b[0;32m~/mambaforge/envs/openadmet_sklearn/lib/python3.12/site-packages/pandas/io/parsers/readers.py:1923\u001b[0m, in \u001b[0;36mTextFileReader.read\u001b[0;34m(self, nrows)\u001b[0m\n\u001b[1;32m   1916\u001b[0m nrows \u001b[38;5;241m=\u001b[39m validate_integer(\u001b[38;5;124m\"\u001b[39m\u001b[38;5;124mnrows\u001b[39m\u001b[38;5;124m\"\u001b[39m, nrows)\n\u001b[1;32m   1917\u001b[0m \u001b[38;5;28;01mtry\u001b[39;00m:\n\u001b[1;32m   1918\u001b[0m     \u001b[38;5;66;03m# error: \"ParserBase\" has no attribute \"read\"\u001b[39;00m\n\u001b[1;32m   1919\u001b[0m     (\n\u001b[1;32m   1920\u001b[0m         index,\n\u001b[1;32m   1921\u001b[0m         columns,\n\u001b[1;32m   1922\u001b[0m         col_dict,\n\u001b[0;32m-> 1923\u001b[0m     ) \u001b[38;5;241m=\u001b[39m \u001b[38;5;28;43mself\u001b[39;49m\u001b[38;5;241;43m.\u001b[39;49m\u001b[43m_engine\u001b[49m\u001b[38;5;241;43m.\u001b[39;49m\u001b[43mread\u001b[49m\u001b[43m(\u001b[49m\u001b[43m  \u001b[49m\u001b[38;5;66;43;03m# type: ignore[attr-defined]\u001b[39;49;00m\n\u001b[1;32m   1924\u001b[0m \u001b[43m        \u001b[49m\u001b[43mnrows\u001b[49m\n\u001b[1;32m   1925\u001b[0m \u001b[43m    \u001b[49m\u001b[43m)\u001b[49m\n\u001b[1;32m   1926\u001b[0m \u001b[38;5;28;01mexcept\u001b[39;00m \u001b[38;5;167;01mException\u001b[39;00m:\n\u001b[1;32m   1927\u001b[0m     \u001b[38;5;28mself\u001b[39m\u001b[38;5;241m.\u001b[39mclose()\n",
      "File \u001b[0;32m~/mambaforge/envs/openadmet_sklearn/lib/python3.12/site-packages/pandas/io/parsers/c_parser_wrapper.py:234\u001b[0m, in \u001b[0;36mCParserWrapper.read\u001b[0;34m(self, nrows)\u001b[0m\n\u001b[1;32m    232\u001b[0m \u001b[38;5;28;01mtry\u001b[39;00m:\n\u001b[1;32m    233\u001b[0m     \u001b[38;5;28;01mif\u001b[39;00m \u001b[38;5;28mself\u001b[39m\u001b[38;5;241m.\u001b[39mlow_memory:\n\u001b[0;32m--> 234\u001b[0m         chunks \u001b[38;5;241m=\u001b[39m \u001b[38;5;28;43mself\u001b[39;49m\u001b[38;5;241;43m.\u001b[39;49m\u001b[43m_reader\u001b[49m\u001b[38;5;241;43m.\u001b[39;49m\u001b[43mread_low_memory\u001b[49m\u001b[43m(\u001b[49m\u001b[43mnrows\u001b[49m\u001b[43m)\u001b[49m\n\u001b[1;32m    235\u001b[0m         \u001b[38;5;66;03m# destructive to chunks\u001b[39;00m\n\u001b[1;32m    236\u001b[0m         data \u001b[38;5;241m=\u001b[39m _concatenate_chunks(chunks)\n",
      "File \u001b[0;32mparsers.pyx:838\u001b[0m, in \u001b[0;36mpandas._libs.parsers.TextReader.read_low_memory\u001b[0;34m()\u001b[0m\n",
      "File \u001b[0;32mparsers.pyx:905\u001b[0m, in \u001b[0;36mpandas._libs.parsers.TextReader._read_rows\u001b[0;34m()\u001b[0m\n",
      "File \u001b[0;32mparsers.pyx:874\u001b[0m, in \u001b[0;36mpandas._libs.parsers.TextReader._tokenize_rows\u001b[0;34m()\u001b[0m\n",
      "File \u001b[0;32mparsers.pyx:891\u001b[0m, in \u001b[0;36mpandas._libs.parsers.TextReader._check_tokenize_status\u001b[0;34m()\u001b[0m\n",
      "File \u001b[0;32mparsers.pyx:2061\u001b[0m, in \u001b[0;36mpandas._libs.parsers.raise_parser_error\u001b[0;34m()\u001b[0m\n",
      "\u001b[0;31mParserError\u001b[0m: Error tokenizing data. C error: Expected 1 fields in line 2, saw 2\n"
     ]
    }
   ],
   "source": [
    "pc_mapping =  pd.read_csv(pubchem_mapping_file, delim_whitespace=True, header=None)"
   ]
  },
  {
   "cell_type": "code",
   "execution_count": null,
   "id": "11aa814e-2d47-4fb5-afd8-27d704905eec",
   "metadata": {},
   "outputs": [],
   "source": [
    "pc_mapping.rename(columns={0:\"PUBCHEM_SID\", 1:\"SMILES\"}, inplace=True)\n",
    "dict_df = pc_mapping.set_index('PUBCHEM_SID')['SMILES'].to_dict()\n",
    "df[\"SMILES\"] = df[\"PUBCHEM_SID\"].apply(lambda x: dict_df[x])"
   ]
  },
  {
   "cell_type": "code",
   "execution_count": null,
   "id": "0cb8293c-c04f-4580-a7db-2bbd7a781479",
   "metadata": {},
   "outputs": [],
   "source": [
    "# standardisation of SMILES\n",
    "from rdkit import Chem\n",
    "from rdkit.Chem.MolStandardize import rdMolStandardize\n",
    "from rdkit.rdBase import BlockLogs\n",
    "import mols2grid"
   ]
  },
  {
   "cell_type": "code",
   "execution_count": null,
   "id": "d3cdcc42-3b80-4924-b273-49266b3f0897",
   "metadata": {},
   "outputs": [],
   "source": [
    "\n",
    "# from Pat Walters method\n",
    "def standardize_smiles(smiles):\n",
    "    try:\n",
    "        # follows the steps in\n",
    "        # https://github.com/greglandrum/RSC_OpenScience_Standardization_202104/blob/main/MolStandardize%20pieces.ipynb\n",
    "        # as described **excellently** (by Greg) in\n",
    "        # https://www.youtube.com/watch?v=eWTApNX8dJQ\n",
    "        mol = Chem.MolFromSmiles(smiles)\n",
    "    \n",
    "        # removeHs, disconnect metal atoms, normalize the molecule, reionize the molecule\n",
    "        clean_mol = rdMolStandardize.Cleanup(mol)\n",
    "    \n",
    "        # if many fragments, get the \"parent\" (the actual mol we are interested in) \n",
    "        parent_clean_mol = rdMolStandardize.FragmentParent(clean_mol)\n",
    "    \n",
    "        # try to neutralize molecule\n",
    "        uncharger = rdMolStandardize.Uncharger()  # annoying, but necessary as no convenience method exists\n",
    "        uncharged_parent_clean_mol = uncharger.uncharge(parent_clean_mol)\n",
    "    \n",
    "        # note that no attempt is made at reionization at this step\n",
    "        # nor at ionization at some pH (rdkit has no pKa caculator)\n",
    "        # the main aim to represent all molecules from different sources\n",
    "        # in a (single) standard way, for use in ML, catalogue, etc.\n",
    "    \n",
    "        te = rdMolStandardize.TautomerEnumerator()  # idem\n",
    "        taut_uncharged_parent_clean_mol = te.Canonicalize(uncharged_parent_clean_mol)\n",
    "    \n",
    "        return Chem.MolToSmiles(taut_uncharged_parent_clean_mol)\n",
    "    except:\n",
    "        return pd.NA"
   ]
  },
  {
   "cell_type": "code",
   "execution_count": null,
   "id": "528ddd60-2320-4461-a7f6-153d7ea2eb8e",
   "metadata": {},
   "outputs": [],
   "source": [
    "\n",
    "with BlockLogs():\n",
    "    df[\"CANONICAL_SMILES\"] = df[mol_col].progress_apply(lambda x: standardize_smiles(x))"
   ]
  },
  {
   "cell_type": "code",
   "execution_count": null,
   "id": "796c01e4-a756-4a24-92a9-b9335a633fcb",
   "metadata": {},
   "outputs": [],
   "source": [
    "def smi_to_inchikey(smiles):\n",
    "    try:\n",
    "        mol = Chem.MolFromSmiles(smiles)\n",
    "        return Chem.MolToInchiKey(mol)\n",
    "    except:\n",
    "        return pd.NA"
   ]
  },
  {
   "cell_type": "code",
   "execution_count": null,
   "id": "bf99a84f-298e-42ce-bfb0-0c64bf67efda",
   "metadata": {},
   "outputs": [],
   "source": [
    "# compute inchikeys\n",
    "with BlockLogs():\n",
    "    df[\"INCHIKEY\"] = df[\"CANONICAL_SMILES\"].progress_apply(lambda x: smi_to_inchikey(x))"
   ]
  },
  {
   "cell_type": "code",
   "execution_count": null,
   "id": "87771120-4ed6-4157-b50b-f5b40836190a",
   "metadata": {},
   "outputs": [],
   "source": [
    "df.INCHIKEY.isna().sum() # there are a few that couldn't be standardised"
   ]
  },
  {
   "cell_type": "code",
   "execution_count": null,
   "id": "f72b367e-13cb-4bf0-a5ae-3d583efc8eb6",
   "metadata": {},
   "outputs": [],
   "source": []
  },
  {
   "cell_type": "code",
   "execution_count": null,
   "id": "b4c1b4e2-cd46-47d6-b7ce-f34caaa99964",
   "metadata": {},
   "outputs": [],
   "source": [
    "df.dropna(subset=\"INCHIKEY\")"
   ]
  },
  {
   "cell_type": "code",
   "execution_count": null,
   "id": "b7eff7a3-e946-4822-8b7c-fedc17d42ecf",
   "metadata": {},
   "outputs": [],
   "source": [
    "# lets gather up the activities?"
   ]
  },
  {
   "cell_type": "code",
   "execution_count": null,
   "id": "5d5cbd15-6f69-430f-8247-5ca20dc800a3",
   "metadata": {},
   "outputs": [],
   "source": [
    "# ok, clean up DF, and segement into active and inactives,"
   ]
  },
  {
   "cell_type": "code",
   "execution_count": null,
   "id": "42426a48-5b6b-4c37-99ee-57a35804db48",
   "metadata": {},
   "outputs": [],
   "source": [
    "keep_cols = [\"CANONICAL_SMILES\", \"INCHIKEY\", \"PUBCHEM_ACTIVITY_OUTCOME\", \"PUBCHEM_CID\"]"
   ]
  },
  {
   "cell_type": "code",
   "execution_count": null,
   "id": "13e2d99d-1d0e-49c5-8b51-c95bb187dfc7",
   "metadata": {},
   "outputs": [],
   "source": [
    "clean = df[keep_cols]"
   ]
  },
  {
   "cell_type": "code",
   "execution_count": null,
   "id": "24867d50-b2df-4320-8956-c64b823a1c11",
   "metadata": {},
   "outputs": [],
   "source": [
    "clean[\"dataset\"] = \"ncats_adme_aid1851\"\n",
    "clean[\"data_type\"] = \"assay\""
   ]
  },
  {
   "cell_type": "code",
   "execution_count": null,
   "id": "7ef332f5-9513-4d2f-9fec-ee1283428c40",
   "metadata": {},
   "outputs": [],
   "source": [
    "clean[\"active\"] = clean[\"PUBCHEM_ACTIVITY_OUTCOME\"] == \"Active\""
   ]
  },
  {
   "cell_type": "code",
   "execution_count": null,
   "id": "e66b41eb-98dd-46e2-9dda-ea53b4d070b6",
   "metadata": {},
   "outputs": [],
   "source": [
    "mols2grid.display(clean, smiles_col=\"CANONICAL_SMILES\")"
   ]
  },
  {
   "cell_type": "code",
   "execution_count": null,
   "id": "a68f5370-ab30-4ed3-8a12-f15dc87fcaca",
   "metadata": {},
   "outputs": [],
   "source": [
    "clean.head()\n",
    "clean[\"common_name\"] = pd.NA\n",
    "clean[\"action_type\"] = \"inhibitor\"\n",
    "clean[\"active\"] = clean[\"PUBCHEM_ACTIVITY_OUTCOME\"] == \"Active\""
   ]
  },
  {
   "cell_type": "code",
   "execution_count": null,
   "id": "7d5ca823-c969-43f4-82f0-b5f52fea5954",
   "metadata": {},
   "outputs": [],
   "source": [
    "clean.to_csv(\"./processed/AID_1919972.csv\", index=False)"
   ]
  },
  {
   "cell_type": "code",
   "execution_count": null,
   "id": "40e32231-0c6d-4742-8265-7725bc5b44f9",
   "metadata": {},
   "outputs": [],
   "source": [
    "# spot checked structures with a few pubchem CIDs, looks like translation went ok"
   ]
  },
  {
   "cell_type": "code",
   "execution_count": null,
   "id": "3ec3a35d-cdb4-4fd7-9717-ccec78247b32",
   "metadata": {},
   "outputs": [],
   "source": []
  },
  {
   "cell_type": "code",
   "execution_count": null,
   "id": "40e10314-7c99-4670-996b-bd49c6aeaca0",
   "metadata": {},
   "outputs": [],
   "source": []
  }
 ],
 "metadata": {
  "kernelspec": {
   "display_name": "Python 3 (ipykernel)",
   "language": "python",
   "name": "python3"
  },
  "language_info": {
   "codemirror_mode": {
    "name": "ipython",
    "version": 3
   },
   "file_extension": ".py",
   "mimetype": "text/x-python",
   "name": "python",
   "nbconvert_exporter": "python",
   "pygments_lexer": "ipython3",
   "version": "3.10.13"
  }
 },
 "nbformat": 4,
 "nbformat_minor": 5
}
