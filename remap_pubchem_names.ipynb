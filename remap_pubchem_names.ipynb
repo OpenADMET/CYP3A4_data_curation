{
 "cells": [
  {
   "cell_type": "code",
   "execution_count": 1,
   "id": "1434d575-beea-4730-a2fb-635aa9bf3466",
   "metadata": {},
   "outputs": [],
   "source": [
    "import pandas as pd\n",
    "from rdkit import Chem\n",
    "import seaborn as sns\n",
    "from tqdm import tqdm\n",
    "import numpy as np\n",
    "import matplotlib.pyplot as plt\n"
   ]
  },
  {
   "cell_type": "code",
   "execution_count": 2,
   "id": "0cbbdcd2-e2b6-448e-b8c4-426acfd80e71",
   "metadata": {},
   "outputs": [],
   "source": [
    "pubchem_mapping_file = \"./map_to_common_names//actives_common_name_SMILES_mapping.txt\"\n",
    "# pandas doesn't read the nasty line splitting well\n",
    "lookup = {}\n",
    "with open(pubchem_mapping_file, \"r\") as f:\n",
    "    for line in f.readlines():\n",
    "        toks = line.split()\n",
    "        smiles = toks[0]\n",
    "        rest = toks[1:]\n",
    "        name = \"\".join(rest)\n",
    "        lookup[smiles] = name\n",
    "\n"
   ]
  },
  {
   "cell_type": "code",
   "execution_count": null,
   "id": "3303e981-0be8-48ad-a041-888222da1823",
   "metadata": {},
   "outputs": [],
   "source": []
  },
  {
   "cell_type": "code",
   "execution_count": 3,
   "id": "ef920ad0-249a-4c39-bf92-6a97c25c4a9e",
   "metadata": {},
   "outputs": [],
   "source": [
    "actives_combined = pd.read_csv(\"final/actives_combined.csv\")"
   ]
  },
  {
   "cell_type": "code",
   "execution_count": 4,
   "id": "e9df5abe-6e3c-4a7d-ac6b-97156b0413e0",
   "metadata": {},
   "outputs": [
    {
     "data": {
      "text/html": [
       "<div>\n",
       "<style scoped>\n",
       "    .dataframe tbody tr th:only-of-type {\n",
       "        vertical-align: middle;\n",
       "    }\n",
       "\n",
       "    .dataframe tbody tr th {\n",
       "        vertical-align: top;\n",
       "    }\n",
       "\n",
       "    .dataframe thead th {\n",
       "        text-align: right;\n",
       "    }\n",
       "</style>\n",
       "<table border=\"1\" class=\"dataframe\">\n",
       "  <thead>\n",
       "    <tr style=\"text-align: right;\">\n",
       "      <th></th>\n",
       "      <th>CANONICAL_SMILES</th>\n",
       "      <th>INCHIKEY</th>\n",
       "      <th>common_name</th>\n",
       "      <th>appears_in_N_ds</th>\n",
       "    </tr>\n",
       "  </thead>\n",
       "  <tbody>\n",
       "    <tr>\n",
       "      <th>0</th>\n",
       "      <td>CC#C[C@]1(O)CC[C@H]2C3=C(C4=C(CC3)CC(=O)CC4)C(...</td>\n",
       "      <td>BHZCGCMWEVHUBA-ZLMDOPAYSA-N</td>\n",
       "      <td>mifepristone</td>\n",
       "      <td>4</td>\n",
       "    </tr>\n",
       "    <tr>\n",
       "      <th>1</th>\n",
       "      <td>COc1ccc([C@@H]2Sc3ccccc3N(CCN(C)C)C(=O)C2OC(C)...</td>\n",
       "      <td>HSUGRBWQSSZJOP-LBAQZLPGSA-N</td>\n",
       "      <td>diltiazem</td>\n",
       "      <td>4</td>\n",
       "    </tr>\n",
       "    <tr>\n",
       "      <th>2</th>\n",
       "      <td>COCC(=O)O[C@]1(CCN(C)CCCc2nc3ccccc3[nH]2)CCc2c...</td>\n",
       "      <td>HBNPJJILLOYFJU-VMPREFPWSA-N</td>\n",
       "      <td>mibefradil</td>\n",
       "      <td>4</td>\n",
       "    </tr>\n",
       "    <tr>\n",
       "      <th>3</th>\n",
       "      <td>Cc1ccc(-c2nc3ccc(C)cn3c2CC(=O)N(C)C)cc1</td>\n",
       "      <td>ZAFYATHCZYHLPB-UHFFFAOYSA-N</td>\n",
       "      <td>zolpidem</td>\n",
       "      <td>3</td>\n",
       "    </tr>\n",
       "    <tr>\n",
       "      <th>4</th>\n",
       "      <td>COc1ccc(CCN(C)CCC[C@@](C#N)(c2cc(OC)c(OC)c(OC)...</td>\n",
       "      <td>XQLWNAFCTODIRK-NDEPHWFRSA-N</td>\n",
       "      <td>gallopamil</td>\n",
       "      <td>3</td>\n",
       "    </tr>\n",
       "  </tbody>\n",
       "</table>\n",
       "</div>"
      ],
      "text/plain": [
       "                                    CANONICAL_SMILES  \\\n",
       "0  CC#C[C@]1(O)CC[C@H]2C3=C(C4=C(CC3)CC(=O)CC4)C(...   \n",
       "1  COc1ccc([C@@H]2Sc3ccccc3N(CCN(C)C)C(=O)C2OC(C)...   \n",
       "2  COCC(=O)O[C@]1(CCN(C)CCCc2nc3ccccc3[nH]2)CCc2c...   \n",
       "3            Cc1ccc(-c2nc3ccc(C)cn3c2CC(=O)N(C)C)cc1   \n",
       "4  COc1ccc(CCN(C)CCC[C@@](C#N)(c2cc(OC)c(OC)c(OC)...   \n",
       "\n",
       "                      INCHIKEY   common_name  appears_in_N_ds  \n",
       "0  BHZCGCMWEVHUBA-ZLMDOPAYSA-N  mifepristone                4  \n",
       "1  HSUGRBWQSSZJOP-LBAQZLPGSA-N     diltiazem                4  \n",
       "2  HBNPJJILLOYFJU-VMPREFPWSA-N    mibefradil                4  \n",
       "3  ZAFYATHCZYHLPB-UHFFFAOYSA-N      zolpidem                3  \n",
       "4  XQLWNAFCTODIRK-NDEPHWFRSA-N    gallopamil                3  "
      ]
     },
     "execution_count": 4,
     "metadata": {},
     "output_type": "execute_result"
    }
   ],
   "source": [
    "actives_combined.head()"
   ]
  },
  {
   "cell_type": "code",
   "execution_count": 5,
   "id": "0752bc90-fdfb-40a9-8d82-acb5164e3389",
   "metadata": {},
   "outputs": [],
   "source": [
    "def assign_common_name_if_not_exists(mapping, SMILES, common_name):\n",
    "    if pd.isna(common_name):\n",
    "        name = mapping[SMILES]\n",
    "    else:\n",
    "        name = common_name\n",
    "    return name"
   ]
  },
  {
   "cell_type": "code",
   "execution_count": 6,
   "id": "422019e0-108f-425b-a4cc-be3331bc3ae2",
   "metadata": {},
   "outputs": [],
   "source": [
    "actives_combined['common_name'] = actives_combined.apply(lambda row: assign_common_name_if_not_exists(lookup, row[\"CANONICAL_SMILES\"], row[\"common_name\"]), axis=1)\n"
   ]
  },
  {
   "cell_type": "code",
   "execution_count": 7,
   "id": "345baee0-944d-4443-aff9-6904238a3311",
   "metadata": {},
   "outputs": [
    {
     "data": {
      "text/html": [
       "<div>\n",
       "<style scoped>\n",
       "    .dataframe tbody tr th:only-of-type {\n",
       "        vertical-align: middle;\n",
       "    }\n",
       "\n",
       "    .dataframe tbody tr th {\n",
       "        vertical-align: top;\n",
       "    }\n",
       "\n",
       "    .dataframe thead th {\n",
       "        text-align: right;\n",
       "    }\n",
       "</style>\n",
       "<table border=\"1\" class=\"dataframe\">\n",
       "  <thead>\n",
       "    <tr style=\"text-align: right;\">\n",
       "      <th></th>\n",
       "      <th>CANONICAL_SMILES</th>\n",
       "      <th>INCHIKEY</th>\n",
       "      <th>common_name</th>\n",
       "      <th>appears_in_N_ds</th>\n",
       "    </tr>\n",
       "  </thead>\n",
       "  <tbody>\n",
       "    <tr>\n",
       "      <th>0</th>\n",
       "      <td>CC#C[C@]1(O)CC[C@H]2C3=C(C4=C(CC3)CC(=O)CC4)C(...</td>\n",
       "      <td>BHZCGCMWEVHUBA-ZLMDOPAYSA-N</td>\n",
       "      <td>mifepristone</td>\n",
       "      <td>4</td>\n",
       "    </tr>\n",
       "    <tr>\n",
       "      <th>1</th>\n",
       "      <td>COc1ccc([C@@H]2Sc3ccccc3N(CCN(C)C)C(=O)C2OC(C)...</td>\n",
       "      <td>HSUGRBWQSSZJOP-LBAQZLPGSA-N</td>\n",
       "      <td>diltiazem</td>\n",
       "      <td>4</td>\n",
       "    </tr>\n",
       "    <tr>\n",
       "      <th>2</th>\n",
       "      <td>COCC(=O)O[C@]1(CCN(C)CCCc2nc3ccccc3[nH]2)CCc2c...</td>\n",
       "      <td>HBNPJJILLOYFJU-VMPREFPWSA-N</td>\n",
       "      <td>mibefradil</td>\n",
       "      <td>4</td>\n",
       "    </tr>\n",
       "    <tr>\n",
       "      <th>3</th>\n",
       "      <td>Cc1ccc(-c2nc3ccc(C)cn3c2CC(=O)N(C)C)cc1</td>\n",
       "      <td>ZAFYATHCZYHLPB-UHFFFAOYSA-N</td>\n",
       "      <td>zolpidem</td>\n",
       "      <td>3</td>\n",
       "    </tr>\n",
       "    <tr>\n",
       "      <th>4</th>\n",
       "      <td>COc1ccc(CCN(C)CCC[C@@](C#N)(c2cc(OC)c(OC)c(OC)...</td>\n",
       "      <td>XQLWNAFCTODIRK-NDEPHWFRSA-N</td>\n",
       "      <td>gallopamil</td>\n",
       "      <td>3</td>\n",
       "    </tr>\n",
       "    <tr>\n",
       "      <th>...</th>\n",
       "      <td>...</td>\n",
       "      <td>...</td>\n",
       "      <td>...</td>\n",
       "      <td>...</td>\n",
       "    </tr>\n",
       "    <tr>\n",
       "      <th>9274</th>\n",
       "      <td>Cc1nc2c3ccccc3nc(NNC(=O)CCC(=O)N3CCN(c4ccccc4F...</td>\n",
       "      <td>KQEZZZZKWOPGAX-UHFFFAOYSA-N</td>\n",
       "      <td>C600-0088</td>\n",
       "      <td>1</td>\n",
       "    </tr>\n",
       "    <tr>\n",
       "      <th>9275</th>\n",
       "      <td>Cc1cccc(N2CCN(C(=O)CCC(=O)NNc3nc4ccccc4c4nc(C)...</td>\n",
       "      <td>SWUYLFQSAWAMFM-UHFFFAOYSA-N</td>\n",
       "      <td>C600-0098</td>\n",
       "      <td>1</td>\n",
       "    </tr>\n",
       "    <tr>\n",
       "      <th>9276</th>\n",
       "      <td>Cc1nc2c3ccccc3nc(NNC(=O)CCC(=O)N3CCN(c4cccc(Cl...</td>\n",
       "      <td>SKCLDYRCRQAAMC-UHFFFAOYSA-N</td>\n",
       "      <td>C600-0103</td>\n",
       "      <td>1</td>\n",
       "    </tr>\n",
       "    <tr>\n",
       "      <th>9277</th>\n",
       "      <td>Cc1nc2c3ccccc3nc(NNC(=O)CCC(=O)N3CCN(c4cc(Cl)c...</td>\n",
       "      <td>DJFZKZSOMMIQLN-UHFFFAOYSA-N</td>\n",
       "      <td>C600-0115</td>\n",
       "      <td>1</td>\n",
       "    </tr>\n",
       "    <tr>\n",
       "      <th>9278</th>\n",
       "      <td>Cc1noc(/C=C/c2cccs2)c1S(=O)(=O)N1CCC(C(=O)NCc2...</td>\n",
       "      <td>SISRWBBBHTVUJU-CMDGGOBGSA-N</td>\n",
       "      <td>C514-0316</td>\n",
       "      <td>1</td>\n",
       "    </tr>\n",
       "  </tbody>\n",
       "</table>\n",
       "<p>9279 rows × 4 columns</p>\n",
       "</div>"
      ],
      "text/plain": [
       "                                       CANONICAL_SMILES  \\\n",
       "0     CC#C[C@]1(O)CC[C@H]2C3=C(C4=C(CC3)CC(=O)CC4)C(...   \n",
       "1     COc1ccc([C@@H]2Sc3ccccc3N(CCN(C)C)C(=O)C2OC(C)...   \n",
       "2     COCC(=O)O[C@]1(CCN(C)CCCc2nc3ccccc3[nH]2)CCc2c...   \n",
       "3               Cc1ccc(-c2nc3ccc(C)cn3c2CC(=O)N(C)C)cc1   \n",
       "4     COc1ccc(CCN(C)CCC[C@@](C#N)(c2cc(OC)c(OC)c(OC)...   \n",
       "...                                                 ...   \n",
       "9274  Cc1nc2c3ccccc3nc(NNC(=O)CCC(=O)N3CCN(c4ccccc4F...   \n",
       "9275  Cc1cccc(N2CCN(C(=O)CCC(=O)NNc3nc4ccccc4c4nc(C)...   \n",
       "9276  Cc1nc2c3ccccc3nc(NNC(=O)CCC(=O)N3CCN(c4cccc(Cl...   \n",
       "9277  Cc1nc2c3ccccc3nc(NNC(=O)CCC(=O)N3CCN(c4cc(Cl)c...   \n",
       "9278  Cc1noc(/C=C/c2cccs2)c1S(=O)(=O)N1CCC(C(=O)NCc2...   \n",
       "\n",
       "                         INCHIKEY   common_name  appears_in_N_ds  \n",
       "0     BHZCGCMWEVHUBA-ZLMDOPAYSA-N  mifepristone                4  \n",
       "1     HSUGRBWQSSZJOP-LBAQZLPGSA-N     diltiazem                4  \n",
       "2     HBNPJJILLOYFJU-VMPREFPWSA-N    mibefradil                4  \n",
       "3     ZAFYATHCZYHLPB-UHFFFAOYSA-N      zolpidem                3  \n",
       "4     XQLWNAFCTODIRK-NDEPHWFRSA-N    gallopamil                3  \n",
       "...                           ...           ...              ...  \n",
       "9274  KQEZZZZKWOPGAX-UHFFFAOYSA-N     C600-0088                1  \n",
       "9275  SWUYLFQSAWAMFM-UHFFFAOYSA-N     C600-0098                1  \n",
       "9276  SKCLDYRCRQAAMC-UHFFFAOYSA-N     C600-0103                1  \n",
       "9277  DJFZKZSOMMIQLN-UHFFFAOYSA-N     C600-0115                1  \n",
       "9278  SISRWBBBHTVUJU-CMDGGOBGSA-N     C514-0316                1  \n",
       "\n",
       "[9279 rows x 4 columns]"
      ]
     },
     "execution_count": 7,
     "metadata": {},
     "output_type": "execute_result"
    }
   ],
   "source": [
    "actives_combined"
   ]
  },
  {
   "cell_type": "code",
   "execution_count": 8,
   "id": "fb124ca6-eff1-4a73-a6cc-9e38706bf054",
   "metadata": {},
   "outputs": [
    {
     "data": {
      "text/html": [
       "<div>\n",
       "<style scoped>\n",
       "    .dataframe tbody tr th:only-of-type {\n",
       "        vertical-align: middle;\n",
       "    }\n",
       "\n",
       "    .dataframe tbody tr th {\n",
       "        vertical-align: top;\n",
       "    }\n",
       "\n",
       "    .dataframe thead th {\n",
       "        text-align: right;\n",
       "    }\n",
       "</style>\n",
       "<table border=\"1\" class=\"dataframe\">\n",
       "  <thead>\n",
       "    <tr style=\"text-align: right;\">\n",
       "      <th></th>\n",
       "      <th>CANONICAL_SMILES</th>\n",
       "      <th>INCHIKEY</th>\n",
       "      <th>common_name</th>\n",
       "      <th>appears_in_N_ds</th>\n",
       "    </tr>\n",
       "  </thead>\n",
       "  <tbody>\n",
       "    <tr>\n",
       "      <th>0</th>\n",
       "      <td>CC#C[C@]1(O)CC[C@H]2C3=C(C4=C(CC3)CC(=O)CC4)C(...</td>\n",
       "      <td>BHZCGCMWEVHUBA-ZLMDOPAYSA-N</td>\n",
       "      <td>mifepristone</td>\n",
       "      <td>4</td>\n",
       "    </tr>\n",
       "    <tr>\n",
       "      <th>1</th>\n",
       "      <td>COc1ccc([C@@H]2Sc3ccccc3N(CCN(C)C)C(=O)C2OC(C)...</td>\n",
       "      <td>HSUGRBWQSSZJOP-LBAQZLPGSA-N</td>\n",
       "      <td>diltiazem</td>\n",
       "      <td>4</td>\n",
       "    </tr>\n",
       "    <tr>\n",
       "      <th>2</th>\n",
       "      <td>COCC(=O)O[C@]1(CCN(C)CCCc2nc3ccccc3[nH]2)CCc2c...</td>\n",
       "      <td>HBNPJJILLOYFJU-VMPREFPWSA-N</td>\n",
       "      <td>mibefradil</td>\n",
       "      <td>4</td>\n",
       "    </tr>\n",
       "    <tr>\n",
       "      <th>3</th>\n",
       "      <td>Cc1ccc(-c2nc3ccc(C)cn3c2CC(=O)N(C)C)cc1</td>\n",
       "      <td>ZAFYATHCZYHLPB-UHFFFAOYSA-N</td>\n",
       "      <td>zolpidem</td>\n",
       "      <td>3</td>\n",
       "    </tr>\n",
       "    <tr>\n",
       "      <th>4</th>\n",
       "      <td>COc1ccc(CCN(C)CCC[C@@](C#N)(c2cc(OC)c(OC)c(OC)...</td>\n",
       "      <td>XQLWNAFCTODIRK-NDEPHWFRSA-N</td>\n",
       "      <td>gallopamil</td>\n",
       "      <td>3</td>\n",
       "    </tr>\n",
       "  </tbody>\n",
       "</table>\n",
       "</div>"
      ],
      "text/plain": [
       "                                    CANONICAL_SMILES  \\\n",
       "0  CC#C[C@]1(O)CC[C@H]2C3=C(C4=C(CC3)CC(=O)CC4)C(...   \n",
       "1  COc1ccc([C@@H]2Sc3ccccc3N(CCN(C)C)C(=O)C2OC(C)...   \n",
       "2  COCC(=O)O[C@]1(CCN(C)CCCc2nc3ccccc3[nH]2)CCc2c...   \n",
       "3            Cc1ccc(-c2nc3ccc(C)cn3c2CC(=O)N(C)C)cc1   \n",
       "4  COc1ccc(CCN(C)CCC[C@@](C#N)(c2cc(OC)c(OC)c(OC)...   \n",
       "\n",
       "                      INCHIKEY   common_name  appears_in_N_ds  \n",
       "0  BHZCGCMWEVHUBA-ZLMDOPAYSA-N  mifepristone                4  \n",
       "1  HSUGRBWQSSZJOP-LBAQZLPGSA-N     diltiazem                4  \n",
       "2  HBNPJJILLOYFJU-VMPREFPWSA-N    mibefradil                4  \n",
       "3  ZAFYATHCZYHLPB-UHFFFAOYSA-N      zolpidem                3  \n",
       "4  XQLWNAFCTODIRK-NDEPHWFRSA-N    gallopamil                3  "
      ]
     },
     "execution_count": 8,
     "metadata": {},
     "output_type": "execute_result"
    }
   ],
   "source": [
    "actives_combined.head()"
   ]
  },
  {
   "cell_type": "code",
   "execution_count": 9,
   "id": "b1f9f455-4895-43c7-b968-ecf3e4b204de",
   "metadata": {},
   "outputs": [
    {
     "data": {
      "text/plain": [
       "common_name\n",
       "                                                                                                                                               1027\n",
       "N-(2,6-dimethylbenzyl)-1,2-dimethyl-1H-pyrrolo[3,2-c]pyridin-4-amine                                                                              1\n",
       "4-(2-(4-chloro-1H-pyrazol-1-yl)ethylamino)-3-(4-methyl-6-morpholino-1H-benzo[d]imidazol-2-yl)pyridin-2(1H)-one                                    1\n",
       "4-[(S)-2-(3-Chloro-phenyl)-2-hydroxy-ethylamino]-3-[6-(1,4-dioxa-8-aza-spiro[4.5]dec-8-yl)-4-methyl-1H-benzoimidazol-2-yl]-1H-pyridin-2-one       1\n",
       "PD189076                                                                                                                                          1\n",
       "                                                                                                                                               ... \n",
       "N-methyl-N-[2-[4-[1-(2,4,6-trimethylphenyl)sulfonyl-3-pyrazolyl]phenoxy]ethyl]-2-pyridinamine                                                     1\n",
       "SMR000168760                                                                                                                                      1\n",
       "N-(3-chloro-4-methyl-phenyl)-2-[3-chloro-5-(trifluoromethyl)-2-pyridyl]acetamide                                                                  1\n",
       "6R-0232                                                                                                                                           1\n",
       "5-[(4-Fluorophenyl)sulfonyl]-1,2,3,3a,4,5-hexahydro-7-(trifluoromethyl)pyrrolo[1,2-a]quinoxaline                                                  1\n",
       "Name: count, Length: 8253, dtype: int64"
      ]
     },
     "execution_count": 9,
     "metadata": {},
     "output_type": "execute_result"
    }
   ],
   "source": [
    "actives_combined.common_name.value_counts()"
   ]
  },
  {
   "cell_type": "code",
   "execution_count": 10,
   "id": "efb4a6d8-412f-4a9c-bdf6-e5ec73bf2b59",
   "metadata": {},
   "outputs": [],
   "source": [
    "actives_combined.to_csv(\"./map_to_common_names/actives_combined_common_name_mapping.csv\", index=False)"
   ]
  },
  {
   "cell_type": "code",
   "execution_count": 11,
   "id": "c125719c-6380-4376-9a1d-9b9b383da193",
   "metadata": {},
   "outputs": [],
   "source": [
    "actives_multi_ds_combined = pd.read_csv(\"final/actives_combined_more_than_one_dataset.csv\")"
   ]
  },
  {
   "cell_type": "code",
   "execution_count": 12,
   "id": "ed478d54-3dfb-4730-8dbc-ec635bcc47db",
   "metadata": {},
   "outputs": [],
   "source": [
    "actives_multi_ds_combined['common_name'] = actives_multi_ds_combined.apply(lambda row: assign_common_name_if_not_exists(lookup, row[\"CANONICAL_SMILES\"], row[\"common_name\"]), axis=1)\n"
   ]
  },
  {
   "cell_type": "code",
   "execution_count": 13,
   "id": "ba3c7dbd-e9d7-42ac-94f5-18a566d313a1",
   "metadata": {},
   "outputs": [],
   "source": [
    "actives_multi_ds_combined.to_csv(\"./map_to_common_names/actives_more_than_one_ds_common_name_mapping.csv\", index=False)"
   ]
  },
  {
   "cell_type": "code",
   "execution_count": null,
   "id": "958aafcb-a6c7-401d-a679-15d272f7abad",
   "metadata": {},
   "outputs": [],
   "source": []
  }
 ],
 "metadata": {
  "kernelspec": {
   "display_name": "Python 3 (ipykernel)",
   "language": "python",
   "name": "python3"
  },
  "language_info": {
   "codemirror_mode": {
    "name": "ipython",
    "version": 3
   },
   "file_extension": ".py",
   "mimetype": "text/x-python",
   "name": "python",
   "nbconvert_exporter": "python",
   "pygments_lexer": "ipython3",
   "version": "3.12.7"
  }
 },
 "nbformat": 4,
 "nbformat_minor": 5
}
