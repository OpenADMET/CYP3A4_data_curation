{
 "cells": [
  {
   "cell_type": "code",
   "execution_count": 1,
   "id": "c1db7db6-9e38-4e24-be4c-565b76facc3d",
   "metadata": {},
   "outputs": [],
   "source": [
    "import pandas as pd\n",
    "from rdkit import Chem\n",
    "import seaborn as sns\n",
    "from tqdm import tqdm\n",
    "import numpy as np"
   ]
  },
  {
   "cell_type": "code",
   "execution_count": 2,
   "id": "53a043ee-f172-4621-aafd-15a8bef25a1d",
   "metadata": {},
   "outputs": [],
   "source": [
    "tqdm.pandas()\n"
   ]
  },
  {
   "cell_type": "markdown",
   "id": "dfd592de-3406-48c5-a106-cc1beb872a74",
   "metadata": {},
   "source": [
    "# NCATS CYP2C9\n",
    "Dataset from https://opendata.ncats.nih.gov/adme/data\n",
    "\n",
    "https://pubchem.ncbi.nlm.nih.gov/bioassay/1645842\n",
    "\n",
    "## Assay info\n",
    "\n",
    "Chemical compounds were tested for their effect on CYP enzyme activities by using P450-Glo (TM) screening systems (Promega Corporation, Madison, WI). These systems provide a luminescent method containing proluciferin substrates and are converted to luciferin products by CYP isozymes. The luciferin products formed are detected with a luciferin detection reagent, and the amount of light produced is proportional to CYP activity. P450-Glo (TM) CYP screening system (Catalog. No. V9890) was used to detect the compounds that interfere in CYP activity. The positive control compound used for CYP assay is quinidine (Sigma-Aldrich, St. Louis, MO).\n",
    "\n",
    "\n",
    "PUBCHEM_ACTIVITY_OUTCOME: Corresponds to PUBCHEM_ACTIVITY_SCORE. For all inactive compounds, PUBCHEM_ACTIVITY_SCORE is 0. For all active compounds, a score range was given for each curve class type given above. Active antagonist compounds have PUBCHEM_ACTIVITY_SCORE between 40 and 100. \n",
    "\n",
    "PUBCHEM_ACTIVITY_SCORE: Average of 5 experimental replicates. Fit_LogAC50 was used for determining relative score and was scaled to each curve class' score range.\n"
   ]
  },
  {
   "cell_type": "code",
   "execution_count": 3,
   "id": "c03fe7d6-680b-4472-9d4d-1af8b64a0e2b",
   "metadata": {},
   "outputs": [
    {
     "name": "stderr",
     "output_type": "stream",
     "text": [
      "/tmp/ipykernel_184382/426259993.py:1: DtypeWarning: Columns (0,9,10,11,12,14,15,16,17,18,19,21,22,23,24,25,26,27,28,29,30,31,32,33,34,35,36,37,38,39,40,41,42,43,44,45,46,48,49,50,51,52,53,54,55,56,57,58,59,60,61,62,63,64,65,66,67,68,69,70,71,72,73,74,75,76,77,78,79,80,81,82,83,84,85,86,87,88,89,90,91,92,93,94,95,96,97,98,99,100,101,102,103,104,105,106,107,108,109,110,111,112,113,114,115,116,117,118,119,120,121,122,123,124,125,126,127,128,129,130,131,132,133,134,135,136,137,138,139,140,141,142,143,144,145,146,147,148,149,150,151,152,153,154,155,156,157,158,159,160,161,162,163,164,165,166,167,168,169,170,171,172,173,174,175,176,177,178,179,180,181,182,183,184,185,186,187,188,189,190,191,192,193,194,195,196,197,198,199,200,201,202,203) have mixed types. Specify dtype option on import or set low_memory=False.\n",
      "  df = pd.read_csv(\"NCATS_CYP_raw/AID_1645842_datatable_all.csv\")\n"
     ]
    }
   ],
   "source": [
    "df = pd.read_csv(\"NCATS_CYP_raw/AID_1645842_datatable_all.csv\")"
   ]
  },
  {
   "cell_type": "code",
   "execution_count": 4,
   "id": "de85a294-6003-4554-b92b-c5ba4b0a10d4",
   "metadata": {},
   "outputs": [
    {
     "data": {
      "text/plain": [
       "0                                                     NaN\n",
       "1                                                     NaN\n",
       "2                                                     NaN\n",
       "3                                                     NaN\n",
       "4                                                     NaN\n",
       "                              ...                        \n",
       "5242    C=CCN1CCC23[C@@H]4C(=O)CC[C@]2(C1CC5=C3C(=C(C=...\n",
       "5243                           CCCNC(C)C(=O)NC1=CC=CC=C1C\n",
       "5244               CCN(CC1=CC=NC=C1)C(=O)C(CO)C2=CC=CC=C2\n",
       "5245                     C[N+](C)(C)CCCCCCCCCC[N+](C)(C)C\n",
       "5246      C1=CC=C(C=C1)CN=C(N)NC(=O)C2=C(N=C(C(=N2)Cl)N)N\n",
       "Name: PUBCHEM_EXT_DATASOURCE_SMILES, Length: 5247, dtype: object"
      ]
     },
     "execution_count": 4,
     "metadata": {},
     "output_type": "execute_result"
    }
   ],
   "source": [
    "df[\"PUBCHEM_EXT_DATASOURCE_SMILES\"]"
   ]
  },
  {
   "cell_type": "code",
   "execution_count": 5,
   "id": "8853bcfe-864f-4837-8cb5-533947a6e0f3",
   "metadata": {
    "scrolled": true
   },
   "outputs": [
    {
     "data": {
      "text/plain": [
       "['PUBCHEM_RESULT_TAG',\n",
       " 'PUBCHEM_SID',\n",
       " 'PUBCHEM_CID',\n",
       " 'PUBCHEM_EXT_DATASOURCE_SMILES',\n",
       " 'PUBCHEM_ACTIVITY_OUTCOME',\n",
       " 'PUBCHEM_ACTIVITY_SCORE',\n",
       " 'PUBCHEM_ACTIVITY_URL',\n",
       " 'PUBCHEM_ASSAYDATA_COMMENT',\n",
       " 'Phenotype-Replicate_1',\n",
       " 'Potency-Replicate_1',\n",
       " 'Efficacy-Replicate_1',\n",
       " 'Analysis Comment-Replicate_1',\n",
       " 'Activity_Score-Replicate_1',\n",
       " 'Curve_Description-Replicate_1',\n",
       " 'Fit_LogAC50-Replicate_1',\n",
       " 'Fit_HillSlope-Replicate_1',\n",
       " 'Fit_R2-Replicate_1',\n",
       " 'Fit_InfiniteActivity-Replicate_1',\n",
       " 'Fit_ZeroActivity-Replicate_1',\n",
       " 'Fit_CurveClass-Replicate_1',\n",
       " 'Excluded_Points-Replicate_1',\n",
       " 'Max_Response-Replicate_1',\n",
       " 'Activity at 0.0000073560 uM-Replicate_1',\n",
       " 'Activity at 0.0000367800 uM-Replicate_1',\n",
       " 'Activity at 0.0000735600 uM-Replicate_1',\n",
       " 'Activity at 0.0001677464 uM-Replicate_1',\n",
       " 'Activity at 0.0003678000 uM-Replicate_1',\n",
       " 'Activity at 0.0007362988 uM-Replicate_1',\n",
       " 'Activity at 0.00153 uM-Replicate_1',\n",
       " 'Activity at 0.00368 uM-Replicate_1',\n",
       " 'Activity at 0.00723 uM-Replicate_1',\n",
       " 'Activity at 0.00914 uM-Replicate_1',\n",
       " 'Activity at 0.018 uM-Replicate_1',\n",
       " 'Activity at 0.039 uM-Replicate_1',\n",
       " 'Activity at 0.092 uM-Replicate_1',\n",
       " 'Activity at 0.191 uM-Replicate_1',\n",
       " 'Activity at 0.460 uM-Replicate_1',\n",
       " 'Activity at 0.910 uM-Replicate_1',\n",
       " 'Activity at 1.182 uM-Replicate_1',\n",
       " 'Activity at 2.302 uM-Replicate_1',\n",
       " 'Activity at 4.834 uM-Replicate_1',\n",
       " 'Activity at 11.49 uM-Replicate_1',\n",
       " 'Activity at 23.94 uM-Replicate_1',\n",
       " 'Activity at 57.45 uM-Replicate_1',\n",
       " 'Activity at 115.4 uM-Replicate_1',\n",
       " 'Activity at 193.5 uM-Replicate_1',\n",
       " 'Activity at 288.3 uM-Replicate_1',\n",
       " 'Compound QC-Replicate_1',\n",
       " 'Phenotype-Replicate_2',\n",
       " 'Potency-Replicate_2',\n",
       " 'Efficacy-Replicate_2',\n",
       " 'Analysis Comment-Replicate_2',\n",
       " 'Activity_Score-Replicate_2',\n",
       " 'Curve_Description-Replicate_2',\n",
       " 'Fit_LogAC50-Replicate_2',\n",
       " 'Fit_HillSlope-Replicate_2',\n",
       " 'Fit_R2-Replicate_2',\n",
       " 'Fit_InfiniteActivity-Replicate_2',\n",
       " 'Fit_ZeroActivity-Replicate_2',\n",
       " 'Fit_CurveClass-Replicate_2',\n",
       " 'Excluded_Points-Replicate_2',\n",
       " 'Max_Response-Replicate_2',\n",
       " 'Activity at 0.0000073560 uM-Replicate_2',\n",
       " 'Activity at 0.0000367800 uM-Replicate_2',\n",
       " 'Activity at 0.0000735600 uM-Replicate_2',\n",
       " 'Activity at 0.0001677464 uM-Replicate_2',\n",
       " 'Activity at 0.0003678000 uM-Replicate_2',\n",
       " 'Activity at 0.0007362988 uM-Replicate_2',\n",
       " 'Activity at 0.00153 uM-Replicate_2',\n",
       " 'Activity at 0.00368 uM-Replicate_2',\n",
       " 'Activity at 0.00723 uM-Replicate_2',\n",
       " 'Activity at 0.00914 uM-Replicate_2',\n",
       " 'Activity at 0.018 uM-Replicate_2',\n",
       " 'Activity at 0.039 uM-Replicate_2',\n",
       " 'Activity at 0.092 uM-Replicate_2',\n",
       " 'Activity at 0.191 uM-Replicate_2',\n",
       " 'Activity at 0.460 uM-Replicate_2',\n",
       " 'Activity at 0.910 uM-Replicate_2',\n",
       " 'Activity at 1.182 uM-Replicate_2',\n",
       " 'Activity at 2.302 uM-Replicate_2',\n",
       " 'Activity at 4.834 uM-Replicate_2',\n",
       " 'Activity at 11.49 uM-Replicate_2',\n",
       " 'Activity at 23.94 uM-Replicate_2',\n",
       " 'Activity at 57.45 uM-Replicate_2',\n",
       " 'Activity at 115.4 uM-Replicate_2',\n",
       " 'Activity at 193.5 uM-Replicate_2',\n",
       " 'Activity at 288.3 uM-Replicate_2',\n",
       " 'Phenotype-Replicate_3',\n",
       " 'Potency-Replicate_3',\n",
       " 'Efficacy-Replicate_3',\n",
       " 'Analysis Comment-Replicate_3',\n",
       " 'Activity_Score-Replicate_3',\n",
       " 'Curve_Description-Replicate_3',\n",
       " 'Fit_LogAC50-Replicate_3',\n",
       " 'Fit_HillSlope-Replicate_3',\n",
       " 'Fit_R2-Replicate_3',\n",
       " 'Fit_InfiniteActivity-Replicate_3',\n",
       " 'Fit_ZeroActivity-Replicate_3',\n",
       " 'Fit_CurveClass-Replicate_3',\n",
       " 'Excluded_Points-Replicate_3',\n",
       " 'Max_Response-Replicate_3',\n",
       " 'Activity at 0.0000073560 uM-Replicate_3',\n",
       " 'Activity at 0.0000367800 uM-Replicate_3',\n",
       " 'Activity at 0.0000735600 uM-Replicate_3',\n",
       " 'Activity at 0.0001677464 uM-Replicate_3',\n",
       " 'Activity at 0.0003678000 uM-Replicate_3',\n",
       " 'Activity at 0.0007362988 uM-Replicate_3',\n",
       " 'Activity at 0.00153 uM-Replicate_3',\n",
       " 'Activity at 0.00368 uM-Replicate_3',\n",
       " 'Activity at 0.00723 uM-Replicate_3',\n",
       " 'Activity at 0.00914 uM-Replicate_3',\n",
       " 'Activity at 0.018 uM-Replicate_3',\n",
       " 'Activity at 0.039 uM-Replicate_3',\n",
       " 'Activity at 0.092 uM-Replicate_3',\n",
       " 'Activity at 0.191 uM-Replicate_3',\n",
       " 'Activity at 0.460 uM-Replicate_3',\n",
       " 'Activity at 0.910 uM-Replicate_3',\n",
       " 'Activity at 1.182 uM-Replicate_3',\n",
       " 'Activity at 2.302 uM-Replicate_3',\n",
       " 'Activity at 4.834 uM-Replicate_3',\n",
       " 'Activity at 11.49 uM-Replicate_3',\n",
       " 'Activity at 23.94 uM-Replicate_3',\n",
       " 'Activity at 57.45 uM-Replicate_3',\n",
       " 'Activity at 115.4 uM-Replicate_3',\n",
       " 'Activity at 193.5 uM-Replicate_3',\n",
       " 'Activity at 288.3 uM-Replicate_3',\n",
       " 'Phenotype-Replicate_4',\n",
       " 'Potency-Replicate_4',\n",
       " 'Efficacy-Replicate_4',\n",
       " 'Analysis Comment-Replicate_4',\n",
       " 'Activity_Score-Replicate_4',\n",
       " 'Curve_Description-Replicate_4',\n",
       " 'Fit_LogAC50-Replicate_4',\n",
       " 'Fit_HillSlope-Replicate_4',\n",
       " 'Fit_R2-Replicate_4',\n",
       " 'Fit_InfiniteActivity-Replicate_4',\n",
       " 'Fit_ZeroActivity-Replicate_4',\n",
       " 'Fit_CurveClass-Replicate_4',\n",
       " 'Excluded_Points-Replicate_4',\n",
       " 'Max_Response-Replicate_4',\n",
       " 'Activity at 0.0000073560 uM-Replicate_4',\n",
       " 'Activity at 0.0000367800 uM-Replicate_4',\n",
       " 'Activity at 0.0000735600 uM-Replicate_4',\n",
       " 'Activity at 0.0001677464 uM-Replicate_4',\n",
       " 'Activity at 0.0003678000 uM-Replicate_4',\n",
       " 'Activity at 0.0007362988 uM-Replicate_4',\n",
       " 'Activity at 0.00153 uM-Replicate_4',\n",
       " 'Activity at 0.00368 uM-Replicate_4',\n",
       " 'Activity at 0.00723 uM-Replicate_4',\n",
       " 'Activity at 0.00914 uM-Replicate_4',\n",
       " 'Activity at 0.018 uM-Replicate_4',\n",
       " 'Activity at 0.039 uM-Replicate_4',\n",
       " 'Activity at 0.092 uM-Replicate_4',\n",
       " 'Activity at 0.191 uM-Replicate_4',\n",
       " 'Activity at 0.460 uM-Replicate_4',\n",
       " 'Activity at 0.910 uM-Replicate_4',\n",
       " 'Activity at 1.182 uM-Replicate_4',\n",
       " 'Activity at 2.302 uM-Replicate_4',\n",
       " 'Activity at 4.834 uM-Replicate_4',\n",
       " 'Activity at 11.49 uM-Replicate_4',\n",
       " 'Activity at 23.94 uM-Replicate_4',\n",
       " 'Activity at 57.45 uM-Replicate_4',\n",
       " 'Activity at 115.4 uM-Replicate_4',\n",
       " 'Activity at 193.5 uM-Replicate_4',\n",
       " 'Activity at 288.3 uM-Replicate_4',\n",
       " 'Phenotype-Replicate_5',\n",
       " 'Potency-Replicate_5',\n",
       " 'Efficacy-Replicate_5',\n",
       " 'Analysis Comment-Replicate_5',\n",
       " 'Activity_Score-Replicate_5',\n",
       " 'Curve_Description-Replicate_5',\n",
       " 'Fit_LogAC50-Replicate_5',\n",
       " 'Fit_HillSlope-Replicate_5',\n",
       " 'Fit_R2-Replicate_5',\n",
       " 'Fit_InfiniteActivity-Replicate_5',\n",
       " 'Fit_ZeroActivity-Replicate_5',\n",
       " 'Fit_CurveClass-Replicate_5',\n",
       " 'Excluded_Points-Replicate_5',\n",
       " 'Max_Response-Replicate_5',\n",
       " 'Activity at 0.0000073560 uM-Replicate_5',\n",
       " 'Activity at 0.0000367800 uM-Replicate_5',\n",
       " 'Activity at 0.0000735600 uM-Replicate_5',\n",
       " 'Activity at 0.0001677464 uM-Replicate_5',\n",
       " 'Activity at 0.0003678000 uM-Replicate_5',\n",
       " 'Activity at 0.0007362988 uM-Replicate_5',\n",
       " 'Activity at 0.00153 uM-Replicate_5',\n",
       " 'Activity at 0.00368 uM-Replicate_5',\n",
       " 'Activity at 0.00723 uM-Replicate_5',\n",
       " 'Activity at 0.00914 uM-Replicate_5',\n",
       " 'Activity at 0.018 uM-Replicate_5',\n",
       " 'Activity at 0.039 uM-Replicate_5',\n",
       " 'Activity at 0.092 uM-Replicate_5',\n",
       " 'Activity at 0.191 uM-Replicate_5',\n",
       " 'Activity at 0.460 uM-Replicate_5',\n",
       " 'Activity at 0.910 uM-Replicate_5',\n",
       " 'Activity at 1.182 uM-Replicate_5',\n",
       " 'Activity at 2.302 uM-Replicate_5',\n",
       " 'Activity at 4.834 uM-Replicate_5',\n",
       " 'Activity at 11.49 uM-Replicate_5',\n",
       " 'Activity at 23.94 uM-Replicate_5',\n",
       " 'Activity at 57.45 uM-Replicate_5',\n",
       " 'Activity at 115.4 uM-Replicate_5',\n",
       " 'Activity at 193.5 uM-Replicate_5',\n",
       " 'Activity at 288.3 uM-Replicate_5']"
      ]
     },
     "execution_count": 5,
     "metadata": {},
     "output_type": "execute_result"
    }
   ],
   "source": [
    "list(df.columns)"
   ]
  },
  {
   "cell_type": "code",
   "execution_count": 6,
   "id": "1b1d5290-741a-4384-8054-bf8e3bba8f05",
   "metadata": {},
   "outputs": [
    {
     "data": {
      "text/html": [
       "<div>\n",
       "<style scoped>\n",
       "    .dataframe tbody tr th:only-of-type {\n",
       "        vertical-align: middle;\n",
       "    }\n",
       "\n",
       "    .dataframe tbody tr th {\n",
       "        vertical-align: top;\n",
       "    }\n",
       "\n",
       "    .dataframe thead th {\n",
       "        text-align: right;\n",
       "    }\n",
       "</style>\n",
       "<table border=\"1\" class=\"dataframe\">\n",
       "  <thead>\n",
       "    <tr style=\"text-align: right;\">\n",
       "      <th></th>\n",
       "      <th>PUBCHEM_RESULT_TAG</th>\n",
       "      <th>PUBCHEM_SID</th>\n",
       "      <th>PUBCHEM_CID</th>\n",
       "      <th>PUBCHEM_EXT_DATASOURCE_SMILES</th>\n",
       "      <th>PUBCHEM_ACTIVITY_OUTCOME</th>\n",
       "      <th>PUBCHEM_ACTIVITY_SCORE</th>\n",
       "      <th>PUBCHEM_ACTIVITY_URL</th>\n",
       "      <th>PUBCHEM_ASSAYDATA_COMMENT</th>\n",
       "      <th>Phenotype-Replicate_1</th>\n",
       "      <th>Potency-Replicate_1</th>\n",
       "      <th>...</th>\n",
       "      <th>Activity at 0.910 uM-Replicate_5</th>\n",
       "      <th>Activity at 1.182 uM-Replicate_5</th>\n",
       "      <th>Activity at 2.302 uM-Replicate_5</th>\n",
       "      <th>Activity at 4.834 uM-Replicate_5</th>\n",
       "      <th>Activity at 11.49 uM-Replicate_5</th>\n",
       "      <th>Activity at 23.94 uM-Replicate_5</th>\n",
       "      <th>Activity at 57.45 uM-Replicate_5</th>\n",
       "      <th>Activity at 115.4 uM-Replicate_5</th>\n",
       "      <th>Activity at 193.5 uM-Replicate_5</th>\n",
       "      <th>Activity at 288.3 uM-Replicate_5</th>\n",
       "    </tr>\n",
       "  </thead>\n",
       "  <tbody>\n",
       "    <tr>\n",
       "      <th>0</th>\n",
       "      <td>RESULT_TYPE</td>\n",
       "      <td>NaN</td>\n",
       "      <td>NaN</td>\n",
       "      <td>NaN</td>\n",
       "      <td>NaN</td>\n",
       "      <td>NaN</td>\n",
       "      <td>NaN</td>\n",
       "      <td>NaN</td>\n",
       "      <td>STRING</td>\n",
       "      <td>FLOAT</td>\n",
       "      <td>...</td>\n",
       "      <td>FLOAT</td>\n",
       "      <td>FLOAT</td>\n",
       "      <td>FLOAT</td>\n",
       "      <td>FLOAT</td>\n",
       "      <td>FLOAT</td>\n",
       "      <td>FLOAT</td>\n",
       "      <td>FLOAT</td>\n",
       "      <td>FLOAT</td>\n",
       "      <td>FLOAT</td>\n",
       "      <td>FLOAT</td>\n",
       "    </tr>\n",
       "    <tr>\n",
       "      <th>1</th>\n",
       "      <td>RESULT_DESCR</td>\n",
       "      <td>NaN</td>\n",
       "      <td>NaN</td>\n",
       "      <td>NaN</td>\n",
       "      <td>NaN</td>\n",
       "      <td>NaN</td>\n",
       "      <td>NaN</td>\n",
       "      <td>NaN</td>\n",
       "      <td>Indicates type of activity observed: inhibitor...</td>\n",
       "      <td>Concentration at which compound exhibits half-...</td>\n",
       "      <td>...</td>\n",
       "      <td>% Activity at given concentration.</td>\n",
       "      <td>% Activity at given concentration.</td>\n",
       "      <td>% Activity at given concentration.</td>\n",
       "      <td>% Activity at given concentration.</td>\n",
       "      <td>% Activity at given concentration.</td>\n",
       "      <td>% Activity at given concentration.</td>\n",
       "      <td>% Activity at given concentration.</td>\n",
       "      <td>% Activity at given concentration.</td>\n",
       "      <td>% Activity at given concentration.</td>\n",
       "      <td>% Activity at given concentration.</td>\n",
       "    </tr>\n",
       "    <tr>\n",
       "      <th>2</th>\n",
       "      <td>RESULT_UNIT</td>\n",
       "      <td>NaN</td>\n",
       "      <td>NaN</td>\n",
       "      <td>NaN</td>\n",
       "      <td>NaN</td>\n",
       "      <td>NaN</td>\n",
       "      <td>NaN</td>\n",
       "      <td>NaN</td>\n",
       "      <td>NaN</td>\n",
       "      <td>MICROMOLAR</td>\n",
       "      <td>...</td>\n",
       "      <td>PERCENT</td>\n",
       "      <td>PERCENT</td>\n",
       "      <td>PERCENT</td>\n",
       "      <td>PERCENT</td>\n",
       "      <td>PERCENT</td>\n",
       "      <td>PERCENT</td>\n",
       "      <td>PERCENT</td>\n",
       "      <td>PERCENT</td>\n",
       "      <td>PERCENT</td>\n",
       "      <td>PERCENT</td>\n",
       "    </tr>\n",
       "    <tr>\n",
       "      <th>3</th>\n",
       "      <td>RESULT_IS_ACTIVE_CONCENTRATION</td>\n",
       "      <td>NaN</td>\n",
       "      <td>NaN</td>\n",
       "      <td>NaN</td>\n",
       "      <td>NaN</td>\n",
       "      <td>NaN</td>\n",
       "      <td>NaN</td>\n",
       "      <td>NaN</td>\n",
       "      <td>NaN</td>\n",
       "      <td>TRUE</td>\n",
       "      <td>...</td>\n",
       "      <td>NaN</td>\n",
       "      <td>NaN</td>\n",
       "      <td>NaN</td>\n",
       "      <td>NaN</td>\n",
       "      <td>NaN</td>\n",
       "      <td>NaN</td>\n",
       "      <td>NaN</td>\n",
       "      <td>NaN</td>\n",
       "      <td>NaN</td>\n",
       "      <td>NaN</td>\n",
       "    </tr>\n",
       "    <tr>\n",
       "      <th>4</th>\n",
       "      <td>RESULT_ATTR_CONC_MICROMOL</td>\n",
       "      <td>NaN</td>\n",
       "      <td>NaN</td>\n",
       "      <td>NaN</td>\n",
       "      <td>NaN</td>\n",
       "      <td>NaN</td>\n",
       "      <td>NaN</td>\n",
       "      <td>NaN</td>\n",
       "      <td>NaN</td>\n",
       "      <td>NaN</td>\n",
       "      <td>...</td>\n",
       "      <td>0.909733</td>\n",
       "      <td>1.18163</td>\n",
       "      <td>2.3015</td>\n",
       "      <td>4.83399</td>\n",
       "      <td>11.4937</td>\n",
       "      <td>23.9433</td>\n",
       "      <td>57.447</td>\n",
       "      <td>115.368</td>\n",
       "      <td>193.451</td>\n",
       "      <td>288.3</td>\n",
       "    </tr>\n",
       "  </tbody>\n",
       "</table>\n",
       "<p>5 rows × 204 columns</p>\n",
       "</div>"
      ],
      "text/plain": [
       "               PUBCHEM_RESULT_TAG  PUBCHEM_SID  PUBCHEM_CID  \\\n",
       "0                     RESULT_TYPE          NaN          NaN   \n",
       "1                    RESULT_DESCR          NaN          NaN   \n",
       "2                     RESULT_UNIT          NaN          NaN   \n",
       "3  RESULT_IS_ACTIVE_CONCENTRATION          NaN          NaN   \n",
       "4       RESULT_ATTR_CONC_MICROMOL          NaN          NaN   \n",
       "\n",
       "  PUBCHEM_EXT_DATASOURCE_SMILES PUBCHEM_ACTIVITY_OUTCOME  \\\n",
       "0                           NaN                      NaN   \n",
       "1                           NaN                      NaN   \n",
       "2                           NaN                      NaN   \n",
       "3                           NaN                      NaN   \n",
       "4                           NaN                      NaN   \n",
       "\n",
       "   PUBCHEM_ACTIVITY_SCORE PUBCHEM_ACTIVITY_URL  PUBCHEM_ASSAYDATA_COMMENT  \\\n",
       "0                     NaN                  NaN                        NaN   \n",
       "1                     NaN                  NaN                        NaN   \n",
       "2                     NaN                  NaN                        NaN   \n",
       "3                     NaN                  NaN                        NaN   \n",
       "4                     NaN                  NaN                        NaN   \n",
       "\n",
       "                               Phenotype-Replicate_1  \\\n",
       "0                                             STRING   \n",
       "1  Indicates type of activity observed: inhibitor...   \n",
       "2                                                NaN   \n",
       "3                                                NaN   \n",
       "4                                                NaN   \n",
       "\n",
       "                                 Potency-Replicate_1  ...  \\\n",
       "0                                              FLOAT  ...   \n",
       "1  Concentration at which compound exhibits half-...  ...   \n",
       "2                                         MICROMOLAR  ...   \n",
       "3                                               TRUE  ...   \n",
       "4                                                NaN  ...   \n",
       "\n",
       "     Activity at 0.910 uM-Replicate_5    Activity at 1.182 uM-Replicate_5  \\\n",
       "0                               FLOAT                               FLOAT   \n",
       "1  % Activity at given concentration.  % Activity at given concentration.   \n",
       "2                             PERCENT                             PERCENT   \n",
       "3                                 NaN                                 NaN   \n",
       "4                            0.909733                             1.18163   \n",
       "\n",
       "     Activity at 2.302 uM-Replicate_5    Activity at 4.834 uM-Replicate_5  \\\n",
       "0                               FLOAT                               FLOAT   \n",
       "1  % Activity at given concentration.  % Activity at given concentration.   \n",
       "2                             PERCENT                             PERCENT   \n",
       "3                                 NaN                                 NaN   \n",
       "4                              2.3015                             4.83399   \n",
       "\n",
       "     Activity at 11.49 uM-Replicate_5    Activity at 23.94 uM-Replicate_5  \\\n",
       "0                               FLOAT                               FLOAT   \n",
       "1  % Activity at given concentration.  % Activity at given concentration.   \n",
       "2                             PERCENT                             PERCENT   \n",
       "3                                 NaN                                 NaN   \n",
       "4                             11.4937                             23.9433   \n",
       "\n",
       "     Activity at 57.45 uM-Replicate_5    Activity at 115.4 uM-Replicate_5  \\\n",
       "0                               FLOAT                               FLOAT   \n",
       "1  % Activity at given concentration.  % Activity at given concentration.   \n",
       "2                             PERCENT                             PERCENT   \n",
       "3                                 NaN                                 NaN   \n",
       "4                              57.447                             115.368   \n",
       "\n",
       "     Activity at 193.5 uM-Replicate_5    Activity at 288.3 uM-Replicate_5  \n",
       "0                               FLOAT                               FLOAT  \n",
       "1  % Activity at given concentration.  % Activity at given concentration.  \n",
       "2                             PERCENT                             PERCENT  \n",
       "3                                 NaN                                 NaN  \n",
       "4                             193.451                               288.3  \n",
       "\n",
       "[5 rows x 204 columns]"
      ]
     },
     "execution_count": 6,
     "metadata": {},
     "output_type": "execute_result"
    }
   ],
   "source": [
    "# first 5 rows are metadata \n",
    "df[0:5]"
   ]
  },
  {
   "cell_type": "code",
   "execution_count": 7,
   "id": "d6616fa5-8468-4141-8f4d-b852bb3a4e98",
   "metadata": {},
   "outputs": [],
   "source": [
    "    df = df.drop(labels=list(range(0, 5)), axis=0).reset_index(\n",
    "        drop=True\n",
    "    )"
   ]
  },
  {
   "cell_type": "code",
   "execution_count": 8,
   "id": "b720283f-a3df-420d-ab9c-48f52290cb4b",
   "metadata": {},
   "outputs": [
    {
     "data": {
      "text/html": [
       "<div>\n",
       "<style scoped>\n",
       "    .dataframe tbody tr th:only-of-type {\n",
       "        vertical-align: middle;\n",
       "    }\n",
       "\n",
       "    .dataframe tbody tr th {\n",
       "        vertical-align: top;\n",
       "    }\n",
       "\n",
       "    .dataframe thead th {\n",
       "        text-align: right;\n",
       "    }\n",
       "</style>\n",
       "<table border=\"1\" class=\"dataframe\">\n",
       "  <thead>\n",
       "    <tr style=\"text-align: right;\">\n",
       "      <th></th>\n",
       "      <th>PUBCHEM_RESULT_TAG</th>\n",
       "      <th>PUBCHEM_SID</th>\n",
       "      <th>PUBCHEM_CID</th>\n",
       "      <th>PUBCHEM_EXT_DATASOURCE_SMILES</th>\n",
       "      <th>PUBCHEM_ACTIVITY_OUTCOME</th>\n",
       "      <th>PUBCHEM_ACTIVITY_SCORE</th>\n",
       "      <th>PUBCHEM_ACTIVITY_URL</th>\n",
       "      <th>PUBCHEM_ASSAYDATA_COMMENT</th>\n",
       "      <th>Phenotype-Replicate_1</th>\n",
       "      <th>Potency-Replicate_1</th>\n",
       "      <th>...</th>\n",
       "      <th>Activity at 0.910 uM-Replicate_5</th>\n",
       "      <th>Activity at 1.182 uM-Replicate_5</th>\n",
       "      <th>Activity at 2.302 uM-Replicate_5</th>\n",
       "      <th>Activity at 4.834 uM-Replicate_5</th>\n",
       "      <th>Activity at 11.49 uM-Replicate_5</th>\n",
       "      <th>Activity at 23.94 uM-Replicate_5</th>\n",
       "      <th>Activity at 57.45 uM-Replicate_5</th>\n",
       "      <th>Activity at 115.4 uM-Replicate_5</th>\n",
       "      <th>Activity at 193.5 uM-Replicate_5</th>\n",
       "      <th>Activity at 288.3 uM-Replicate_5</th>\n",
       "    </tr>\n",
       "  </thead>\n",
       "  <tbody>\n",
       "    <tr>\n",
       "      <th>0</th>\n",
       "      <td>1</td>\n",
       "      <td>104223880.0</td>\n",
       "      <td>197033.0</td>\n",
       "      <td>CC1=CC2=C(C=C1)N(C3=C2CN(CC3)C)CCC4=CN=C(C=C4)C</td>\n",
       "      <td>Active</td>\n",
       "      <td>41.0</td>\n",
       "      <td>http://assay.nih.gov/htsws/rest/display/p450-i...</td>\n",
       "      <td>NaN</td>\n",
       "      <td>Inhibitor</td>\n",
       "      <td>10.684</td>\n",
       "      <td>...</td>\n",
       "      <td>NaN</td>\n",
       "      <td>NaN</td>\n",
       "      <td>NaN</td>\n",
       "      <td>NaN</td>\n",
       "      <td>NaN</td>\n",
       "      <td>NaN</td>\n",
       "      <td>NaN</td>\n",
       "      <td>NaN</td>\n",
       "      <td>NaN</td>\n",
       "      <td>NaN</td>\n",
       "    </tr>\n",
       "    <tr>\n",
       "      <th>1</th>\n",
       "      <td>2</td>\n",
       "      <td>11111456.0</td>\n",
       "      <td>5281670.0</td>\n",
       "      <td>C1=CC(=C(C=C1O)O)C2=C(C(=O)C3=C(C=C(C=C3O2)O)O)O</td>\n",
       "      <td>Inconclusive</td>\n",
       "      <td>10.0</td>\n",
       "      <td>http://assay.nih.gov/htsws/rest/display/p450-i...</td>\n",
       "      <td>NaN</td>\n",
       "      <td>Inhibitor</td>\n",
       "      <td>23.9185</td>\n",
       "      <td>...</td>\n",
       "      <td>NaN</td>\n",
       "      <td>NaN</td>\n",
       "      <td>NaN</td>\n",
       "      <td>NaN</td>\n",
       "      <td>NaN</td>\n",
       "      <td>NaN</td>\n",
       "      <td>NaN</td>\n",
       "      <td>NaN</td>\n",
       "      <td>NaN</td>\n",
       "      <td>NaN</td>\n",
       "    </tr>\n",
       "    <tr>\n",
       "      <th>2</th>\n",
       "      <td>3</td>\n",
       "      <td>11113977.0</td>\n",
       "      <td>6604832.0</td>\n",
       "      <td>C[C@H]1[C@@H](C(=O)N[C@H](C(=O)N2CCC[C@@H]2C(=...</td>\n",
       "      <td>Inconclusive</td>\n",
       "      <td>10.0</td>\n",
       "      <td>http://assay.nih.gov/htsws/rest/display/p450-i...</td>\n",
       "      <td>NaN</td>\n",
       "      <td>Inhibitor</td>\n",
       "      <td>7.5637</td>\n",
       "      <td>...</td>\n",
       "      <td>NaN</td>\n",
       "      <td>NaN</td>\n",
       "      <td>NaN</td>\n",
       "      <td>NaN</td>\n",
       "      <td>NaN</td>\n",
       "      <td>NaN</td>\n",
       "      <td>NaN</td>\n",
       "      <td>NaN</td>\n",
       "      <td>NaN</td>\n",
       "      <td>NaN</td>\n",
       "    </tr>\n",
       "    <tr>\n",
       "      <th>3</th>\n",
       "      <td>4</td>\n",
       "      <td>124879150.0</td>\n",
       "      <td>5280443.0</td>\n",
       "      <td>C1=CC(=CC=C1C2=CC(=O)C3=C(C=C(C=C3O2)O)O)O</td>\n",
       "      <td>Active</td>\n",
       "      <td>41.0</td>\n",
       "      <td>http://assay.nih.gov/htsws/rest/display/p450-i...</td>\n",
       "      <td>NaN</td>\n",
       "      <td>Inhibitor</td>\n",
       "      <td>21.3174</td>\n",
       "      <td>...</td>\n",
       "      <td>NaN</td>\n",
       "      <td>NaN</td>\n",
       "      <td>NaN</td>\n",
       "      <td>NaN</td>\n",
       "      <td>NaN</td>\n",
       "      <td>NaN</td>\n",
       "      <td>NaN</td>\n",
       "      <td>NaN</td>\n",
       "      <td>NaN</td>\n",
       "      <td>NaN</td>\n",
       "    </tr>\n",
       "    <tr>\n",
       "      <th>4</th>\n",
       "      <td>5</td>\n",
       "      <td>124879975.0</td>\n",
       "      <td>836.0</td>\n",
       "      <td>C1=CC(=C(C=C1CC(C(=O)O)N)O)O</td>\n",
       "      <td>Inactive</td>\n",
       "      <td>0.0</td>\n",
       "      <td>http://assay.nih.gov/htsws/rest/display/p450-i...</td>\n",
       "      <td>NaN</td>\n",
       "      <td>Inactive</td>\n",
       "      <td>NaN</td>\n",
       "      <td>...</td>\n",
       "      <td>NaN</td>\n",
       "      <td>NaN</td>\n",
       "      <td>NaN</td>\n",
       "      <td>NaN</td>\n",
       "      <td>NaN</td>\n",
       "      <td>NaN</td>\n",
       "      <td>NaN</td>\n",
       "      <td>NaN</td>\n",
       "      <td>NaN</td>\n",
       "      <td>NaN</td>\n",
       "    </tr>\n",
       "  </tbody>\n",
       "</table>\n",
       "<p>5 rows × 204 columns</p>\n",
       "</div>"
      ],
      "text/plain": [
       "  PUBCHEM_RESULT_TAG  PUBCHEM_SID  PUBCHEM_CID  \\\n",
       "0                  1  104223880.0     197033.0   \n",
       "1                  2   11111456.0    5281670.0   \n",
       "2                  3   11113977.0    6604832.0   \n",
       "3                  4  124879150.0    5280443.0   \n",
       "4                  5  124879975.0        836.0   \n",
       "\n",
       "                       PUBCHEM_EXT_DATASOURCE_SMILES PUBCHEM_ACTIVITY_OUTCOME  \\\n",
       "0    CC1=CC2=C(C=C1)N(C3=C2CN(CC3)C)CCC4=CN=C(C=C4)C                   Active   \n",
       "1   C1=CC(=C(C=C1O)O)C2=C(C(=O)C3=C(C=C(C=C3O2)O)O)O             Inconclusive   \n",
       "2  C[C@H]1[C@@H](C(=O)N[C@H](C(=O)N2CCC[C@@H]2C(=...             Inconclusive   \n",
       "3         C1=CC(=CC=C1C2=CC(=O)C3=C(C=C(C=C3O2)O)O)O                   Active   \n",
       "4                       C1=CC(=C(C=C1CC(C(=O)O)N)O)O                 Inactive   \n",
       "\n",
       "   PUBCHEM_ACTIVITY_SCORE                               PUBCHEM_ACTIVITY_URL  \\\n",
       "0                    41.0  http://assay.nih.gov/htsws/rest/display/p450-i...   \n",
       "1                    10.0  http://assay.nih.gov/htsws/rest/display/p450-i...   \n",
       "2                    10.0  http://assay.nih.gov/htsws/rest/display/p450-i...   \n",
       "3                    41.0  http://assay.nih.gov/htsws/rest/display/p450-i...   \n",
       "4                     0.0  http://assay.nih.gov/htsws/rest/display/p450-i...   \n",
       "\n",
       "   PUBCHEM_ASSAYDATA_COMMENT Phenotype-Replicate_1 Potency-Replicate_1  ...  \\\n",
       "0                        NaN             Inhibitor              10.684  ...   \n",
       "1                        NaN             Inhibitor             23.9185  ...   \n",
       "2                        NaN             Inhibitor              7.5637  ...   \n",
       "3                        NaN             Inhibitor             21.3174  ...   \n",
       "4                        NaN              Inactive                 NaN  ...   \n",
       "\n",
       "  Activity at 0.910 uM-Replicate_5 Activity at 1.182 uM-Replicate_5  \\\n",
       "0                              NaN                              NaN   \n",
       "1                              NaN                              NaN   \n",
       "2                              NaN                              NaN   \n",
       "3                              NaN                              NaN   \n",
       "4                              NaN                              NaN   \n",
       "\n",
       "  Activity at 2.302 uM-Replicate_5 Activity at 4.834 uM-Replicate_5  \\\n",
       "0                              NaN                              NaN   \n",
       "1                              NaN                              NaN   \n",
       "2                              NaN                              NaN   \n",
       "3                              NaN                              NaN   \n",
       "4                              NaN                              NaN   \n",
       "\n",
       "  Activity at 11.49 uM-Replicate_5 Activity at 23.94 uM-Replicate_5  \\\n",
       "0                              NaN                              NaN   \n",
       "1                              NaN                              NaN   \n",
       "2                              NaN                              NaN   \n",
       "3                              NaN                              NaN   \n",
       "4                              NaN                              NaN   \n",
       "\n",
       "  Activity at 57.45 uM-Replicate_5 Activity at 115.4 uM-Replicate_5  \\\n",
       "0                              NaN                              NaN   \n",
       "1                              NaN                              NaN   \n",
       "2                              NaN                              NaN   \n",
       "3                              NaN                              NaN   \n",
       "4                              NaN                              NaN   \n",
       "\n",
       "  Activity at 193.5 uM-Replicate_5 Activity at 288.3 uM-Replicate_5  \n",
       "0                              NaN                              NaN  \n",
       "1                              NaN                              NaN  \n",
       "2                              NaN                              NaN  \n",
       "3                              NaN                              NaN  \n",
       "4                              NaN                              NaN  \n",
       "\n",
       "[5 rows x 204 columns]"
      ]
     },
     "execution_count": 8,
     "metadata": {},
     "output_type": "execute_result"
    }
   ],
   "source": [
    "df.head()"
   ]
  },
  {
   "cell_type": "code",
   "execution_count": 9,
   "id": "0f77784b-0cf7-425b-b74b-ccfc6519617a",
   "metadata": {},
   "outputs": [
    {
     "data": {
      "text/plain": [
       "<Axes: xlabel='Phenotype-Replicate_1', ylabel='count'>"
      ]
     },
     "execution_count": 9,
     "metadata": {},
     "output_type": "execute_result"
    },
    {
     "data": {
      "image/png": "[encoded data removed]",
      "text/plain": [
       "<Figure size 640x480 with 1 Axes>"
      ]
     },
     "metadata": {},
     "output_type": "display_data"
    }
   ],
   "source": [
    "sns.countplot(data=df, x=\"Phenotype-Replicate_1\")"
   ]
  },
  {
   "cell_type": "code",
   "execution_count": 10,
   "id": "82e0cb24-3008-4a7d-8003-d4a1d4af891e",
   "metadata": {},
   "outputs": [
    {
     "data": {
      "text/plain": [
       "<Axes: xlabel='PUBCHEM_ACTIVITY_SCORE', ylabel='Count'>"
      ]
     },
     "execution_count": 10,
     "metadata": {},
     "output_type": "execute_result"
    },
    {
     "data": {
      "image/png": "[encoded data removed]",
      "text/plain": [
       "<Figure size 640x480 with 1 Axes>"
      ]
     },
     "metadata": {},
     "output_type": "display_data"
    }
   ],
   "source": [
    "sns.histplot(data=df, x=\"PUBCHEM_ACTIVITY_SCORE\")"
   ]
  },
  {
   "cell_type": "code",
   "execution_count": 11,
   "id": "1714b907-5c00-47f5-a6a0-6a5ef3981999",
   "metadata": {},
   "outputs": [
    {
     "data": {
      "text/plain": [
       "<Axes: xlabel='PUBCHEM_ACTIVITY_OUTCOME', ylabel='Count'>"
      ]
     },
     "execution_count": 11,
     "metadata": {},
     "output_type": "execute_result"
    },
    {
     "data": {
      "image/png": "[encoded data removed]",
      "text/plain": [
       "<Figure size 640x480 with 1 Axes>"
      ]
     },
     "metadata": {},
     "output_type": "display_data"
    }
   ],
   "source": [
    "sns.histplot(data=df, x=\"PUBCHEM_ACTIVITY_OUTCOME\")\n"
   ]
  },
  {
   "cell_type": "code",
   "execution_count": 12,
   "id": "8a3b2670-de6a-454d-a3f1-a2b13cd5de91",
   "metadata": {},
   "outputs": [],
   "source": [
    "import matplotlib.pyplot as plt"
   ]
  },
  {
   "cell_type": "code",
   "execution_count": 13,
   "id": "205cfd0d-3658-4b03-8dc4-caf082fefc24",
   "metadata": {},
   "outputs": [
    {
     "data": {
      "image/png": "[encoded data removed]",
      "text/plain": [
       "<Figure size 640x480 with 1 Axes>"
      ]
     },
     "metadata": {},
     "output_type": "display_data"
    }
   ],
   "source": [
    "plt.title(\"NCATS AID 1645842 Action Type\")\n",
    "sns.countplot(data=df, x=\"Phenotype-Replicate_1\")\n",
    "plt.xlabel(\"Action Type\")\n",
    "plt.savefig(\"NCATS_AID_1645842.png\")"
   ]
  },
  {
   "cell_type": "code",
   "execution_count": 14,
   "id": "ed1e7c87-bccc-466e-be39-62a8c96f2170",
   "metadata": {},
   "outputs": [],
   "source": [
    "# clean up the main_dataset"
   ]
  },
  {
   "cell_type": "code",
   "execution_count": null,
   "id": "95f808e7-be0b-4cbe-805f-87a450ccc8f8",
   "metadata": {},
   "outputs": [],
   "source": []
  },
  {
   "cell_type": "code",
   "execution_count": 15,
   "id": "a3f43192-3ed1-4b6f-9fbc-8a15ae6db9be",
   "metadata": {},
   "outputs": [],
   "source": [
    "activity_cols = [\"PUBCHEM_ACTIVITY_OUTCOME\", \"PUBCHEM_ACTIVITY_SCORE\"]"
   ]
  },
  {
   "cell_type": "code",
   "execution_count": 16,
   "id": "897690c2-e54a-42ea-b6e8-fbe19933d96b",
   "metadata": {},
   "outputs": [],
   "source": [
    "mol_col = \"PUBCHEM_EXT_DATASOURCE_SMILES\"\n",
    "mol_id_cols = [\"PUBCHEM_SID\", \"PUBCHEM_CID\"]"
   ]
  },
  {
   "cell_type": "code",
   "execution_count": 17,
   "id": "0cb8293c-c04f-4580-a7db-2bbd7a781479",
   "metadata": {},
   "outputs": [],
   "source": [
    "# standardisation of SMILES\n",
    "from rdkit import Chem\n",
    "from rdkit.Chem.MolStandardize import rdMolStandardize\n",
    "from rdkit.rdBase import BlockLogs\n",
    "import mols2grid"
   ]
  },
  {
   "cell_type": "code",
   "execution_count": 18,
   "id": "d3cdcc42-3b80-4924-b273-49266b3f0897",
   "metadata": {},
   "outputs": [],
   "source": [
    "\n",
    "# from Pat Walters method\n",
    "def standardize_smiles(smiles):\n",
    "    try:\n",
    "        # follows the steps in\n",
    "        # https://github.com/greglandrum/RSC_OpenScience_Standardization_202104/blob/main/MolStandardize%20pieces.ipynb\n",
    "        # as described **excellently** (by Greg) in\n",
    "        # https://www.youtube.com/watch?v=eWTApNX8dJQ\n",
    "        mol = Chem.MolFromSmiles(smiles)\n",
    "    \n",
    "        # removeHs, disconnect metal atoms, normalize the molecule, reionize the molecule\n",
    "        clean_mol = rdMolStandardize.Cleanup(mol)\n",
    "    \n",
    "        # if many fragments, get the \"parent\" (the actual mol we are interested in) \n",
    "        parent_clean_mol = rdMolStandardize.FragmentParent(clean_mol)\n",
    "    \n",
    "        # try to neutralize molecule\n",
    "        uncharger = rdMolStandardize.Uncharger()  # annoying, but necessary as no convenience method exists\n",
    "        uncharged_parent_clean_mol = uncharger.uncharge(parent_clean_mol)\n",
    "    \n",
    "        # note that no attempt is made at reionization at this step\n",
    "        # nor at ionization at some pH (rdkit has no pKa caculator)\n",
    "        # the main aim to represent all molecules from different sources\n",
    "        # in a (single) standard way, for use in ML, catalogue, etc.\n",
    "    \n",
    "        te = rdMolStandardize.TautomerEnumerator()  # idem\n",
    "        taut_uncharged_parent_clean_mol = te.Canonicalize(uncharged_parent_clean_mol)\n",
    "    \n",
    "        return Chem.MolToSmiles(taut_uncharged_parent_clean_mol)\n",
    "    except:\n",
    "        return pd.NA"
   ]
  },
  {
   "cell_type": "code",
   "execution_count": null,
   "id": "528ddd60-2320-4461-a7f6-153d7ea2eb8e",
   "metadata": {},
   "outputs": [
    {
     "name": "stderr",
     "output_type": "stream",
     "text": [
      "  7%|█████████▉                                                                                                                                      | 364/5242 [00:04<00:22, 213.00it/s]"
     ]
    }
   ],
   "source": [
    "\n",
    "with BlockLogs():\n",
    "    df[\"CANONICAL_SMILES\"] = df[\"PUBCHEM_EXT_DATASOURCE_SMILES\"].progress_apply(lambda x: standardize_smiles(x))"
   ]
  },
  {
   "cell_type": "code",
   "execution_count": null,
   "id": "796c01e4-a756-4a24-92a9-b9335a633fcb",
   "metadata": {},
   "outputs": [],
   "source": [
    "def smi_to_inchikey(smiles):\n",
    "    try:\n",
    "        mol = Chem.MolFromSmiles(smiles)\n",
    "        return Chem.MolToInchiKey(mol)\n",
    "    except:\n",
    "        return pd.NA"
   ]
  },
  {
   "cell_type": "code",
   "execution_count": null,
   "id": "bf99a84f-298e-42ce-bfb0-0c64bf67efda",
   "metadata": {},
   "outputs": [],
   "source": [
    "# compute inchikeys\n",
    "with BlockLogs():\n",
    "    df[\"INCHIKEY\"] = df[\"CANONICAL_SMILES\"].progress_apply(lambda x: smi_to_inchikey(x))"
   ]
  },
  {
   "cell_type": "code",
   "execution_count": null,
   "id": "87771120-4ed6-4157-b50b-f5b40836190a",
   "metadata": {},
   "outputs": [],
   "source": [
    "df.INCHIKEY.isna().sum() # there are a few that couldn't be standardised"
   ]
  },
  {
   "cell_type": "code",
   "execution_count": null,
   "id": "f72b367e-13cb-4bf0-a5ae-3d583efc8eb6",
   "metadata": {},
   "outputs": [],
   "source": []
  },
  {
   "cell_type": "code",
   "execution_count": null,
   "id": "b4c1b4e2-cd46-47d6-b7ce-f34caaa99964",
   "metadata": {},
   "outputs": [],
   "source": [
    "df.dropna(subset=\"INCHIKEY\")"
   ]
  },
  {
   "cell_type": "code",
   "execution_count": null,
   "id": "b7eff7a3-e946-4822-8b7c-fedc17d42ecf",
   "metadata": {},
   "outputs": [],
   "source": [
    "# lets gather up the activities?"
   ]
  },
  {
   "cell_type": "code",
   "execution_count": null,
   "id": "b390f883-ffae-4c60-a720-a6801788da96",
   "metadata": {},
   "outputs": [],
   "source": [
    "activity_cols = [f\"Fit_LogAC50-Replicate_{x}\" for x in range(1,6)]\n",
    "activity = df[activity_cols]"
   ]
  },
  {
   "cell_type": "code",
   "execution_count": null,
   "id": "f4ef924b-c2a8-4688-93dd-1717562df406",
   "metadata": {},
   "outputs": [],
   "source": [
    "activity"
   ]
  },
  {
   "cell_type": "code",
   "execution_count": null,
   "id": "64641784-b471-4d30-bd35-7d06fa51ad98",
   "metadata": {},
   "outputs": [],
   "source": [
    "# lets not use activities for now"
   ]
  },
  {
   "cell_type": "code",
   "execution_count": null,
   "id": "5d5cbd15-6f69-430f-8247-5ca20dc800a3",
   "metadata": {},
   "outputs": [],
   "source": [
    "# ok, clean up DF, and segement into active and inactives,"
   ]
  },
  {
   "cell_type": "code",
   "execution_count": null,
   "id": "42426a48-5b6b-4c37-99ee-57a35804db48",
   "metadata": {},
   "outputs": [],
   "source": [
    "keep_cols = [\"CANONICAL_SMILES\", \"INCHIKEY\", \"PUBCHEM_ACTIVITY_OUTCOME\", \"PUBCHEM_CID\"]"
   ]
  },
  {
   "cell_type": "code",
   "execution_count": null,
   "id": "13e2d99d-1d0e-49c5-8b51-c95bb187dfc7",
   "metadata": {},
   "outputs": [],
   "source": [
    "clean = df[keep_cols]"
   ]
  },
  {
   "cell_type": "code",
   "execution_count": null,
   "id": "24867d50-b2df-4320-8956-c64b823a1c11",
   "metadata": {},
   "outputs": [],
   "source": [
    "clean[\"dataset\"] = \"ncats_adme_aid1645842\"\n",
    "clean[\"data_type\"] = \"assay\""
   ]
  },
  {
   "cell_type": "code",
   "execution_count": null,
   "id": "e66b41eb-98dd-46e2-9dda-ea53b4d070b6",
   "metadata": {},
   "outputs": [],
   "source": [
    "mols2grid.display(clean, smiles_col=\"CANONICAL_SMILES\")"
   ]
  },
  {
   "cell_type": "code",
   "execution_count": null,
   "id": "a68f5370-ab30-4ed3-8a12-f15dc87fcaca",
   "metadata": {},
   "outputs": [],
   "source": [
    "clean.head()\n",
    "clean[\"common_name\"] = pd.NA\n",
    "clean[\"action_type\"] = \"inhibitor\"\n",
    "clean[\"active\"] = clean[\"PUBCHEM_ACTIVITY_OUTCOME\"] == \"Active\""
   ]
  },
  {
   "cell_type": "code",
   "execution_count": null,
   "id": "7d5ca823-c969-43f4-82f0-b5f52fea5954",
   "metadata": {},
   "outputs": [],
   "source": [
    "clean.to_csv(\"./processed/ncats_adme_aid1645842.csv\", index=False)"
   ]
  },
  {
   "cell_type": "code",
   "execution_count": null,
   "id": "40e32231-0c6d-4742-8265-7725bc5b44f9",
   "metadata": {},
   "outputs": [],
   "source": [
    "# spot checked structures with a few pubchem CIDs, looks like translation went ok"
   ]
  },
  {
   "cell_type": "code",
   "execution_count": null,
   "id": "3ec3a35d-cdb4-4fd7-9717-ccec78247b32",
   "metadata": {},
   "outputs": [],
   "source": []
  }
 ],
 "metadata": {
  "kernelspec": {
   "display_name": "Python 3 (ipykernel)",
   "language": "python",
   "name": "python3"
  },
  "language_info": {
   "codemirror_mode": {
    "name": "ipython",
    "version": 3
   },
   "file_extension": ".py",
   "mimetype": "text/x-python",
   "name": "python",
   "nbconvert_exporter": "python",
   "pygments_lexer": "ipython3",
   "version": "3.12.7"
  }
 },
 "nbformat": 4,
 "nbformat_minor": 5
}
