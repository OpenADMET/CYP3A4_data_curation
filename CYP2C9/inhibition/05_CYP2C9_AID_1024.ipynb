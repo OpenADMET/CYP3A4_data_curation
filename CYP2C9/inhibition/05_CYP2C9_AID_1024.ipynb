{
 "cells": [
  {
   "cell_type": "code",
   "execution_count": 1,
   "id": "c1db7db6-9e38-4e24-be4c-565b76facc3d",
   "metadata": {},
   "outputs": [],
   "source": [
    "import pandas as pd\n",
    "from rdkit import Chem\n",
    "import seaborn as sns\n",
    "from tqdm import tqdm\n",
    "import numpy as np"
   ]
  },
  {
   "cell_type": "code",
   "execution_count": 2,
   "id": "53a043ee-f172-4621-aafd-15a8bef25a1d",
   "metadata": {},
   "outputs": [],
   "source": [
    "tqdm.pandas()\n"
   ]
  },
  {
   "cell_type": "markdown",
   "id": "dfd592de-3406-48c5-a106-cc1beb872a74",
   "metadata": {},
   "source": [
    "# PubChem AID 1024\n",
    "\n",
    "## Assay info\n",
    "\n",
    "The cytochrome P450 enzymes represent a diverse superfamily of hemoproteins present in eukaryotic, bacterial, and archaean systems. The primary function of these enzymes is in the metabolism and clearance of both endogenous and exogenous (xenobiotic) compounds due to their propensity to metabolize multiple substrates through the catalysis of a range of reactions. CYP2C9 is an important enzyme in this superfamily in its ability to metabolize a diverse range of substrates including non-steroidal anti-infammatory drugs (NSAIDS) and sulfonylureas.\n",
    "\n",
    "\n",
    "There is a growing body of the evidence that CYP isoforms have multiple compound-binding interacting sites that influence the specific activity of the enzyme. A crystal structure of CYP2C9 in the presence of warfarin demonstrated its binding in a novel allosteric site (Williams et al, (2003), Nature 424, 464-468; PMID: 12861225). Compounds activating CYP2C9 could stimulate metabolism of natural substrates of the enzyme and therefore, could provide valuable tools for their characterization.\n",
    "\n",
    "\n",
    "The assay was performed at Sanford-Burnham Center for Chemical Genomics, part of MLSCN, as Library Characterization Assay. In the assay, we tested the ability of compounds from MLSMR compound collection to activate the 2C9-catalyzed conversion of the substrate luciferin-H EGE to luciferin EGE detected using luciferase reaction.\n"
   ]
  },
  {
   "cell_type": "code",
   "execution_count": 3,
   "id": "c03fe7d6-680b-4472-9d4d-1af8b64a0e2b",
   "metadata": {},
   "outputs": [
    {
     "name": "stderr",
     "output_type": "stream",
     "text": [
      "/tmp/ipykernel_22158/916087531.py:1: DtypeWarning: Columns (0,8,9,10,11,12) have mixed types. Specify dtype option on import or set low_memory=False.\n",
      "  df = pd.read_csv(\"PubChem_AID_1024/AID_1024_datatable_all.csv\")\n"
     ]
    }
   ],
   "source": [
    "df = pd.read_csv(\"PubChem_AID_1024/AID_1024_datatable_all.csv\")"
   ]
  },
  {
   "cell_type": "code",
   "execution_count": 4,
   "id": "8853bcfe-864f-4837-8cb5-533947a6e0f3",
   "metadata": {},
   "outputs": [
    {
     "data": {
      "text/plain": [
       "['PUBCHEM_RESULT_TAG',\n",
       " 'PUBCHEM_SID',\n",
       " 'PUBCHEM_CID',\n",
       " 'PUBCHEM_EXT_DATASOURCE_SMILES',\n",
       " 'PUBCHEM_ACTIVITY_OUTCOME',\n",
       " 'PUBCHEM_ACTIVITY_SCORE',\n",
       " 'PUBCHEM_ACTIVITY_URL',\n",
       " 'PUBCHEM_ASSAYDATA_COMMENT',\n",
       " 'AF_5uM',\n",
       " 'Mean_NC',\n",
       " 'StdDev_NC',\n",
       " 'Mean_PC',\n",
       " 'StdDev_PC']"
      ]
     },
     "execution_count": 4,
     "metadata": {},
     "output_type": "execute_result"
    }
   ],
   "source": [
    "list(df.columns)"
   ]
  },
  {
   "cell_type": "code",
   "execution_count": 5,
   "id": "1b1d5290-741a-4384-8054-bf8e3bba8f05",
   "metadata": {},
   "outputs": [
    {
     "data": {
      "text/html": [
       "<div>\n",
       "<style scoped>\n",
       "    .dataframe tbody tr th:only-of-type {\n",
       "        vertical-align: middle;\n",
       "    }\n",
       "\n",
       "    .dataframe tbody tr th {\n",
       "        vertical-align: top;\n",
       "    }\n",
       "\n",
       "    .dataframe thead th {\n",
       "        text-align: right;\n",
       "    }\n",
       "</style>\n",
       "<table border=\"1\" class=\"dataframe\">\n",
       "  <thead>\n",
       "    <tr style=\"text-align: right;\">\n",
       "      <th></th>\n",
       "      <th>PUBCHEM_RESULT_TAG</th>\n",
       "      <th>PUBCHEM_SID</th>\n",
       "      <th>PUBCHEM_CID</th>\n",
       "      <th>PUBCHEM_EXT_DATASOURCE_SMILES</th>\n",
       "      <th>PUBCHEM_ACTIVITY_OUTCOME</th>\n",
       "      <th>PUBCHEM_ACTIVITY_SCORE</th>\n",
       "      <th>PUBCHEM_ACTIVITY_URL</th>\n",
       "      <th>PUBCHEM_ASSAYDATA_COMMENT</th>\n",
       "      <th>AF_5uM</th>\n",
       "      <th>Mean_NC</th>\n",
       "      <th>StdDev_NC</th>\n",
       "      <th>Mean_PC</th>\n",
       "      <th>StdDev_PC</th>\n",
       "    </tr>\n",
       "  </thead>\n",
       "  <tbody>\n",
       "    <tr>\n",
       "      <th>0</th>\n",
       "      <td>RESULT_TYPE</td>\n",
       "      <td>NaN</td>\n",
       "      <td>NaN</td>\n",
       "      <td>NaN</td>\n",
       "      <td>NaN</td>\n",
       "      <td>NaN</td>\n",
       "      <td>NaN</td>\n",
       "      <td>NaN</td>\n",
       "      <td>FLOAT</td>\n",
       "      <td>FLOAT</td>\n",
       "      <td>FLOAT</td>\n",
       "      <td>FLOAT</td>\n",
       "      <td>FLOAT</td>\n",
       "    </tr>\n",
       "    <tr>\n",
       "      <th>1</th>\n",
       "      <td>RESULT_DESCR</td>\n",
       "      <td>NaN</td>\n",
       "      <td>NaN</td>\n",
       "      <td>NaN</td>\n",
       "      <td>NaN</td>\n",
       "      <td>NaN</td>\n",
       "      <td>NaN</td>\n",
       "      <td>NaN</td>\n",
       "      <td>Activation Factor value at 5 uM of compound</td>\n",
       "      <td>Mean Luminescence signal of negative controls ...</td>\n",
       "      <td>Standard deviation (n=16) of negative controls...</td>\n",
       "      <td>Mean Luminescence signal of positive controls ...</td>\n",
       "      <td>Standard deviation (n=16) of positive controls...</td>\n",
       "    </tr>\n",
       "    <tr>\n",
       "      <th>2</th>\n",
       "      <td>RESULT_UNIT</td>\n",
       "      <td>NaN</td>\n",
       "      <td>NaN</td>\n",
       "      <td>NaN</td>\n",
       "      <td>NaN</td>\n",
       "      <td>NaN</td>\n",
       "      <td>NaN</td>\n",
       "      <td>NaN</td>\n",
       "      <td>NONE</td>\n",
       "      <td>cps</td>\n",
       "      <td>cps</td>\n",
       "      <td>cps</td>\n",
       "      <td>cps</td>\n",
       "    </tr>\n",
       "    <tr>\n",
       "      <th>3</th>\n",
       "      <td>RESULT_ATTR_CONC_MICROMOL</td>\n",
       "      <td>NaN</td>\n",
       "      <td>NaN</td>\n",
       "      <td>NaN</td>\n",
       "      <td>NaN</td>\n",
       "      <td>NaN</td>\n",
       "      <td>NaN</td>\n",
       "      <td>NaN</td>\n",
       "      <td>5</td>\n",
       "      <td>NaN</td>\n",
       "      <td>NaN</td>\n",
       "      <td>NaN</td>\n",
       "      <td>NaN</td>\n",
       "    </tr>\n",
       "  </tbody>\n",
       "</table>\n",
       "</div>"
      ],
      "text/plain": [
       "          PUBCHEM_RESULT_TAG  PUBCHEM_SID  PUBCHEM_CID  \\\n",
       "0                RESULT_TYPE          NaN          NaN   \n",
       "1               RESULT_DESCR          NaN          NaN   \n",
       "2                RESULT_UNIT          NaN          NaN   \n",
       "3  RESULT_ATTR_CONC_MICROMOL          NaN          NaN   \n",
       "\n",
       "  PUBCHEM_EXT_DATASOURCE_SMILES PUBCHEM_ACTIVITY_OUTCOME  \\\n",
       "0                           NaN                      NaN   \n",
       "1                           NaN                      NaN   \n",
       "2                           NaN                      NaN   \n",
       "3                           NaN                      NaN   \n",
       "\n",
       "   PUBCHEM_ACTIVITY_SCORE  PUBCHEM_ACTIVITY_URL  PUBCHEM_ASSAYDATA_COMMENT  \\\n",
       "0                     NaN                   NaN                        NaN   \n",
       "1                     NaN                   NaN                        NaN   \n",
       "2                     NaN                   NaN                        NaN   \n",
       "3                     NaN                   NaN                        NaN   \n",
       "\n",
       "                                        AF_5uM  \\\n",
       "0                                        FLOAT   \n",
       "1  Activation Factor value at 5 uM of compound   \n",
       "2                                         NONE   \n",
       "3                                            5   \n",
       "\n",
       "                                             Mean_NC  \\\n",
       "0                                              FLOAT   \n",
       "1  Mean Luminescence signal of negative controls ...   \n",
       "2                                                cps   \n",
       "3                                                NaN   \n",
       "\n",
       "                                           StdDev_NC  \\\n",
       "0                                              FLOAT   \n",
       "1  Standard deviation (n=16) of negative controls...   \n",
       "2                                                cps   \n",
       "3                                                NaN   \n",
       "\n",
       "                                             Mean_PC  \\\n",
       "0                                              FLOAT   \n",
       "1  Mean Luminescence signal of positive controls ...   \n",
       "2                                                cps   \n",
       "3                                                NaN   \n",
       "\n",
       "                                           StdDev_PC  \n",
       "0                                              FLOAT  \n",
       "1  Standard deviation (n=16) of positive controls...  \n",
       "2                                                cps  \n",
       "3                                                NaN  "
      ]
     },
     "execution_count": 5,
     "metadata": {},
     "output_type": "execute_result"
    }
   ],
   "source": [
    "# first 4 rows are metadata \n",
    "df[0:4]"
   ]
  },
  {
   "cell_type": "code",
   "execution_count": 6,
   "id": "d6616fa5-8468-4141-8f4d-b852bb3a4e98",
   "metadata": {},
   "outputs": [],
   "source": [
    "    df = df.drop(labels=list(range(0, 4)), axis=0).reset_index(\n",
    "        drop=True\n",
    "    )"
   ]
  },
  {
   "cell_type": "code",
   "execution_count": 7,
   "id": "b720283f-a3df-420d-ab9c-48f52290cb4b",
   "metadata": {},
   "outputs": [
    {
     "data": {
      "text/html": [
       "<div>\n",
       "<style scoped>\n",
       "    .dataframe tbody tr th:only-of-type {\n",
       "        vertical-align: middle;\n",
       "    }\n",
       "\n",
       "    .dataframe tbody tr th {\n",
       "        vertical-align: top;\n",
       "    }\n",
       "\n",
       "    .dataframe thead th {\n",
       "        text-align: right;\n",
       "    }\n",
       "</style>\n",
       "<table border=\"1\" class=\"dataframe\">\n",
       "  <thead>\n",
       "    <tr style=\"text-align: right;\">\n",
       "      <th></th>\n",
       "      <th>PUBCHEM_RESULT_TAG</th>\n",
       "      <th>PUBCHEM_SID</th>\n",
       "      <th>PUBCHEM_CID</th>\n",
       "      <th>PUBCHEM_EXT_DATASOURCE_SMILES</th>\n",
       "      <th>PUBCHEM_ACTIVITY_OUTCOME</th>\n",
       "      <th>PUBCHEM_ACTIVITY_SCORE</th>\n",
       "      <th>PUBCHEM_ACTIVITY_URL</th>\n",
       "      <th>PUBCHEM_ASSAYDATA_COMMENT</th>\n",
       "      <th>AF_5uM</th>\n",
       "      <th>Mean_NC</th>\n",
       "      <th>StdDev_NC</th>\n",
       "      <th>Mean_PC</th>\n",
       "      <th>StdDev_PC</th>\n",
       "    </tr>\n",
       "  </thead>\n",
       "  <tbody>\n",
       "    <tr>\n",
       "      <th>0</th>\n",
       "      <td>1</td>\n",
       "      <td>17406628.0</td>\n",
       "      <td>1218287.0</td>\n",
       "      <td>CCC(=O)NC1=C(C=CC(=C1)C(=O)OCC(=O)C2=CC=CC=C2Cl)C</td>\n",
       "      <td>Active</td>\n",
       "      <td>20.0</td>\n",
       "      <td>NaN</td>\n",
       "      <td>NaN</td>\n",
       "      <td>2.1</td>\n",
       "      <td>297.33</td>\n",
       "      <td>301.88</td>\n",
       "      <td>65422</td>\n",
       "      <td>10333</td>\n",
       "    </tr>\n",
       "    <tr>\n",
       "      <th>1</th>\n",
       "      <td>2</td>\n",
       "      <td>17406959.0</td>\n",
       "      <td>6247698.0</td>\n",
       "      <td>CC1=CC=C(C=C1)/C=C/C2=NN=C(O2)C3=CC=C(C=C3)C</td>\n",
       "      <td>Inactive</td>\n",
       "      <td>0.0</td>\n",
       "      <td>NaN</td>\n",
       "      <td>NaN</td>\n",
       "      <td>0.6</td>\n",
       "      <td>297.33</td>\n",
       "      <td>301.88</td>\n",
       "      <td>65422</td>\n",
       "      <td>10333</td>\n",
       "    </tr>\n",
       "    <tr>\n",
       "      <th>2</th>\n",
       "      <td>3</td>\n",
       "      <td>17406670.0</td>\n",
       "      <td>833356.0</td>\n",
       "      <td>C1CN(C2=CC=CC=C21)C(=S)NC(=O)COC3=CC=CC=C3Cl</td>\n",
       "      <td>Inactive</td>\n",
       "      <td>3.0</td>\n",
       "      <td>NaN</td>\n",
       "      <td>NaN</td>\n",
       "      <td>1.1</td>\n",
       "      <td>297.33</td>\n",
       "      <td>301.88</td>\n",
       "      <td>65422</td>\n",
       "      <td>10333</td>\n",
       "    </tr>\n",
       "    <tr>\n",
       "      <th>3</th>\n",
       "      <td>4</td>\n",
       "      <td>17406638.0</td>\n",
       "      <td>3542312.0</td>\n",
       "      <td>CCC1=CC(=C(S1)NC(=O)C2=CC=CC=C2)C(C3=CC=C(C=C3...</td>\n",
       "      <td>Inactive</td>\n",
       "      <td>0.0</td>\n",
       "      <td>NaN</td>\n",
       "      <td>NaN</td>\n",
       "      <td>0.6</td>\n",
       "      <td>297.33</td>\n",
       "      <td>301.88</td>\n",
       "      <td>65422</td>\n",
       "      <td>10333</td>\n",
       "    </tr>\n",
       "    <tr>\n",
       "      <th>4</th>\n",
       "      <td>5</td>\n",
       "      <td>17406869.0</td>\n",
       "      <td>11958382.0</td>\n",
       "      <td>CCCCCNCC1=CC(=CC=C1)Br.Cl</td>\n",
       "      <td>Inactive</td>\n",
       "      <td>0.0</td>\n",
       "      <td>NaN</td>\n",
       "      <td>NaN</td>\n",
       "      <td>0.9</td>\n",
       "      <td>297.33</td>\n",
       "      <td>301.88</td>\n",
       "      <td>65422</td>\n",
       "      <td>10333</td>\n",
       "    </tr>\n",
       "    <tr>\n",
       "      <th>5</th>\n",
       "      <td>6</td>\n",
       "      <td>17406602.0</td>\n",
       "      <td>1811564.0</td>\n",
       "      <td>CC1=CC=CC=C1OCCNC(=S)NC2=CC=CC=C2</td>\n",
       "      <td>Inactive</td>\n",
       "      <td>0.0</td>\n",
       "      <td>NaN</td>\n",
       "      <td>NaN</td>\n",
       "      <td>0.9</td>\n",
       "      <td>297.33</td>\n",
       "      <td>301.88</td>\n",
       "      <td>65422</td>\n",
       "      <td>10333</td>\n",
       "    </tr>\n",
       "    <tr>\n",
       "      <th>6</th>\n",
       "      <td>7</td>\n",
       "      <td>17406669.0</td>\n",
       "      <td>6872980.0</td>\n",
       "      <td>CC1=CC=CC=C1C(=O)N/N=C/C2=CC=NC=C2</td>\n",
       "      <td>Inactive</td>\n",
       "      <td>0.0</td>\n",
       "      <td>NaN</td>\n",
       "      <td>NaN</td>\n",
       "      <td>0.8</td>\n",
       "      <td>297.33</td>\n",
       "      <td>301.88</td>\n",
       "      <td>65422</td>\n",
       "      <td>10333</td>\n",
       "    </tr>\n",
       "    <tr>\n",
       "      <th>7</th>\n",
       "      <td>8</td>\n",
       "      <td>17406764.0</td>\n",
       "      <td>844536.0</td>\n",
       "      <td>CCN1C(=C(C=N1)/C=C/C(=O)NCC2=CN(N=C2C)C)C</td>\n",
       "      <td>Inactive</td>\n",
       "      <td>0.0</td>\n",
       "      <td>NaN</td>\n",
       "      <td>NaN</td>\n",
       "      <td>1</td>\n",
       "      <td>297.33</td>\n",
       "      <td>301.88</td>\n",
       "      <td>65422</td>\n",
       "      <td>10333</td>\n",
       "    </tr>\n",
       "    <tr>\n",
       "      <th>8</th>\n",
       "      <td>9</td>\n",
       "      <td>17406597.0</td>\n",
       "      <td>406791.0</td>\n",
       "      <td>C1=CC=C(C=C1)N2C(=NN=N2)C3=CNC4=C3C=C(C=C4)Cl</td>\n",
       "      <td>Inactive</td>\n",
       "      <td>0.0</td>\n",
       "      <td>NaN</td>\n",
       "      <td>NaN</td>\n",
       "      <td>0.7</td>\n",
       "      <td>297.33</td>\n",
       "      <td>301.88</td>\n",
       "      <td>65422</td>\n",
       "      <td>10333</td>\n",
       "    </tr>\n",
       "    <tr>\n",
       "      <th>9</th>\n",
       "      <td>10</td>\n",
       "      <td>17406681.0</td>\n",
       "      <td>842961.0</td>\n",
       "      <td>CC1=CN(N=C1)CCC(=O)NNC(=S)NC2=CC(=CC=C2)Cl</td>\n",
       "      <td>Inactive</td>\n",
       "      <td>0.0</td>\n",
       "      <td>NaN</td>\n",
       "      <td>NaN</td>\n",
       "      <td>1</td>\n",
       "      <td>297.33</td>\n",
       "      <td>301.88</td>\n",
       "      <td>65422</td>\n",
       "      <td>10333</td>\n",
       "    </tr>\n",
       "  </tbody>\n",
       "</table>\n",
       "</div>"
      ],
      "text/plain": [
       "  PUBCHEM_RESULT_TAG  PUBCHEM_SID  PUBCHEM_CID  \\\n",
       "0                  1   17406628.0    1218287.0   \n",
       "1                  2   17406959.0    6247698.0   \n",
       "2                  3   17406670.0     833356.0   \n",
       "3                  4   17406638.0    3542312.0   \n",
       "4                  5   17406869.0   11958382.0   \n",
       "5                  6   17406602.0    1811564.0   \n",
       "6                  7   17406669.0    6872980.0   \n",
       "7                  8   17406764.0     844536.0   \n",
       "8                  9   17406597.0     406791.0   \n",
       "9                 10   17406681.0     842961.0   \n",
       "\n",
       "                       PUBCHEM_EXT_DATASOURCE_SMILES PUBCHEM_ACTIVITY_OUTCOME  \\\n",
       "0  CCC(=O)NC1=C(C=CC(=C1)C(=O)OCC(=O)C2=CC=CC=C2Cl)C                   Active   \n",
       "1       CC1=CC=C(C=C1)/C=C/C2=NN=C(O2)C3=CC=C(C=C3)C                 Inactive   \n",
       "2       C1CN(C2=CC=CC=C21)C(=S)NC(=O)COC3=CC=CC=C3Cl                 Inactive   \n",
       "3  CCC1=CC(=C(S1)NC(=O)C2=CC=CC=C2)C(C3=CC=C(C=C3...                 Inactive   \n",
       "4                          CCCCCNCC1=CC(=CC=C1)Br.Cl                 Inactive   \n",
       "5                  CC1=CC=CC=C1OCCNC(=S)NC2=CC=CC=C2                 Inactive   \n",
       "6                 CC1=CC=CC=C1C(=O)N/N=C/C2=CC=NC=C2                 Inactive   \n",
       "7          CCN1C(=C(C=N1)/C=C/C(=O)NCC2=CN(N=C2C)C)C                 Inactive   \n",
       "8      C1=CC=C(C=C1)N2C(=NN=N2)C3=CNC4=C3C=C(C=C4)Cl                 Inactive   \n",
       "9         CC1=CN(N=C1)CCC(=O)NNC(=S)NC2=CC(=CC=C2)Cl                 Inactive   \n",
       "\n",
       "   PUBCHEM_ACTIVITY_SCORE  PUBCHEM_ACTIVITY_URL  PUBCHEM_ASSAYDATA_COMMENT  \\\n",
       "0                    20.0                   NaN                        NaN   \n",
       "1                     0.0                   NaN                        NaN   \n",
       "2                     3.0                   NaN                        NaN   \n",
       "3                     0.0                   NaN                        NaN   \n",
       "4                     0.0                   NaN                        NaN   \n",
       "5                     0.0                   NaN                        NaN   \n",
       "6                     0.0                   NaN                        NaN   \n",
       "7                     0.0                   NaN                        NaN   \n",
       "8                     0.0                   NaN                        NaN   \n",
       "9                     0.0                   NaN                        NaN   \n",
       "\n",
       "  AF_5uM Mean_NC StdDev_NC Mean_PC StdDev_PC  \n",
       "0    2.1  297.33    301.88   65422     10333  \n",
       "1    0.6  297.33    301.88   65422     10333  \n",
       "2    1.1  297.33    301.88   65422     10333  \n",
       "3    0.6  297.33    301.88   65422     10333  \n",
       "4    0.9  297.33    301.88   65422     10333  \n",
       "5    0.9  297.33    301.88   65422     10333  \n",
       "6    0.8  297.33    301.88   65422     10333  \n",
       "7      1  297.33    301.88   65422     10333  \n",
       "8    0.7  297.33    301.88   65422     10333  \n",
       "9      1  297.33    301.88   65422     10333  "
      ]
     },
     "execution_count": 7,
     "metadata": {},
     "output_type": "execute_result"
    }
   ],
   "source": [
    "df.head(10)"
   ]
  },
  {
   "cell_type": "code",
   "execution_count": 8,
   "id": "c90d67e8-15be-4053-97a9-b45493e37bb0",
   "metadata": {},
   "outputs": [
    {
     "data": {
      "text/plain": [
       "Index(['PUBCHEM_RESULT_TAG', 'PUBCHEM_SID', 'PUBCHEM_CID',\n",
       "       'PUBCHEM_EXT_DATASOURCE_SMILES', 'PUBCHEM_ACTIVITY_OUTCOME',\n",
       "       'PUBCHEM_ACTIVITY_SCORE', 'PUBCHEM_ACTIVITY_URL',\n",
       "       'PUBCHEM_ASSAYDATA_COMMENT', 'AF_5uM', 'Mean_NC', 'StdDev_NC',\n",
       "       'Mean_PC', 'StdDev_PC'],\n",
       "      dtype='object')"
      ]
     },
     "execution_count": 8,
     "metadata": {},
     "output_type": "execute_result"
    }
   ],
   "source": [
    "df.columns"
   ]
  },
  {
   "cell_type": "code",
   "execution_count": 9,
   "id": "0f77784b-0cf7-425b-b74b-ccfc6519617a",
   "metadata": {},
   "outputs": [],
   "source": [
    "# lets look at activity"
   ]
  },
  {
   "cell_type": "code",
   "execution_count": 10,
   "id": "82e0cb24-3008-4a7d-8003-d4a1d4af891e",
   "metadata": {},
   "outputs": [
    {
     "data": {
      "text/plain": [
       "<Axes: xlabel='PUBCHEM_ACTIVITY_OUTCOME', ylabel='Count'>"
      ]
     },
     "execution_count": 10,
     "metadata": {},
     "output_type": "execute_result"
    },
    {
     "data": {
      "image/png": "[encoded data removed]",
      "text/plain": [
       "<Figure size 640x480 with 1 Axes>"
      ]
     },
     "metadata": {},
     "output_type": "display_data"
    }
   ],
   "source": [
    "sns.histplot(data=df, x=\"PUBCHEM_ACTIVITY_OUTCOME\")"
   ]
  },
  {
   "cell_type": "code",
   "execution_count": 11,
   "id": "6b258897-5746-4122-9cd1-4b75cbb1174f",
   "metadata": {},
   "outputs": [
    {
     "data": {
      "text/plain": [
       "<Axes: xlabel='PUBCHEM_ACTIVITY_SCORE', ylabel='Count'>"
      ]
     },
     "execution_count": 11,
     "metadata": {},
     "output_type": "execute_result"
    },
    {
     "data": {
      "image/png": "[encoded data removed]",
      "text/plain": [
       "<Figure size 640x480 with 1 Axes>"
      ]
     },
     "metadata": {},
     "output_type": "display_data"
    }
   ],
   "source": [
    "sns.histplot(data=df, x=\"PUBCHEM_ACTIVITY_SCORE\")"
   ]
  },
  {
   "cell_type": "code",
   "execution_count": 12,
   "id": "8a3b2670-de6a-454d-a3f1-a2b13cd5de91",
   "metadata": {},
   "outputs": [],
   "source": [
    "import matplotlib.pyplot as plt"
   ]
  },
  {
   "cell_type": "code",
   "execution_count": 13,
   "id": "897690c2-e54a-42ea-b6e8-fbe19933d96b",
   "metadata": {},
   "outputs": [],
   "source": [
    "mol_col = \"PUBCHEM_EXT_DATASOURCE_SMILES\"\n",
    "mol_id_cols = [\"PUBCHEM_SID\", \"PUBCHEM_CID\"]"
   ]
  },
  {
   "cell_type": "code",
   "execution_count": 14,
   "id": "e30078f2-4b7b-403b-8f4c-a4696c6545ee",
   "metadata": {},
   "outputs": [
    {
     "data": {
      "text/plain": [
       "95868"
      ]
     },
     "execution_count": 14,
     "metadata": {},
     "output_type": "execute_result"
    }
   ],
   "source": [
    "len(df)"
   ]
  },
  {
   "cell_type": "code",
   "execution_count": 15,
   "id": "bdfdd079-d2d6-403f-960a-f143a9338f56",
   "metadata": {},
   "outputs": [],
   "source": [
    "df = df.dropna(subset=\"PUBCHEM_CID\")"
   ]
  },
  {
   "cell_type": "code",
   "execution_count": 16,
   "id": "9917774f-a8d5-4ada-acf0-1cde2f66d453",
   "metadata": {},
   "outputs": [
    {
     "data": {
      "text/plain": [
       "95868"
      ]
     },
     "execution_count": 16,
     "metadata": {},
     "output_type": "execute_result"
    }
   ],
   "source": [
    "len(df)"
   ]
  },
  {
   "cell_type": "code",
   "execution_count": 17,
   "id": "fd0550e6-a393-49c4-a38f-fa3b49c096a3",
   "metadata": {},
   "outputs": [],
   "source": [
    "df[\"PUBCHEM_SID\"] = df[\"PUBCHEM_SID\"].astype(int)\n",
    "df[\"PUBCHEM_CID\"] = df[\"PUBCHEM_CID\"].astype(int)"
   ]
  },
  {
   "cell_type": "code",
   "execution_count": 18,
   "id": "0cb8293c-c04f-4580-a7db-2bbd7a781479",
   "metadata": {},
   "outputs": [],
   "source": [
    "# standardisation of SMILES\n",
    "from rdkit import Chem\n",
    "from rdkit.Chem.MolStandardize import rdMolStandardize\n",
    "from rdkit.rdBase import BlockLogs\n",
    "import mols2grid"
   ]
  },
  {
   "cell_type": "code",
   "execution_count": 19,
   "id": "d3cdcc42-3b80-4924-b273-49266b3f0897",
   "metadata": {},
   "outputs": [],
   "source": [
    "\n",
    "# from Pat Walters method\n",
    "def standardize_smiles(smiles):\n",
    "    try:\n",
    "        # follows the steps in\n",
    "        # https://github.com/greglandrum/RSC_OpenScience_Standardization_202104/blob/main/MolStandardize%20pieces.ipynb\n",
    "        # as described **excellently** (by Greg) in\n",
    "        # https://www.youtube.com/watch?v=eWTApNX8dJQ\n",
    "        mol = Chem.MolFromSmiles(smiles)\n",
    "    \n",
    "        # removeHs, disconnect metal atoms, normalize the molecule, reionize the molecule\n",
    "        clean_mol = rdMolStandardize.Cleanup(mol)\n",
    "    \n",
    "        # if many fragments, get the \"parent\" (the actual mol we are interested in) \n",
    "        parent_clean_mol = rdMolStandardize.FragmentParent(clean_mol)\n",
    "    \n",
    "        # try to neutralize molecule\n",
    "        uncharger = rdMolStandardize.Uncharger()  # annoying, but necessary as no convenience method exists\n",
    "        uncharged_parent_clean_mol = uncharger.uncharge(parent_clean_mol)\n",
    "    \n",
    "        # note that no attempt is made at reionization at this step\n",
    "        # nor at ionization at some pH (rdkit has no pKa caculator)\n",
    "        # the main aim to represent all molecules from different sources\n",
    "        # in a (single) standard way, for use in ML, catalogue, etc.\n",
    "    \n",
    "        te = rdMolStandardize.TautomerEnumerator()  # idem\n",
    "        taut_uncharged_parent_clean_mol = te.Canonicalize(uncharged_parent_clean_mol)\n",
    "    \n",
    "        return Chem.MolToSmiles(taut_uncharged_parent_clean_mol)\n",
    "    except:\n",
    "        return pd.NA"
   ]
  },
  {
   "cell_type": "code",
   "execution_count": null,
   "id": "528ddd60-2320-4461-a7f6-153d7ea2eb8e",
   "metadata": {},
   "outputs": [
    {
     "name": "stderr",
     "output_type": "stream",
     "text": [
      " 91%|███████████████████████████████████████████████████████████████████████████████████████████████████████████████████████████████▉             | 86993/95868 [06:15<00:41, 213.97it/s]"
     ]
    }
   ],
   "source": [
    "\n",
    "with BlockLogs():\n",
    "    df[\"CANONICAL_SMILES\"] = df[mol_col].progress_apply(lambda x: standardize_smiles(x))"
   ]
  },
  {
   "cell_type": "code",
   "execution_count": null,
   "id": "796c01e4-a756-4a24-92a9-b9335a633fcb",
   "metadata": {},
   "outputs": [],
   "source": [
    "def smi_to_inchikey(smiles):\n",
    "    try:\n",
    "        mol = Chem.MolFromSmiles(smiles)\n",
    "        return Chem.MolToInchiKey(mol)\n",
    "    except:\n",
    "        return pd.NA"
   ]
  },
  {
   "cell_type": "code",
   "execution_count": null,
   "id": "bf99a84f-298e-42ce-bfb0-0c64bf67efda",
   "metadata": {},
   "outputs": [],
   "source": [
    "# compute inchikeys\n",
    "with BlockLogs():\n",
    "    df[\"INCHIKEY\"] = df[\"CANONICAL_SMILES\"].progress_apply(lambda x: smi_to_inchikey(x))"
   ]
  },
  {
   "cell_type": "code",
   "execution_count": null,
   "id": "87771120-4ed6-4157-b50b-f5b40836190a",
   "metadata": {},
   "outputs": [],
   "source": [
    "df.INCHIKEY.isna().sum() # there are a few that couldn't be standardised"
   ]
  },
  {
   "cell_type": "code",
   "execution_count": null,
   "id": "f72b367e-13cb-4bf0-a5ae-3d583efc8eb6",
   "metadata": {},
   "outputs": [],
   "source": []
  },
  {
   "cell_type": "code",
   "execution_count": null,
   "id": "b4c1b4e2-cd46-47d6-b7ce-f34caaa99964",
   "metadata": {},
   "outputs": [],
   "source": [
    "df.dropna(subset=\"INCHIKEY\")"
   ]
  },
  {
   "cell_type": "code",
   "execution_count": null,
   "id": "b7eff7a3-e946-4822-8b7c-fedc17d42ecf",
   "metadata": {},
   "outputs": [],
   "source": [
    "# lets gather up the activities?"
   ]
  },
  {
   "cell_type": "code",
   "execution_count": null,
   "id": "5d5cbd15-6f69-430f-8247-5ca20dc800a3",
   "metadata": {},
   "outputs": [],
   "source": [
    "# ok, clean up DF, and segement into active and inactives,"
   ]
  },
  {
   "cell_type": "code",
   "execution_count": null,
   "id": "42426a48-5b6b-4c37-99ee-57a35804db48",
   "metadata": {},
   "outputs": [],
   "source": [
    "keep_cols = [\"CANONICAL_SMILES\", \"INCHIKEY\", \"PUBCHEM_ACTIVITY_OUTCOME\", \"PUBCHEM_CID\"]"
   ]
  },
  {
   "cell_type": "code",
   "execution_count": null,
   "id": "13e2d99d-1d0e-49c5-8b51-c95bb187dfc7",
   "metadata": {},
   "outputs": [],
   "source": [
    "clean = df[keep_cols]"
   ]
  },
  {
   "cell_type": "code",
   "execution_count": null,
   "id": "24867d50-b2df-4320-8956-c64b823a1c11",
   "metadata": {},
   "outputs": [],
   "source": [
    "clean[\"dataset\"] = \"aid1024\"\n",
    "clean[\"data_type\"] = \"assay\""
   ]
  },
  {
   "cell_type": "code",
   "execution_count": null,
   "id": "7ef332f5-9513-4d2f-9fec-ee1283428c40",
   "metadata": {},
   "outputs": [],
   "source": [
    "clean[\"active\"] = clean[\"PUBCHEM_ACTIVITY_OUTCOME\"] == \"Active\""
   ]
  },
  {
   "cell_type": "code",
   "execution_count": null,
   "id": "e66b41eb-98dd-46e2-9dda-ea53b4d070b6",
   "metadata": {},
   "outputs": [],
   "source": [
    "# mols2grid.display(clean, smiles_col=\"CANONICAL_SMILES\")"
   ]
  },
  {
   "cell_type": "code",
   "execution_count": null,
   "id": "a68f5370-ab30-4ed3-8a12-f15dc87fcaca",
   "metadata": {},
   "outputs": [],
   "source": [
    "clean.head()\n",
    "clean[\"common_name\"] = pd.NA\n",
    "clean[\"action_type\"] = \"inhibitor\""
   ]
  },
  {
   "cell_type": "code",
   "execution_count": null,
   "id": "7d5ca823-c969-43f4-82f0-b5f52fea5954",
   "metadata": {},
   "outputs": [],
   "source": [
    "clean.to_csv(\"./processed/AID_1024.csv\", index=False)"
   ]
  },
  {
   "cell_type": "code",
   "execution_count": null,
   "id": "40e32231-0c6d-4742-8265-7725bc5b44f9",
   "metadata": {},
   "outputs": [],
   "source": [
    "# spot checked structures with a few pubchem CIDs, looks like translation went ok"
   ]
  },
  {
   "cell_type": "code",
   "execution_count": null,
   "id": "3ec3a35d-cdb4-4fd7-9717-ccec78247b32",
   "metadata": {},
   "outputs": [],
   "source": []
  }
 ],
 "metadata": {
  "kernelspec": {
   "display_name": "Python 3 (ipykernel)",
   "language": "python",
   "name": "python3"
  },
  "language_info": {
   "codemirror_mode": {
    "name": "ipython",
    "version": 3
   },
   "file_extension": ".py",
   "mimetype": "text/x-python",
   "name": "python",
   "nbconvert_exporter": "python",
   "pygments_lexer": "ipython3",
   "version": "3.12.7"
  }
 },
 "nbformat": 4,
 "nbformat_minor": 5
}
