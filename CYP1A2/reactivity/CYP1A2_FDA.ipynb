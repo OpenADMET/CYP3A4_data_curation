{
 "cells": [
  {
   "cell_type": "code",
   "execution_count": 1,
   "metadata": {},
   "outputs": [],
   "source": [
    "import pandas as pd\n",
    "from rdkit import Chem\n",
    "import seaborn as sns\n",
    "from tqdm import tqdm\n",
    "import numpy as np\n",
    "\n",
    "tqdm.pandas()"
   ]
  },
  {
   "cell_type": "code",
   "execution_count": 2,
   "metadata": {},
   "outputs": [
    {
     "data": {
      "text/html": [
       "<div>\n",
       "<style scoped>\n",
       "    .dataframe tbody tr th:only-of-type {\n",
       "        vertical-align: middle;\n",
       "    }\n",
       "\n",
       "    .dataframe tbody tr th {\n",
       "        vertical-align: top;\n",
       "    }\n",
       "\n",
       "    .dataframe thead th {\n",
       "        text-align: right;\n",
       "    }\n",
       "</style>\n",
       "<table border=\"1\" class=\"dataframe\">\n",
       "  <thead>\n",
       "    <tr style=\"text-align: right;\">\n",
       "      <th></th>\n",
       "      <th>SMILES</th>\n",
       "      <th>active</th>\n",
       "      <th>common_name</th>\n",
       "      <th>action_type</th>\n",
       "      <th>FDA_recommended</th>\n",
       "    </tr>\n",
       "  </thead>\n",
       "  <tbody>\n",
       "    <tr>\n",
       "      <th>0</th>\n",
       "      <td>CCOc1ccc2nc3ccc(=O)cc-3oc2c1</td>\n",
       "      <td>True</td>\n",
       "      <td>alpha-naphthoflavone</td>\n",
       "      <td>inhibitor</td>\n",
       "      <td>True</td>\n",
       "    </tr>\n",
       "    <tr>\n",
       "      <th>1</th>\n",
       "      <td>Cc1nc2c([nH]1)c(=O)n(C)c(=O)n2Cc1ccco1</td>\n",
       "      <td>True</td>\n",
       "      <td>furafylline</td>\n",
       "      <td>inhibitor</td>\n",
       "      <td>True</td>\n",
       "    </tr>\n",
       "    <tr>\n",
       "      <th>2</th>\n",
       "      <td>COCCCC/C(=N\\OCCN)c1ccc(C(F)(F)F)cc1</td>\n",
       "      <td>True</td>\n",
       "      <td>fluvoxamine</td>\n",
       "      <td>inhibitor</td>\n",
       "      <td>True</td>\n",
       "    </tr>\n",
       "    <tr>\n",
       "      <th>3</th>\n",
       "      <td>CCOc1ccc2nc3ccc(=O)cc-3oc2c1</td>\n",
       "      <td>True</td>\n",
       "      <td>ethoxyresorufin</td>\n",
       "      <td>substrate</td>\n",
       "      <td>True</td>\n",
       "    </tr>\n",
       "    <tr>\n",
       "      <th>4</th>\n",
       "      <td>CCOc1ccc(NC(C)=O)cc1</td>\n",
       "      <td>True</td>\n",
       "      <td>phenacetin</td>\n",
       "      <td>substrate</td>\n",
       "      <td>True</td>\n",
       "    </tr>\n",
       "    <tr>\n",
       "      <th>5</th>\n",
       "      <td>Cn1c(=O)c2c(ncn2C)n(C)c1=O</td>\n",
       "      <td>True</td>\n",
       "      <td>caffeine</td>\n",
       "      <td>substrate</td>\n",
       "      <td>True</td>\n",
       "    </tr>\n",
       "    <tr>\n",
       "      <th>6</th>\n",
       "      <td>Clc1ccc2nsnc2c1NC1=NCCN1</td>\n",
       "      <td>True</td>\n",
       "      <td>tizanidine</td>\n",
       "      <td>substrate</td>\n",
       "      <td>True</td>\n",
       "    </tr>\n",
       "  </tbody>\n",
       "</table>\n",
       "</div>"
      ],
      "text/plain": [
       "                                   SMILES  active           common_name  \\\n",
       "0            CCOc1ccc2nc3ccc(=O)cc-3oc2c1    True  alpha-naphthoflavone   \n",
       "1  Cc1nc2c([nH]1)c(=O)n(C)c(=O)n2Cc1ccco1    True           furafylline   \n",
       "2     COCCCC/C(=N\\OCCN)c1ccc(C(F)(F)F)cc1    True           fluvoxamine   \n",
       "3            CCOc1ccc2nc3ccc(=O)cc-3oc2c1    True       ethoxyresorufin   \n",
       "4                    CCOc1ccc(NC(C)=O)cc1    True            phenacetin   \n",
       "5              Cn1c(=O)c2c(ncn2C)n(C)c1=O    True              caffeine   \n",
       "6                Clc1ccc2nsnc2c1NC1=NCCN1    True            tizanidine   \n",
       "\n",
       "  action_type  FDA_recommended  \n",
       "0   inhibitor             True  \n",
       "1   inhibitor             True  \n",
       "2   inhibitor             True  \n",
       "3   substrate             True  \n",
       "4   substrate             True  \n",
       "5   substrate             True  \n",
       "6   substrate             True  "
      ]
     },
     "execution_count": 2,
     "metadata": {},
     "output_type": "execute_result"
    }
   ],
   "source": [
    "fda = pd.read_csv(\"data/fda.csv\")\n",
    "fda"
   ]
  },
  {
   "cell_type": "code",
   "execution_count": 3,
   "metadata": {},
   "outputs": [
    {
     "data": {
      "text/html": [
       "<div>\n",
       "<style scoped>\n",
       "    .dataframe tbody tr th:only-of-type {\n",
       "        vertical-align: middle;\n",
       "    }\n",
       "\n",
       "    .dataframe tbody tr th {\n",
       "        vertical-align: top;\n",
       "    }\n",
       "\n",
       "    .dataframe thead th {\n",
       "        text-align: right;\n",
       "    }\n",
       "</style>\n",
       "<table border=\"1\" class=\"dataframe\">\n",
       "  <thead>\n",
       "    <tr style=\"text-align: right;\">\n",
       "      <th></th>\n",
       "      <th>SMILES</th>\n",
       "      <th>active</th>\n",
       "      <th>common_name</th>\n",
       "      <th>action_type</th>\n",
       "      <th>FDA_recommended</th>\n",
       "    </tr>\n",
       "  </thead>\n",
       "  <tbody>\n",
       "    <tr>\n",
       "      <th>3</th>\n",
       "      <td>CCOc1ccc2nc3ccc(=O)cc-3oc2c1</td>\n",
       "      <td>True</td>\n",
       "      <td>ethoxyresorufin</td>\n",
       "      <td>substrate</td>\n",
       "      <td>True</td>\n",
       "    </tr>\n",
       "    <tr>\n",
       "      <th>4</th>\n",
       "      <td>CCOc1ccc(NC(C)=O)cc1</td>\n",
       "      <td>True</td>\n",
       "      <td>phenacetin</td>\n",
       "      <td>substrate</td>\n",
       "      <td>True</td>\n",
       "    </tr>\n",
       "    <tr>\n",
       "      <th>5</th>\n",
       "      <td>Cn1c(=O)c2c(ncn2C)n(C)c1=O</td>\n",
       "      <td>True</td>\n",
       "      <td>caffeine</td>\n",
       "      <td>substrate</td>\n",
       "      <td>True</td>\n",
       "    </tr>\n",
       "    <tr>\n",
       "      <th>6</th>\n",
       "      <td>Clc1ccc2nsnc2c1NC1=NCCN1</td>\n",
       "      <td>True</td>\n",
       "      <td>tizanidine</td>\n",
       "      <td>substrate</td>\n",
       "      <td>True</td>\n",
       "    </tr>\n",
       "  </tbody>\n",
       "</table>\n",
       "</div>"
      ],
      "text/plain": [
       "                         SMILES  active      common_name action_type  \\\n",
       "3  CCOc1ccc2nc3ccc(=O)cc-3oc2c1    True  ethoxyresorufin   substrate   \n",
       "4          CCOc1ccc(NC(C)=O)cc1    True       phenacetin   substrate   \n",
       "5    Cn1c(=O)c2c(ncn2C)n(C)c1=O    True         caffeine   substrate   \n",
       "6      Clc1ccc2nsnc2c1NC1=NCCN1    True       tizanidine   substrate   \n",
       "\n",
       "   FDA_recommended  \n",
       "3             True  \n",
       "4             True  \n",
       "5             True  \n",
       "6             True  "
      ]
     },
     "execution_count": 3,
     "metadata": {},
     "output_type": "execute_result"
    }
   ],
   "source": [
    "substrates = fda[fda[\"action_type\"] == \"substrate\"]\n",
    "substrates\n"
   ]
  },
  {
   "cell_type": "code",
   "execution_count": 4,
   "metadata": {},
   "outputs": [
    {
     "name": "stderr",
     "output_type": "stream",
     "text": [
      "100%|██████████| 4/4 [00:00<00:00, 255.59it/s]\n",
      "/var/folders/4h/4_v2nd3n4dn85gnfv734rbbc0000gn/T/ipykernel_36152/407865649.py:4: SettingWithCopyWarning: \n",
      "A value is trying to be set on a copy of a slice from a DataFrame.\n",
      "Try using .loc[row_indexer,col_indexer] = value instead\n",
      "\n",
      "See the caveats in the documentation: https://pandas.pydata.org/pandas-docs/stable/user_guide/indexing.html#returning-a-view-versus-a-copy\n",
      "  substrates[\"CANONICAL_SMILES\"] = substrates[\"SMILES\"].progress_apply(lambda x: standardize_smiles(x))\n"
     ]
    }
   ],
   "source": [
    "from rdkit.rdBase import BlockLogs\n",
    "from utils.utils import standardize_smiles\n",
    "with BlockLogs():\n",
    "    substrates[\"CANONICAL_SMILES\"] = substrates[\"SMILES\"].progress_apply(lambda x: standardize_smiles(x))"
   ]
  },
  {
   "cell_type": "code",
   "execution_count": 5,
   "metadata": {},
   "outputs": [
    {
     "name": "stderr",
     "output_type": "stream",
     "text": [
      "100%|██████████| 4/4 [00:00<00:00, 2346.14it/s]\n",
      "/var/folders/4h/4_v2nd3n4dn85gnfv734rbbc0000gn/T/ipykernel_36152/3589133869.py:5: SettingWithCopyWarning: \n",
      "A value is trying to be set on a copy of a slice from a DataFrame.\n",
      "Try using .loc[row_indexer,col_indexer] = value instead\n",
      "\n",
      "See the caveats in the documentation: https://pandas.pydata.org/pandas-docs/stable/user_guide/indexing.html#returning-a-view-versus-a-copy\n",
      "  substrates[\"INCHIKEY\"] = substrates[\"CANONICAL_SMILES\"].progress_apply(lambda x: smi_to_inchikey(x))\n"
     ]
    }
   ],
   "source": [
    "from rdkit.rdBase import BlockLogs\n",
    "from utils.utils import smi_to_inchikey\n",
    "# compute inchikeys\n",
    "with BlockLogs():\n",
    "    substrates[\"INCHIKEY\"] = substrates[\"CANONICAL_SMILES\"].progress_apply(lambda x: smi_to_inchikey(x))"
   ]
  },
  {
   "cell_type": "code",
   "execution_count": 6,
   "metadata": {},
   "outputs": [
    {
     "name": "stderr",
     "output_type": "stream",
     "text": [
      "/var/folders/4h/4_v2nd3n4dn85gnfv734rbbc0000gn/T/ipykernel_36152/3453579782.py:1: SettingWithCopyWarning: \n",
      "A value is trying to be set on a copy of a slice from a DataFrame.\n",
      "Try using .loc[row_indexer,col_indexer] = value instead\n",
      "\n",
      "See the caveats in the documentation: https://pandas.pydata.org/pandas-docs/stable/user_guide/indexing.html#returning-a-view-versus-a-copy\n",
      "  substrates[\"dataset\"] = \"FDA\"\n"
     ]
    }
   ],
   "source": [
    "substrates[\"dataset\"] = \"FDA\"\n",
    "substrates.to_csv(\"processed/fda.csv\", index=False)"
   ]
  }
 ],
 "metadata": {
  "kernelspec": {
   "display_name": "openadmet",
   "language": "python",
   "name": "python3"
  },
  "language_info": {
   "codemirror_mode": {
    "name": "ipython",
    "version": 3
   },
   "file_extension": ".py",
   "mimetype": "text/x-python",
   "name": "python",
   "nbconvert_exporter": "python",
   "pygments_lexer": "ipython3",
   "version": "3.8.20"
  }
 },
 "nbformat": 4,
 "nbformat_minor": 2
}
