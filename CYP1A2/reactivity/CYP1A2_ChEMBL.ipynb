{
 "cells": [
  {
   "cell_type": "code",
   "execution_count": 1,
   "metadata": {},
   "outputs": [],
   "source": [
    "import pandas as pd\n",
    "from rdkit import Chem\n",
    "import seaborn as sns\n",
    "from tqdm import tqdm\n",
    "import numpy as np"
   ]
  },
  {
   "cell_type": "code",
   "execution_count": 2,
   "metadata": {},
   "outputs": [],
   "source": [
    "tqdm.pandas()"
   ]
  },
  {
   "cell_type": "code",
   "execution_count": 3,
   "metadata": {},
   "outputs": [],
   "source": [
    "chembl = pd.read_csv(\"data/ChEMBL_CYP1A2_activities.csv\", sep=\";\")"
   ]
  },
  {
   "cell_type": "code",
   "execution_count": 4,
   "metadata": {},
   "outputs": [
    {
     "data": {
      "text/html": [
       "<div>\n",
       "<style scoped>\n",
       "    .dataframe tbody tr th:only-of-type {\n",
       "        vertical-align: middle;\n",
       "    }\n",
       "\n",
       "    .dataframe tbody tr th {\n",
       "        vertical-align: top;\n",
       "    }\n",
       "\n",
       "    .dataframe thead th {\n",
       "        text-align: right;\n",
       "    }\n",
       "</style>\n",
       "<table border=\"1\" class=\"dataframe\">\n",
       "  <thead>\n",
       "    <tr style=\"text-align: right;\">\n",
       "      <th></th>\n",
       "      <th>Molecule ChEMBL ID</th>\n",
       "      <th>Molecule Name</th>\n",
       "      <th>Molecule Max Phase</th>\n",
       "      <th>Molecular Weight</th>\n",
       "      <th>#RO5 Violations</th>\n",
       "      <th>AlogP</th>\n",
       "      <th>Compound Key</th>\n",
       "      <th>Smiles</th>\n",
       "      <th>Standard Type</th>\n",
       "      <th>Standard Relation</th>\n",
       "      <th>...</th>\n",
       "      <th>Document ChEMBL ID</th>\n",
       "      <th>Source ID</th>\n",
       "      <th>Source Description</th>\n",
       "      <th>Document Journal</th>\n",
       "      <th>Document Year</th>\n",
       "      <th>Cell ChEMBL ID</th>\n",
       "      <th>Properties</th>\n",
       "      <th>Action Type</th>\n",
       "      <th>Standard Text Value</th>\n",
       "      <th>Value</th>\n",
       "    </tr>\n",
       "  </thead>\n",
       "  <tbody>\n",
       "    <tr>\n",
       "      <th>0</th>\n",
       "      <td>CHEMBL4063079</td>\n",
       "      <td>NaN</td>\n",
       "      <td>NaN</td>\n",
       "      <td>314.34</td>\n",
       "      <td>0.0</td>\n",
       "      <td>3.31</td>\n",
       "      <td>10</td>\n",
       "      <td>COc1ccc(O)c(C(=O)/C=C/c2ccc(OC)c(OC)c2)c1</td>\n",
       "      <td>Inhibition</td>\n",
       "      <td>'='</td>\n",
       "      <td>...</td>\n",
       "      <td>CHEMBL3997782</td>\n",
       "      <td>1</td>\n",
       "      <td>Scientific Literature</td>\n",
       "      <td>Eur J Med Chem</td>\n",
       "      <td>2017.0</td>\n",
       "      <td>NaN</td>\n",
       "      <td>NaN</td>\n",
       "      <td>NaN</td>\n",
       "      <td>NaN</td>\n",
       "      <td>60.0</td>\n",
       "    </tr>\n",
       "    <tr>\n",
       "      <th>1</th>\n",
       "      <td>CHEMBL4098711</td>\n",
       "      <td>NaN</td>\n",
       "      <td>NaN</td>\n",
       "      <td>374.39</td>\n",
       "      <td>0.0</td>\n",
       "      <td>3.33</td>\n",
       "      <td>13</td>\n",
       "      <td>COc1cc(O)c(C(=O)/C=C/c2cc(OC)c(OC)c(OC)c2)cc1OC</td>\n",
       "      <td>Inhibition</td>\n",
       "      <td>'='</td>\n",
       "      <td>...</td>\n",
       "      <td>CHEMBL3997782</td>\n",
       "      <td>1</td>\n",
       "      <td>Scientific Literature</td>\n",
       "      <td>Eur J Med Chem</td>\n",
       "      <td>2017.0</td>\n",
       "      <td>NaN</td>\n",
       "      <td>NaN</td>\n",
       "      <td>NaN</td>\n",
       "      <td>NaN</td>\n",
       "      <td>-3.1</td>\n",
       "    </tr>\n",
       "    <tr>\n",
       "      <th>2</th>\n",
       "      <td>CHEMBL4071093</td>\n",
       "      <td>NaN</td>\n",
       "      <td>NaN</td>\n",
       "      <td>314.34</td>\n",
       "      <td>0.0</td>\n",
       "      <td>3.31</td>\n",
       "      <td>4</td>\n",
       "      <td>COc1cccc(/C=C/C(=O)c2cc(OC)c(OC)cc2O)c1</td>\n",
       "      <td>Inhibition</td>\n",
       "      <td>'='</td>\n",
       "      <td>...</td>\n",
       "      <td>CHEMBL3997782</td>\n",
       "      <td>1</td>\n",
       "      <td>Scientific Literature</td>\n",
       "      <td>Eur J Med Chem</td>\n",
       "      <td>2017.0</td>\n",
       "      <td>NaN</td>\n",
       "      <td>NaN</td>\n",
       "      <td>NaN</td>\n",
       "      <td>NaN</td>\n",
       "      <td>98.0</td>\n",
       "    </tr>\n",
       "    <tr>\n",
       "      <th>3</th>\n",
       "      <td>CHEMBL402794</td>\n",
       "      <td>BIS(2-ETHYLHEXYL)PHTHALATE</td>\n",
       "      <td>NaN</td>\n",
       "      <td>390.56</td>\n",
       "      <td>1.0</td>\n",
       "      <td>6.43</td>\n",
       "      <td>BIS(2-ETHYLHEXYL)PHTHALATE</td>\n",
       "      <td>CCCC[C@@H](CC)COC(=O)c1ccccc1C(=O)OC[C@@H](CC)...</td>\n",
       "      <td>IC50</td>\n",
       "      <td>NaN</td>\n",
       "      <td>...</td>\n",
       "      <td>CHEMBL1909046</td>\n",
       "      <td>15</td>\n",
       "      <td>DrugMatrix</td>\n",
       "      <td>NaN</td>\n",
       "      <td>NaN</td>\n",
       "      <td>CHEMBL3833782</td>\n",
       "      <td>NaN</td>\n",
       "      <td>NaN</td>\n",
       "      <td>NaN</td>\n",
       "      <td>NaN</td>\n",
       "    </tr>\n",
       "    <tr>\n",
       "      <th>4</th>\n",
       "      <td>CHEMBL150999</td>\n",
       "      <td>NaN</td>\n",
       "      <td>NaN</td>\n",
       "      <td>216.28</td>\n",
       "      <td>0.0</td>\n",
       "      <td>3.26</td>\n",
       "      <td>12</td>\n",
       "      <td>CCCCOc1ccc(-c2ncc[nH]2)cc1</td>\n",
       "      <td>IC50</td>\n",
       "      <td>'='</td>\n",
       "      <td>...</td>\n",
       "      <td>CHEMBL1145921</td>\n",
       "      <td>1</td>\n",
       "      <td>Scientific Literature</td>\n",
       "      <td>J Med Chem</td>\n",
       "      <td>2003.0</td>\n",
       "      <td>NaN</td>\n",
       "      <td>NaN</td>\n",
       "      <td>NaN</td>\n",
       "      <td>NaN</td>\n",
       "      <td>25500.0</td>\n",
       "    </tr>\n",
       "    <tr>\n",
       "      <th>...</th>\n",
       "      <td>...</td>\n",
       "      <td>...</td>\n",
       "      <td>...</td>\n",
       "      <td>...</td>\n",
       "      <td>...</td>\n",
       "      <td>...</td>\n",
       "      <td>...</td>\n",
       "      <td>...</td>\n",
       "      <td>...</td>\n",
       "      <td>...</td>\n",
       "      <td>...</td>\n",
       "      <td>...</td>\n",
       "      <td>...</td>\n",
       "      <td>...</td>\n",
       "      <td>...</td>\n",
       "      <td>...</td>\n",
       "      <td>...</td>\n",
       "      <td>...</td>\n",
       "      <td>...</td>\n",
       "      <td>...</td>\n",
       "      <td>...</td>\n",
       "    </tr>\n",
       "    <tr>\n",
       "      <th>26768</th>\n",
       "      <td>CHEMBL4798829</td>\n",
       "      <td>NaN</td>\n",
       "      <td>NaN</td>\n",
       "      <td>415.52</td>\n",
       "      <td>1.0</td>\n",
       "      <td>5.21</td>\n",
       "      <td>37; BAY-179</td>\n",
       "      <td>c1ccc2oc(-c3csc(C4CCN(Cc5nc6ncccc6[nH]5)CC4)n3...</td>\n",
       "      <td>IC50</td>\n",
       "      <td>'&gt;'</td>\n",
       "      <td>...</td>\n",
       "      <td>CHEMBL5046307</td>\n",
       "      <td>1</td>\n",
       "      <td>Scientific Literature</td>\n",
       "      <td>ACS Med Chem Lett</td>\n",
       "      <td>2022.0</td>\n",
       "      <td>NaN</td>\n",
       "      <td>NaN</td>\n",
       "      <td>NaN</td>\n",
       "      <td>NaN</td>\n",
       "      <td>20.0</td>\n",
       "    </tr>\n",
       "    <tr>\n",
       "      <th>26769</th>\n",
       "      <td>CHEMBL283196</td>\n",
       "      <td>ALPHA-NAPHTHOFLAVONE</td>\n",
       "      <td>NaN</td>\n",
       "      <td>272.30</td>\n",
       "      <td>0.0</td>\n",
       "      <td>4.61</td>\n",
       "      <td>alpha-Naphthoflavone</td>\n",
       "      <td>O=c1cc(-c2ccccc2)oc2c1ccc1ccccc12</td>\n",
       "      <td>Inhibition</td>\n",
       "      <td>'='</td>\n",
       "      <td>...</td>\n",
       "      <td>CHEMBL5329208</td>\n",
       "      <td>1</td>\n",
       "      <td>Scientific Literature</td>\n",
       "      <td>RSC Med Chem</td>\n",
       "      <td>2023.0</td>\n",
       "      <td>NaN</td>\n",
       "      <td>DOSE = 10.0 microM | TIME = 0.1667 hr</td>\n",
       "      <td>INHIBITOR</td>\n",
       "      <td>NaN</td>\n",
       "      <td>88.7</td>\n",
       "    </tr>\n",
       "    <tr>\n",
       "      <th>26770</th>\n",
       "      <td>CHEMBL4802045</td>\n",
       "      <td>BAY-091</td>\n",
       "      <td>NaN</td>\n",
       "      <td>440.48</td>\n",
       "      <td>1.0</td>\n",
       "      <td>5.56</td>\n",
       "      <td>60; BAY-091</td>\n",
       "      <td>CC[C@@H](Nc1c(C#N)c(-c2ccc(-c3cccc(C)c3F)cc2)n...</td>\n",
       "      <td>IC50</td>\n",
       "      <td>'&gt;'</td>\n",
       "      <td>...</td>\n",
       "      <td>CHEMBL5241108</td>\n",
       "      <td>1</td>\n",
       "      <td>Scientific Literature</td>\n",
       "      <td>J Med Chem</td>\n",
       "      <td>2021.0</td>\n",
       "      <td>NaN</td>\n",
       "      <td>NaN</td>\n",
       "      <td>NaN</td>\n",
       "      <td>NaN</td>\n",
       "      <td>20.0</td>\n",
       "    </tr>\n",
       "    <tr>\n",
       "      <th>26771</th>\n",
       "      <td>CHEMBL288441</td>\n",
       "      <td>BOSUTINIB</td>\n",
       "      <td>4.0</td>\n",
       "      <td>530.46</td>\n",
       "      <td>2.0</td>\n",
       "      <td>5.19</td>\n",
       "      <td>3</td>\n",
       "      <td>COc1cc(Nc2c(C#N)cnc3cc(OCCCN4CCN(C)CC4)c(OC)cc...</td>\n",
       "      <td>IC50</td>\n",
       "      <td>NaN</td>\n",
       "      <td>...</td>\n",
       "      <td>CHEMBL5370690</td>\n",
       "      <td>1</td>\n",
       "      <td>Scientific Literature</td>\n",
       "      <td>ACS Med Chem Lett</td>\n",
       "      <td>2023.0</td>\n",
       "      <td>NaN</td>\n",
       "      <td>TIME = 0.08333 hr</td>\n",
       "      <td>NaN</td>\n",
       "      <td>NaN</td>\n",
       "      <td>NaN</td>\n",
       "    </tr>\n",
       "    <tr>\n",
       "      <th>26772</th>\n",
       "      <td>CHEMBL5185001</td>\n",
       "      <td>NaN</td>\n",
       "      <td>NaN</td>\n",
       "      <td>440.46</td>\n",
       "      <td>0.0</td>\n",
       "      <td>3.84</td>\n",
       "      <td>24j</td>\n",
       "      <td>Cc1cc(Nc2nc(NCc3ccc(F)cc3F)nc3c2cnn3C2CCOCC2)n...</td>\n",
       "      <td>Inhibition</td>\n",
       "      <td>'='</td>\n",
       "      <td>...</td>\n",
       "      <td>CHEMBL5113403</td>\n",
       "      <td>1</td>\n",
       "      <td>Scientific Literature</td>\n",
       "      <td>Eur J Med Chem</td>\n",
       "      <td>2022.0</td>\n",
       "      <td>NaN</td>\n",
       "      <td>Dose = 10.0 microM | TIME = 0.4167 hr</td>\n",
       "      <td>NaN</td>\n",
       "      <td>NaN</td>\n",
       "      <td>21.2</td>\n",
       "    </tr>\n",
       "  </tbody>\n",
       "</table>\n",
       "<p>26773 rows × 48 columns</p>\n",
       "</div>"
      ],
      "text/plain": [
       "      Molecule ChEMBL ID               Molecule Name  Molecule Max Phase  \\\n",
       "0          CHEMBL4063079                         NaN                 NaN   \n",
       "1          CHEMBL4098711                         NaN                 NaN   \n",
       "2          CHEMBL4071093                         NaN                 NaN   \n",
       "3           CHEMBL402794  BIS(2-ETHYLHEXYL)PHTHALATE                 NaN   \n",
       "4           CHEMBL150999                         NaN                 NaN   \n",
       "...                  ...                         ...                 ...   \n",
       "26768      CHEMBL4798829                         NaN                 NaN   \n",
       "26769       CHEMBL283196        ALPHA-NAPHTHOFLAVONE                 NaN   \n",
       "26770      CHEMBL4802045                     BAY-091                 NaN   \n",
       "26771       CHEMBL288441                   BOSUTINIB                 4.0   \n",
       "26772      CHEMBL5185001                         NaN                 NaN   \n",
       "\n",
       "       Molecular Weight  #RO5 Violations  AlogP                Compound Key  \\\n",
       "0                314.34              0.0   3.31                          10   \n",
       "1                374.39              0.0   3.33                          13   \n",
       "2                314.34              0.0   3.31                           4   \n",
       "3                390.56              1.0   6.43  BIS(2-ETHYLHEXYL)PHTHALATE   \n",
       "4                216.28              0.0   3.26                          12   \n",
       "...                 ...              ...    ...                         ...   \n",
       "26768            415.52              1.0   5.21                 37; BAY-179   \n",
       "26769            272.30              0.0   4.61        alpha-Naphthoflavone   \n",
       "26770            440.48              1.0   5.56                 60; BAY-091   \n",
       "26771            530.46              2.0   5.19                           3   \n",
       "26772            440.46              0.0   3.84                         24j   \n",
       "\n",
       "                                                  Smiles Standard Type  \\\n",
       "0              COc1ccc(O)c(C(=O)/C=C/c2ccc(OC)c(OC)c2)c1    Inhibition   \n",
       "1        COc1cc(O)c(C(=O)/C=C/c2cc(OC)c(OC)c(OC)c2)cc1OC    Inhibition   \n",
       "2                COc1cccc(/C=C/C(=O)c2cc(OC)c(OC)cc2O)c1    Inhibition   \n",
       "3      CCCC[C@@H](CC)COC(=O)c1ccccc1C(=O)OC[C@@H](CC)...          IC50   \n",
       "4                             CCCCOc1ccc(-c2ncc[nH]2)cc1          IC50   \n",
       "...                                                  ...           ...   \n",
       "26768  c1ccc2oc(-c3csc(C4CCN(Cc5nc6ncccc6[nH]5)CC4)n3...          IC50   \n",
       "26769                  O=c1cc(-c2ccccc2)oc2c1ccc1ccccc12    Inhibition   \n",
       "26770  CC[C@@H](Nc1c(C#N)c(-c2ccc(-c3cccc(C)c3F)cc2)n...          IC50   \n",
       "26771  COc1cc(Nc2c(C#N)cnc3cc(OCCCN4CCN(C)CC4)c(OC)cc...          IC50   \n",
       "26772  Cc1cc(Nc2nc(NCc3ccc(F)cc3F)nc3c2cnn3C2CCOCC2)n...    Inhibition   \n",
       "\n",
       "      Standard Relation  ...  Document ChEMBL ID Source ID  \\\n",
       "0                   '='  ...       CHEMBL3997782         1   \n",
       "1                   '='  ...       CHEMBL3997782         1   \n",
       "2                   '='  ...       CHEMBL3997782         1   \n",
       "3                   NaN  ...       CHEMBL1909046        15   \n",
       "4                   '='  ...       CHEMBL1145921         1   \n",
       "...                 ...  ...                 ...       ...   \n",
       "26768               '>'  ...       CHEMBL5046307         1   \n",
       "26769               '='  ...       CHEMBL5329208         1   \n",
       "26770               '>'  ...       CHEMBL5241108         1   \n",
       "26771               NaN  ...       CHEMBL5370690         1   \n",
       "26772               '='  ...       CHEMBL5113403         1   \n",
       "\n",
       "          Source Description   Document Journal Document Year Cell ChEMBL ID  \\\n",
       "0      Scientific Literature     Eur J Med Chem        2017.0            NaN   \n",
       "1      Scientific Literature     Eur J Med Chem        2017.0            NaN   \n",
       "2      Scientific Literature     Eur J Med Chem        2017.0            NaN   \n",
       "3                 DrugMatrix                NaN           NaN  CHEMBL3833782   \n",
       "4      Scientific Literature         J Med Chem        2003.0            NaN   \n",
       "...                      ...                ...           ...            ...   \n",
       "26768  Scientific Literature  ACS Med Chem Lett        2022.0            NaN   \n",
       "26769  Scientific Literature       RSC Med Chem        2023.0            NaN   \n",
       "26770  Scientific Literature         J Med Chem        2021.0            NaN   \n",
       "26771  Scientific Literature  ACS Med Chem Lett        2023.0            NaN   \n",
       "26772  Scientific Literature     Eur J Med Chem        2022.0            NaN   \n",
       "\n",
       "                                  Properties  Action Type  \\\n",
       "0                                        NaN          NaN   \n",
       "1                                        NaN          NaN   \n",
       "2                                        NaN          NaN   \n",
       "3                                        NaN          NaN   \n",
       "4                                        NaN          NaN   \n",
       "...                                      ...          ...   \n",
       "26768                                    NaN          NaN   \n",
       "26769  DOSE = 10.0 microM | TIME = 0.1667 hr    INHIBITOR   \n",
       "26770                                    NaN          NaN   \n",
       "26771                      TIME = 0.08333 hr          NaN   \n",
       "26772  Dose = 10.0 microM | TIME = 0.4167 hr          NaN   \n",
       "\n",
       "       Standard Text Value    Value  \n",
       "0                      NaN     60.0  \n",
       "1                      NaN     -3.1  \n",
       "2                      NaN     98.0  \n",
       "3                      NaN      NaN  \n",
       "4                      NaN  25500.0  \n",
       "...                    ...      ...  \n",
       "26768                  NaN     20.0  \n",
       "26769                  NaN     88.7  \n",
       "26770                  NaN     20.0  \n",
       "26771                  NaN      NaN  \n",
       "26772                  NaN     21.2  \n",
       "\n",
       "[26773 rows x 48 columns]"
      ]
     },
     "execution_count": 4,
     "metadata": {},
     "output_type": "execute_result"
    }
   ],
   "source": [
    "chembl"
   ]
  },
  {
   "cell_type": "code",
   "execution_count": 5,
   "metadata": {},
   "outputs": [
    {
     "data": {
      "text/plain": [
       "Index(['Molecule ChEMBL ID', 'Molecule Name', 'Molecule Max Phase',\n",
       "       'Molecular Weight', '#RO5 Violations', 'AlogP', 'Compound Key',\n",
       "       'Smiles', 'Standard Type', 'Standard Relation', 'Standard Value',\n",
       "       'Standard Units', 'pChEMBL Value', 'Data Validity Comment', 'Comment',\n",
       "       'Uo Units', 'Ligand Efficiency BEI', 'Ligand Efficiency LE',\n",
       "       'Ligand Efficiency LLE', 'Ligand Efficiency SEI', 'Potential Duplicate',\n",
       "       'Assay ChEMBL ID', 'Assay Description', 'Assay Type', 'BAO Format ID',\n",
       "       'BAO Label', 'Assay Organism', 'Assay Tissue ChEMBL ID',\n",
       "       'Assay Tissue Name', 'Assay Cell Type', 'Assay Subcellular Fraction',\n",
       "       'Assay Parameters', 'Assay Variant Accession', 'Assay Variant Mutation',\n",
       "       'Target ChEMBL ID', 'Target Name', 'Target Organism', 'Target Type',\n",
       "       'Document ChEMBL ID', 'Source ID', 'Source Description',\n",
       "       'Document Journal', 'Document Year', 'Cell ChEMBL ID', 'Properties',\n",
       "       'Action Type', 'Standard Text Value', 'Value'],\n",
       "      dtype='object')"
      ]
     },
     "execution_count": 5,
     "metadata": {},
     "output_type": "execute_result"
    }
   ],
   "source": [
    "chembl.columns"
   ]
  },
  {
   "cell_type": "code",
   "execution_count": 6,
   "metadata": {},
   "outputs": [
    {
     "data": {
      "text/plain": [
       "Data Validity Comment\n",
       "Outside typical range            158\n",
       "Potential transcription error      1\n",
       "Name: count, dtype: int64"
      ]
     },
     "execution_count": 6,
     "metadata": {},
     "output_type": "execute_result"
    }
   ],
   "source": [
    "chembl[\"Data Validity Comment\"].value_counts()"
   ]
  },
  {
   "cell_type": "code",
   "execution_count": 7,
   "metadata": {},
   "outputs": [
    {
     "data": {
      "text/plain": [
       "Action Type\n",
       "INHIBITOR    511\n",
       "SUBSTRATE      8\n",
       "ACTIVATOR      4\n",
       "Name: count, dtype: int64"
      ]
     },
     "execution_count": 7,
     "metadata": {},
     "output_type": "execute_result"
    }
   ],
   "source": [
    "chembl[\"Action Type\"].value_counts()"
   ]
  },
  {
   "cell_type": "code",
   "execution_count": 8,
   "metadata": {},
   "outputs": [
    {
     "data": {
      "text/plain": [
       "Standard Units\n",
       "nM              14198\n",
       "%                2625\n",
       "uM                244\n",
       "hr                 12\n",
       "pmol/min           11\n",
       "microM/min         11\n",
       "min-1              10\n",
       "uL/min              9\n",
       "nmol/min            9\n",
       "/min                8\n",
       "10'-4/min           5\n",
       "/min/microM         2\n",
       "pmol/hr             2\n",
       "ug.mL-1             2\n",
       "mL.min-1.g-1        2\n",
       "ug/L                2\n",
       "mM                  1\n",
       "Name: count, dtype: int64"
      ]
     },
     "execution_count": 8,
     "metadata": {},
     "output_type": "execute_result"
    }
   ],
   "source": [
    "chembl[\"Standard Units\"].value_counts()"
   ]
  },
  {
   "cell_type": "code",
   "execution_count": 9,
   "metadata": {},
   "outputs": [
    {
     "data": {
      "text/plain": [
       "Standard Type\n",
       "AC50                          17143\n",
       "IC50                           5279\n",
       "Inhibition                     2265\n",
       "Ki                              928\n",
       "Activity                        527\n",
       "INH                             217\n",
       "Drug metabolism                 121\n",
       "TDI                              83\n",
       "EC50                             31\n",
       "Compound recovery                24\n",
       "Ratio IC50                       20\n",
       "Stability                        17\n",
       "Kinact                           14\n",
       "FC                               14\n",
       "Km                               13\n",
       "T1/2                             12\n",
       "CL                               11\n",
       "Inhibitory potential             10\n",
       "Vmax                              9\n",
       "IC90                              8\n",
       "mechanism based inhibition        8\n",
       "Emax                              3\n",
       "Kcat/Km                           3\n",
       "Kcat                              3\n",
       "NOAEL                             3\n",
       "Control of P-450 marker           2\n",
       "IC5                               1\n",
       "pIC50                             1\n",
       "Partition ratio                   1\n",
       "log(1/IC50)                       1\n",
       "Name: count, dtype: int64"
      ]
     },
     "execution_count": 9,
     "metadata": {},
     "output_type": "execute_result"
    }
   ],
   "source": [
    "chembl[\"Standard Type\"].value_counts()"
   ]
  },
  {
   "cell_type": "code",
   "execution_count": 10,
   "metadata": {},
   "outputs": [
    {
     "data": {
      "text/plain": [
       "<Axes: xlabel='pChEMBL Value', ylabel='Count'>"
      ]
     },
     "execution_count": 10,
     "metadata": {},
     "output_type": "execute_result"
    },
    {
     "data": {
      "image/png": "[encoded data removed]",
      "text/plain": [
       "<Figure size 640x480 with 1 Axes>"
      ]
     },
     "metadata": {},
     "output_type": "display_data"
    }
   ],
   "source": [
    "sns.histplot(data=chembl, x=\"pChEMBL Value\", hue=\"Assay Type\")\n"
   ]
  },
  {
   "cell_type": "code",
   "execution_count": 11,
   "metadata": {},
   "outputs": [
    {
     "data": {
      "text/plain": [
       "<Axes: xlabel='Action Type', ylabel='count'>"
      ]
     },
     "execution_count": 11,
     "metadata": {},
     "output_type": "execute_result"
    },
    {
     "data": {
      "image/png": "[encoded data removed]",
      "text/plain": [
       "<Figure size 640x480 with 1 Axes>"
      ]
     },
     "metadata": {},
     "output_type": "display_data"
    }
   ],
   "source": [
    "sns.countplot(data=chembl, x=\"Action Type\")"
   ]
  },
  {
   "cell_type": "code",
   "execution_count": 12,
   "metadata": {},
   "outputs": [
    {
     "data": {
      "text/plain": [
       "23751"
      ]
     },
     "execution_count": 12,
     "metadata": {},
     "output_type": "execute_result"
    }
   ],
   "source": [
    "chembl[\"Molecule ChEMBL ID\"].nunique()"
   ]
  },
  {
   "cell_type": "code",
   "execution_count": 13,
   "metadata": {},
   "outputs": [
    {
     "data": {
      "text/plain": [
       "2322"
      ]
     },
     "execution_count": 13,
     "metadata": {},
     "output_type": "execute_result"
    }
   ],
   "source": [
    "chembl[\"Assay ChEMBL ID\"].nunique()"
   ]
  },
  {
   "cell_type": "code",
   "execution_count": 14,
   "metadata": {},
   "outputs": [],
   "source": [
    "# standardisation of SMILES\n",
    "from rdkit import Chem\n",
    "from rdkit.Chem.MolStandardize import rdMolStandardize\n",
    "from rdkit.rdBase import BlockLogs\n",
    "import mols2grid\n",
    "from utils.utils import standardize_smiles"
   ]
  },
  {
   "cell_type": "code",
   "execution_count": 15,
   "metadata": {},
   "outputs": [
    {
     "name": "stderr",
     "output_type": "stream",
     "text": [
      "100%|██████████| 26773/26773 [03:40<00:00, 121.34it/s]\n"
     ]
    }
   ],
   "source": [
    "with BlockLogs():\n",
    "    chembl[\"CANONICAL_SMILES\"] = chembl[\"Smiles\"].progress_apply(lambda x: standardize_smiles(x))"
   ]
  },
  {
   "cell_type": "code",
   "execution_count": 16,
   "metadata": {},
   "outputs": [
    {
     "name": "stderr",
     "output_type": "stream",
     "text": [
      "100%|██████████| 26773/26773 [00:05<00:00, 4572.26it/s]\n"
     ]
    }
   ],
   "source": [
    "from utils.utils import smi_to_inchikey\n",
    "# compute inchikeys\n",
    "with BlockLogs():\n",
    "    chembl[\"INCHIKEY\"] = chembl[\"CANONICAL_SMILES\"].progress_apply(lambda x: smi_to_inchikey(x))"
   ]
  },
  {
   "cell_type": "code",
   "execution_count": 17,
   "metadata": {},
   "outputs": [],
   "source": [
    "substrates = chembl[chembl[\"Action Type\"] == \"SUBSTRATE\"]"
   ]
  },
  {
   "cell_type": "code",
   "execution_count": 22,
   "metadata": {},
   "outputs": [
    {
     "data": {
      "text/plain": [
       "8"
      ]
     },
     "execution_count": 22,
     "metadata": {},
     "output_type": "execute_result"
    }
   ],
   "source": [
    "substrates.INCHIKEY.nunique()"
   ]
  },
  {
   "cell_type": "code",
   "execution_count": 23,
   "metadata": {},
   "outputs": [
    {
     "data": {
      "text/plain": [
       "8"
      ]
     },
     "execution_count": 23,
     "metadata": {},
     "output_type": "execute_result"
    }
   ],
   "source": [
    "len(substrates.INCHIKEY)"
   ]
  },
  {
   "cell_type": "code",
   "execution_count": 24,
   "metadata": {},
   "outputs": [
    {
     "name": "stderr",
     "output_type": "stream",
     "text": [
      "/var/folders/4h/4_v2nd3n4dn85gnfv734rbbc0000gn/T/ipykernel_31963/2231850761.py:4: SettingWithCopyWarning: \n",
      "A value is trying to be set on a copy of a slice from a DataFrame\n",
      "\n",
      "See the caveats in the documentation: https://pandas.pydata.org/pandas-docs/stable/user_guide/indexing.html#returning-a-view-versus-a-copy\n",
      "  clean_active.rename(columns={\"assay_count\":\"appears_in_N_ChEMBL_assays\", \"Molecule Name\": \"common_name\", \"Action Type\": \"action_type\"}, inplace=True)\n"
     ]
    }
   ],
   "source": [
    "# now clean up \n",
    "keep_cols = [\"CANONICAL_SMILES\", \"INCHIKEY\", \"Molecule Name\", \"Action Type\"]\n",
    "clean_active = substrates[keep_cols]\n",
    "clean_active.rename(columns={\"assay_count\":\"appears_in_N_ChEMBL_assays\", \"Molecule Name\": \"common_name\", \"Action Type\": \"action_type\"}, inplace=True)\n",
    "clean_active_sorted = clean_active.sort_values([\"common_name\", \"action_type\"], ascending=[False, False]) # keep the ones with names if possible\n",
    "clean_deduped = clean_active_sorted.drop_duplicates(subset=\"INCHIKEY\", keep=\"first\")"
   ]
  },
  {
   "cell_type": "code",
   "execution_count": 25,
   "metadata": {},
   "outputs": [
    {
     "data": {
      "text/html": [
       "<div>\n",
       "<style scoped>\n",
       "    .dataframe tbody tr th:only-of-type {\n",
       "        vertical-align: middle;\n",
       "    }\n",
       "\n",
       "    .dataframe tbody tr th {\n",
       "        vertical-align: top;\n",
       "    }\n",
       "\n",
       "    .dataframe thead th {\n",
       "        text-align: right;\n",
       "    }\n",
       "</style>\n",
       "<table border=\"1\" class=\"dataframe\">\n",
       "  <thead>\n",
       "    <tr style=\"text-align: right;\">\n",
       "      <th></th>\n",
       "      <th>CANONICAL_SMILES</th>\n",
       "      <th>INCHIKEY</th>\n",
       "      <th>common_name</th>\n",
       "      <th>action_type</th>\n",
       "    </tr>\n",
       "  </thead>\n",
       "  <tbody>\n",
       "    <tr>\n",
       "      <th>1804</th>\n",
       "      <td>Cn1c(=O)c2c(ncn2C)n(C)c1=O</td>\n",
       "      <td>RYYVLZVUVIJVGH-UHFFFAOYSA-N</td>\n",
       "      <td>CAFFEINE</td>\n",
       "      <td>SUBSTRATE</td>\n",
       "    </tr>\n",
       "    <tr>\n",
       "      <th>9770</th>\n",
       "      <td>Cc1[nH]cnc1CN1CCc2c(c3ccccc3n2C)C1=O</td>\n",
       "      <td>JSWZEAMFRNKZNL-UHFFFAOYSA-N</td>\n",
       "      <td>ALOSETRON</td>\n",
       "      <td>SUBSTRATE</td>\n",
       "    </tr>\n",
       "    <tr>\n",
       "      <th>16771</th>\n",
       "      <td>Cn1c(=O)c2[nH]cnc2n(C)c1=O</td>\n",
       "      <td>ZFXYFBGIUFBOJW-UHFFFAOYSA-N</td>\n",
       "      <td>THEOPHYLLINE</td>\n",
       "      <td>SUBSTRATE</td>\n",
       "    </tr>\n",
       "    <tr>\n",
       "      <th>21968</th>\n",
       "      <td>CNCC[C@H](Oc1cccc2ccccc12)c1cccs1</td>\n",
       "      <td>ZEUITGRIYCTCEM-KRWDZBQOSA-N</td>\n",
       "      <td>DULOXETINE</td>\n",
       "      <td>SUBSTRATE</td>\n",
       "    </tr>\n",
       "    <tr>\n",
       "      <th>21969</th>\n",
       "      <td>CCOc1ccc(NC(C)=O)cc1</td>\n",
       "      <td>CPJSUEIXXCENMM-UHFFFAOYSA-N</td>\n",
       "      <td>PHENACETIN</td>\n",
       "      <td>SUBSTRATE</td>\n",
       "    </tr>\n",
       "  </tbody>\n",
       "</table>\n",
       "</div>"
      ],
      "text/plain": [
       "                           CANONICAL_SMILES                     INCHIKEY  \\\n",
       "1804             Cn1c(=O)c2c(ncn2C)n(C)c1=O  RYYVLZVUVIJVGH-UHFFFAOYSA-N   \n",
       "9770   Cc1[nH]cnc1CN1CCc2c(c3ccccc3n2C)C1=O  JSWZEAMFRNKZNL-UHFFFAOYSA-N   \n",
       "16771            Cn1c(=O)c2[nH]cnc2n(C)c1=O  ZFXYFBGIUFBOJW-UHFFFAOYSA-N   \n",
       "21968     CNCC[C@H](Oc1cccc2ccccc12)c1cccs1  ZEUITGRIYCTCEM-KRWDZBQOSA-N   \n",
       "21969                  CCOc1ccc(NC(C)=O)cc1  CPJSUEIXXCENMM-UHFFFAOYSA-N   \n",
       "\n",
       "        common_name action_type  \n",
       "1804       CAFFEINE   SUBSTRATE  \n",
       "9770      ALOSETRON   SUBSTRATE  \n",
       "16771  THEOPHYLLINE   SUBSTRATE  \n",
       "21968    DULOXETINE   SUBSTRATE  \n",
       "21969    PHENACETIN   SUBSTRATE  "
      ]
     },
     "execution_count": 25,
     "metadata": {},
     "output_type": "execute_result"
    }
   ],
   "source": [
    "clean_active.head()"
   ]
  },
  {
   "cell_type": "code",
   "execution_count": 26,
   "metadata": {},
   "outputs": [
    {
     "data": {
      "text/plain": [
       "action_type\n",
       "SUBSTRATE    8\n",
       "Name: count, dtype: int64"
      ]
     },
     "execution_count": 26,
     "metadata": {},
     "output_type": "execute_result"
    }
   ],
   "source": [
    "clean_deduped[\"action_type\"].value_counts()"
   ]
  },
  {
   "cell_type": "code",
   "execution_count": 27,
   "metadata": {},
   "outputs": [],
   "source": [
    "clean_deduped[\"action_type\"] = \"substrate\""
   ]
  },
  {
   "cell_type": "code",
   "execution_count": 28,
   "metadata": {},
   "outputs": [
    {
     "data": {
      "text/plain": [
       "action_type\n",
       "substrate    8\n",
       "Name: count, dtype: int64"
      ]
     },
     "execution_count": 28,
     "metadata": {},
     "output_type": "execute_result"
    }
   ],
   "source": [
    "clean_deduped[\"action_type\"].value_counts()"
   ]
  },
  {
   "cell_type": "code",
   "execution_count": 29,
   "metadata": {},
   "outputs": [],
   "source": [
    "clean_deduped[\"dataset\"] = \"ChEMBL_curated\"\n",
    "clean_deduped[\"active\"] = True"
   ]
  },
  {
   "cell_type": "code",
   "execution_count": 31,
   "metadata": {},
   "outputs": [],
   "source": [
    "clean_deduped.to_csv(\"processed/chembl_active.csv\", index=False)"
   ]
  }
 ],
 "metadata": {
  "kernelspec": {
   "display_name": "openadmet",
   "language": "python",
   "name": "python3"
  },
  "language_info": {
   "codemirror_mode": {
    "name": "ipython",
    "version": 3
   },
   "file_extension": ".py",
   "mimetype": "text/x-python",
   "name": "python",
   "nbconvert_exporter": "python",
   "pygments_lexer": "ipython3",
   "version": "3.8.20"
  }
 },
 "nbformat": 4,
 "nbformat_minor": 2
}
