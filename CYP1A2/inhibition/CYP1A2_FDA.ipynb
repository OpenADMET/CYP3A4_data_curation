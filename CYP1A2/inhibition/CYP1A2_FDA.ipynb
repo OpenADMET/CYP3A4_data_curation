{
 "cells": [
  {
   "cell_type": "code",
   "execution_count": 6,
   "metadata": {},
   "outputs": [],
   "source": [
    "# NOTE: ask Hugo where he got the fda.csv?\n",
    "\n",
    "import pandas as pd\n",
    "from rdkit import Chem\n",
    "import seaborn as sns\n",
    "from tqdm import tqdm\n",
    "import numpy as np\n",
    "\n",
    "tqdm.pandas()"
   ]
  },
  {
   "cell_type": "code",
   "execution_count": 7,
   "metadata": {},
   "outputs": [
    {
     "data": {
      "text/html": [
       "<div>\n",
       "<style scoped>\n",
       "    .dataframe tbody tr th:only-of-type {\n",
       "        vertical-align: middle;\n",
       "    }\n",
       "\n",
       "    .dataframe tbody tr th {\n",
       "        vertical-align: top;\n",
       "    }\n",
       "\n",
       "    .dataframe thead th {\n",
       "        text-align: right;\n",
       "    }\n",
       "</style>\n",
       "<table border=\"1\" class=\"dataframe\">\n",
       "  <thead>\n",
       "    <tr style=\"text-align: right;\">\n",
       "      <th></th>\n",
       "      <th>SMILES</th>\n",
       "      <th>active</th>\n",
       "      <th>common_name</th>\n",
       "      <th>action_type</th>\n",
       "      <th>FDA_recommended</th>\n",
       "    </tr>\n",
       "  </thead>\n",
       "  <tbody>\n",
       "    <tr>\n",
       "      <th>0</th>\n",
       "      <td>CCOc1ccc2nc3ccc(=O)cc-3oc2c1</td>\n",
       "      <td>True</td>\n",
       "      <td>alpha-naphthoflavone</td>\n",
       "      <td>inhibitor</td>\n",
       "      <td>True</td>\n",
       "    </tr>\n",
       "    <tr>\n",
       "      <th>1</th>\n",
       "      <td>Cc1nc2c([nH]1)c(=O)n(C)c(=O)n2Cc1ccco1</td>\n",
       "      <td>True</td>\n",
       "      <td>furafylline</td>\n",
       "      <td>inhibitor</td>\n",
       "      <td>True</td>\n",
       "    </tr>\n",
       "    <tr>\n",
       "      <th>2</th>\n",
       "      <td>COCCCC/C(=N\\OCCN)c1ccc(C(F)(F)F)cc1</td>\n",
       "      <td>True</td>\n",
       "      <td>fluvoxamine</td>\n",
       "      <td>inhibitor</td>\n",
       "      <td>True</td>\n",
       "    </tr>\n",
       "    <tr>\n",
       "      <th>3</th>\n",
       "      <td>CCOc1ccc2nc3ccc(=O)cc-3oc2c1</td>\n",
       "      <td>True</td>\n",
       "      <td>ethoxyresorufin</td>\n",
       "      <td>substrate</td>\n",
       "      <td>True</td>\n",
       "    </tr>\n",
       "    <tr>\n",
       "      <th>4</th>\n",
       "      <td>CCOc1ccc(NC(C)=O)cc1</td>\n",
       "      <td>True</td>\n",
       "      <td>phenacetin</td>\n",
       "      <td>substrate</td>\n",
       "      <td>True</td>\n",
       "    </tr>\n",
       "    <tr>\n",
       "      <th>5</th>\n",
       "      <td>Cn1c(=O)c2c(ncn2C)n(C)c1=O</td>\n",
       "      <td>True</td>\n",
       "      <td>caffeine</td>\n",
       "      <td>substrate</td>\n",
       "      <td>True</td>\n",
       "    </tr>\n",
       "    <tr>\n",
       "      <th>6</th>\n",
       "      <td>Clc1ccc2nsnc2c1NC1=NCCN1</td>\n",
       "      <td>True</td>\n",
       "      <td>tizanidine</td>\n",
       "      <td>substrate</td>\n",
       "      <td>True</td>\n",
       "    </tr>\n",
       "  </tbody>\n",
       "</table>\n",
       "</div>"
      ],
      "text/plain": [
       "                                   SMILES active            common_name  \\\n",
       "0            CCOc1ccc2nc3ccc(=O)cc-3oc2c1   True   alpha-naphthoflavone   \n",
       "1  Cc1nc2c([nH]1)c(=O)n(C)c(=O)n2Cc1ccco1   True            furafylline   \n",
       "2     COCCCC/C(=N\\OCCN)c1ccc(C(F)(F)F)cc1   True            fluvoxamine   \n",
       "3            CCOc1ccc2nc3ccc(=O)cc-3oc2c1   True        ethoxyresorufin   \n",
       "4                    CCOc1ccc(NC(C)=O)cc1   True             phenacetin   \n",
       "5              Cn1c(=O)c2c(ncn2C)n(C)c1=O   True               caffeine   \n",
       "6                Clc1ccc2nsnc2c1NC1=NCCN1   True             tizanidine   \n",
       "\n",
       "  action_type FDA_recommended  \n",
       "0   inhibitor            True  \n",
       "1   inhibitor            True  \n",
       "2   inhibitor            True  \n",
       "3   substrate            True  \n",
       "4   substrate            True  \n",
       "5   substrate            True  \n",
       "6   substrate            True  "
      ]
     },
     "execution_count": 7,
     "metadata": {},
     "output_type": "execute_result"
    }
   ],
   "source": [
    "fda = pd.read_csv(\"data/fda.csv\")\n",
    "fda"
   ]
  },
  {
   "cell_type": "code",
   "execution_count": 11,
   "metadata": {},
   "outputs": [
    {
     "name": "stderr",
     "output_type": "stream",
     "text": [
      "100%|██████████| 7/7 [00:00<00:00, 216.96it/s]\n"
     ]
    }
   ],
   "source": [
    "from rdkit.rdBase import BlockLogs\n",
    "from utils.utils import standardize_smiles\n",
    "with BlockLogs():\n",
    "    fda[\"CANONICAL_SMILES\"] = fda[\"SMILES\"].progress_apply(lambda x: standardize_smiles(x))"
   ]
  },
  {
   "cell_type": "code",
   "execution_count": 12,
   "metadata": {},
   "outputs": [
    {
     "name": "stderr",
     "output_type": "stream",
     "text": [
      "100%|██████████| 7/7 [00:00<00:00, 3635.03it/s]\n"
     ]
    }
   ],
   "source": [
    "from rdkit.rdBase import BlockLogs\n",
    "from utils.utils import smi_to_inchikey\n",
    "# compute inchikeys\n",
    "with BlockLogs():\n",
    "    fda[\"INCHIKEY\"] = fda[\"CANONICAL_SMILES\"].progress_apply(lambda x: smi_to_inchikey(x))"
   ]
  },
  {
   "cell_type": "code",
   "execution_count": 13,
   "metadata": {},
   "outputs": [],
   "source": [
    "fda[\"dataset\"] = \"FDA\"\n",
    "fda.to_csv(\"processed/fda.csv\", index=False)"
   ]
  }
 ],
 "metadata": {
  "kernelspec": {
   "display_name": "openadmet",
   "language": "python",
   "name": "python3"
  },
  "language_info": {
   "codemirror_mode": {
    "name": "ipython",
    "version": 3
   },
   "file_extension": ".py",
   "mimetype": "text/x-python",
   "name": "python",
   "nbconvert_exporter": "python",
   "pygments_lexer": "ipython3",
   "version": "3.8.20"
  }
 },
 "nbformat": 4,
 "nbformat_minor": 2
}
