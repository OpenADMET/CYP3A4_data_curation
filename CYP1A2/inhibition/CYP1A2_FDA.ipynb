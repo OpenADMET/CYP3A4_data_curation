{
 "cells": [
  {
   "cell_type": "code",
   "execution_count": 2,
   "metadata": {},
   "outputs": [],
   "source": [
    "# NOTE: ask Hugo where he got the fda.csv?\n",
    "\n",
    "import pandas as pd\n",
    "from rdkit import Chem\n",
    "import seaborn as sns\n",
    "from tqdm import tqdm\n",
    "import numpy as np\n",
    "\n",
    "tqdm.pandas()"
   ]
  },
  {
   "cell_type": "code",
   "execution_count": 4,
   "metadata": {},
   "outputs": [
    {
     "data": {
      "text/html": [
       "<div>\n",
       "<style scoped>\n",
       "    .dataframe tbody tr th:only-of-type {\n",
       "        vertical-align: middle;\n",
       "    }\n",
       "\n",
       "    .dataframe tbody tr th {\n",
       "        vertical-align: top;\n",
       "    }\n",
       "\n",
       "    .dataframe thead th {\n",
       "        text-align: right;\n",
       "    }\n",
       "</style>\n",
       "<table border=\"1\" class=\"dataframe\">\n",
       "  <thead>\n",
       "    <tr style=\"text-align: right;\">\n",
       "      <th></th>\n",
       "      <th>SMILES</th>\n",
       "      <th>active</th>\n",
       "      <th>common_name</th>\n",
       "      <th>action_type</th>\n",
       "      <th>FDA_recommended</th>\n",
       "    </tr>\n",
       "  </thead>\n",
       "  <tbody>\n",
       "    <tr>\n",
       "      <th>0</th>\n",
       "      <td>CC(=O)N1CCN(c2ccc(OCC3COC(Cn4ccnc4)(c4ccc(Cl)c...</td>\n",
       "      <td>True</td>\n",
       "      <td>ketoconazole</td>\n",
       "      <td>inhibitor</td>\n",
       "      <td>True</td>\n",
       "    </tr>\n",
       "    <tr>\n",
       "      <th>1</th>\n",
       "      <td>CCC(C)n1ncn(-c2ccc(N3CCN(c4ccc(OC[C@H]5CO[C@](...</td>\n",
       "      <td>True</td>\n",
       "      <td>itraconazole</td>\n",
       "      <td>inhibitor</td>\n",
       "      <td>True</td>\n",
       "    </tr>\n",
       "    <tr>\n",
       "      <th>2</th>\n",
       "      <td>OC(Cn1cncn1)(Cn1cncn1)c1ccc(F)cc1F</td>\n",
       "      <td>True</td>\n",
       "      <td>fluconazole</td>\n",
       "      <td>inhibitor</td>\n",
       "      <td>True</td>\n",
       "    </tr>\n",
       "    <tr>\n",
       "      <th>3</th>\n",
       "      <td>CC[C@H]1OC(=O)[C@H](C)[C@@H](O[C@H]2C[C@@](C)(...</td>\n",
       "      <td>True</td>\n",
       "      <td>clarithromycin</td>\n",
       "      <td>inhibitor</td>\n",
       "      <td>True</td>\n",
       "    </tr>\n",
       "    <tr>\n",
       "      <th>4</th>\n",
       "      <td>CC[C@]1(C)C[C@@H](OC(=O)CSc2nnc(N)[nH]2)[C@]2(...</td>\n",
       "      <td>True</td>\n",
       "      <td>azamulin</td>\n",
       "      <td>inhibitor</td>\n",
       "      <td>True</td>\n",
       "    </tr>\n",
       "    <tr>\n",
       "      <th>5</th>\n",
       "      <td>CC[C@H]1OC(=O)[C@H](C)[C@@H](O[C@H]2C[C@@](C)(...</td>\n",
       "      <td>True</td>\n",
       "      <td>erythromycin</td>\n",
       "      <td>inhibitor</td>\n",
       "      <td>True</td>\n",
       "    </tr>\n",
       "    <tr>\n",
       "      <th>6</th>\n",
       "      <td>COc1ccc(CCN(C)CCCC(C#N)(c2ccc(OC)c(OC)c2)C(C)C...</td>\n",
       "      <td>True</td>\n",
       "      <td>verapamil</td>\n",
       "      <td>inhibitor</td>\n",
       "      <td>True</td>\n",
       "    </tr>\n",
       "    <tr>\n",
       "      <th>7</th>\n",
       "      <td>CO[C@H]1C[C@H](O[C@H]2[C@H](C)[C@@H](O[C@@H]3O...</td>\n",
       "      <td>True</td>\n",
       "      <td>troleandomycin</td>\n",
       "      <td>inhibitor</td>\n",
       "      <td>True</td>\n",
       "    </tr>\n",
       "    <tr>\n",
       "      <th>8</th>\n",
       "      <td>Cc1ncc2n1-c1ccc(Cl)cc1C(c1ccccc1F)=NC2</td>\n",
       "      <td>True</td>\n",
       "      <td>midazolam</td>\n",
       "      <td>substrate</td>\n",
       "      <td>True</td>\n",
       "    </tr>\n",
       "    <tr>\n",
       "      <th>9</th>\n",
       "      <td>Cc1nnc2n1-c1ccc(Cl)cc1C(c1ccccc1Cl)=NC2</td>\n",
       "      <td>True</td>\n",
       "      <td>triazolam</td>\n",
       "      <td>substrate</td>\n",
       "      <td>True</td>\n",
       "    </tr>\n",
       "    <tr>\n",
       "      <th>10</th>\n",
       "      <td>C[C@]12CC[C@H]3[C@@H](CCC4=CC(=O)CC[C@@]43C)[C...</td>\n",
       "      <td>True</td>\n",
       "      <td>testosterone</td>\n",
       "      <td>substrate</td>\n",
       "      <td>True</td>\n",
       "    </tr>\n",
       "  </tbody>\n",
       "</table>\n",
       "</div>"
      ],
      "text/plain": [
       "                                               SMILES active      common_name  \\\n",
       "0   CC(=O)N1CCN(c2ccc(OCC3COC(Cn4ccnc4)(c4ccc(Cl)c...   True     ketoconazole   \n",
       "1   CCC(C)n1ncn(-c2ccc(N3CCN(c4ccc(OC[C@H]5CO[C@](...   True     itraconazole   \n",
       "2                  OC(Cn1cncn1)(Cn1cncn1)c1ccc(F)cc1F   True      fluconazole   \n",
       "3   CC[C@H]1OC(=O)[C@H](C)[C@@H](O[C@H]2C[C@@](C)(...   True   clarithromycin   \n",
       "4   CC[C@]1(C)C[C@@H](OC(=O)CSc2nnc(N)[nH]2)[C@]2(...   True         azamulin   \n",
       "5   CC[C@H]1OC(=O)[C@H](C)[C@@H](O[C@H]2C[C@@](C)(...   True     erythromycin   \n",
       "6   COc1ccc(CCN(C)CCCC(C#N)(c2ccc(OC)c(OC)c2)C(C)C...   True        verapamil   \n",
       "7   CO[C@H]1C[C@H](O[C@H]2[C@H](C)[C@@H](O[C@@H]3O...   True   troleandomycin   \n",
       "8              Cc1ncc2n1-c1ccc(Cl)cc1C(c1ccccc1F)=NC2   True        midazolam   \n",
       "9             Cc1nnc2n1-c1ccc(Cl)cc1C(c1ccccc1Cl)=NC2   True        triazolam   \n",
       "10  C[C@]12CC[C@H]3[C@@H](CCC4=CC(=O)CC[C@@]43C)[C...   True     testosterone   \n",
       "\n",
       "   action_type FDA_recommended  \n",
       "0    inhibitor            True  \n",
       "1    inhibitor            True  \n",
       "2    inhibitor            True  \n",
       "3    inhibitor            True  \n",
       "4    inhibitor            True  \n",
       "5    inhibitor            True  \n",
       "6    inhibitor            True  \n",
       "7    inhibitor            True  \n",
       "8    substrate            True  \n",
       "9    substrate            True  \n",
       "10   substrate            True  "
      ]
     },
     "execution_count": 4,
     "metadata": {},
     "output_type": "execute_result"
    }
   ],
   "source": [
    "fda = pd.read_csv(\"data/fda.csv\")\n",
    "fda"
   ]
  },
  {
   "cell_type": "code",
   "execution_count": 7,
   "metadata": {},
   "outputs": [
    {
     "name": "stderr",
     "output_type": "stream",
     "text": [
      "100%|██████████| 11/11 [00:00<00:00, 100.71it/s]\n"
     ]
    }
   ],
   "source": [
    "from rdkit.rdBase import BlockLogs\n",
    "from utils.utils import standardize_smiles\n",
    "with BlockLogs():\n",
    "    fda[\"CANONICAL_SMILES\"] = fda[\"SMILES\"].progress_apply(lambda x: standardize_smiles(x))"
   ]
  },
  {
   "cell_type": "code",
   "execution_count": 8,
   "metadata": {},
   "outputs": [
    {
     "name": "stderr",
     "output_type": "stream",
     "text": [
      "100%|██████████| 11/11 [00:00<00:00, 1922.15it/s]\n"
     ]
    }
   ],
   "source": [
    "from rdkit.rdBase import BlockLogs\n",
    "from utils.utils import smi_to_inchikey\n",
    "# compute inchikeys\n",
    "with BlockLogs():\n",
    "    fda[\"INCHIKEY\"] = fda[\"CANONICAL_SMILES\"].progress_apply(lambda x: smi_to_inchikey(x))"
   ]
  },
  {
   "cell_type": "code",
   "execution_count": 9,
   "metadata": {},
   "outputs": [],
   "source": [
    "fda[\"dataset\"] = \"FDA\"\n",
    "fda.to_csv(\"processed/fda.csv\", index=False)"
   ]
  }
 ],
 "metadata": {
  "kernelspec": {
   "display_name": "openadmet",
   "language": "python",
   "name": "python3"
  },
  "language_info": {
   "codemirror_mode": {
    "name": "ipython",
    "version": 3
   },
   "file_extension": ".py",
   "mimetype": "text/x-python",
   "name": "python",
   "nbconvert_exporter": "python",
   "pygments_lexer": "ipython3",
   "version": "3.8.20"
  }
 },
 "nbformat": 4,
 "nbformat_minor": 2
}
