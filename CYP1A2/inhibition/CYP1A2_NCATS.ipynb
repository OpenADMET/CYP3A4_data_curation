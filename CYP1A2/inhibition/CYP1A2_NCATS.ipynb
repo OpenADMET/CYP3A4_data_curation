{
 "cells": [
  {
   "cell_type": "code",
   "execution_count": 1,
   "metadata": {},
   "outputs": [],
   "source": [
    "import pandas as pd\n",
    "from rdkit import Chem\n",
    "import seaborn as sns\n",
    "from tqdm import tqdm\n",
    "import numpy as np"
   ]
  },
  {
   "cell_type": "code",
   "execution_count": 2,
   "metadata": {},
   "outputs": [],
   "source": [
    "tqdm.pandas()"
   ]
  },
  {
   "cell_type": "markdown",
   "metadata": {},
   "source": [
    "# NCATS CYP1AW\n",
    "Dataset from https://pubchem.ncbi.nlm.nih.gov/bioassay/410\n",
    "\n",
    "## Assay info\n",
    "\n",
    "NCGC Assay Overview:\n",
    "\n",
    "\n",
    "The P450 gene superfamily is involved in metabolism and the clearance of xenobiotics. This assay used human CYP1A2 to measure the demethylation of luciferin 6' methyl ether (Luciferin-ME; Promega-Glo) to luciferin. The luciferin is then measured by luminescence after the addition of a luciferase detection regeant. Luciferin-ME concentration in the assay was equal to its Km for CYP1A2.\n",
    "\n",
    "NCGC Assay Protocol Summary:\n",
    "\n",
    "Two uL of enzyme and substrate mix (final concentrations: 20nM CYP1A2, 100uM Luciferin-ME, 100mM KPO4) were dispensed into a white, solid bottom 1536-well microtiter plate. 23nL of compound was transferred by a pin tool. The plate was incubated at room temperature for 10 min. Two uL of an NADPH regeneration solution (Promega supplied reagent) was dispensed and the reaction was allowed to continue for 60 min at room temperature. Then the reaction was stopped by reconstituted detection reagent. After another 20 min of incubation the plate was read on the ViewLux (Perkin Elmer) at 60 sec exposure and 2x2 binning. This protocol was carried out with Promega-Glo reagents and further information can be found at http://www.promega.com/tbs/tb325/tb325.pdf. Data were normalized to the to AC100 inhibition (57 uM furafylline).\n"
   ]
  },
  {
   "cell_type": "code",
   "execution_count": 4,
   "metadata": {},
   "outputs": [],
   "source": [
    "df = pd.read_csv(\"data/AID_410_datatable_all_NCATS_1A2.csv\")"
   ]
  },
  {
   "cell_type": "code",
   "execution_count": 5,
   "metadata": {},
   "outputs": [
    {
     "data": {
      "text/plain": [
       "['PUBCHEM_RESULT_TAG',\n",
       " 'PUBCHEM_SID',\n",
       " 'PUBCHEM_CID',\n",
       " 'PUBCHEM_EXT_DATASOURCE_SMILES',\n",
       " 'PUBCHEM_ACTIVITY_OUTCOME',\n",
       " 'PUBCHEM_ACTIVITY_SCORE',\n",
       " 'PUBCHEM_ACTIVITY_URL',\n",
       " 'PUBCHEM_ASSAYDATA_COMMENT',\n",
       " 'Activity Direction',\n",
       " 'Activity Qualifier',\n",
       " 'Qualified AC50',\n",
       " 'Log of AC50',\n",
       " 'Hill Coefficient',\n",
       " 'Curve R2',\n",
       " 'Data Type',\n",
       " 'Compound Type',\n",
       " 'Compound QC',\n",
       " 'Data Analysis QC',\n",
       " 'NCGC Comment',\n",
       " 'Curve Fit Model',\n",
       " 'Hill S0',\n",
       " 'Hill Sinf',\n",
       " 'Hill dS',\n",
       " 'Log AC50 Std Error',\n",
       " 'Curve Chi2f',\n",
       " 'Excluded Points',\n",
       " 'Number of Points',\n",
       " 'Activity at 0.732nM',\n",
       " 'Activity at 1.636nM',\n",
       " 'Activity at 3.658nM',\n",
       " 'Activity at 8.18nM',\n",
       " 'Activity at 18.291nM',\n",
       " 'Activity at 0.041uM',\n",
       " 'Activity at 0.091uM',\n",
       " 'Activity at 0.204uM',\n",
       " 'Activity at 0.457uM',\n",
       " 'Activity at 1.022uM',\n",
       " 'Activity at 2.286uM',\n",
       " 'Activity at 5.111uM',\n",
       " 'Activity at 11.429uM',\n",
       " 'Activity at 25.556uM',\n",
       " 'Activity at 0.057mM']"
      ]
     },
     "execution_count": 5,
     "metadata": {},
     "output_type": "execute_result"
    }
   ],
   "source": [
    "list(df.columns)"
   ]
  },
  {
   "cell_type": "code",
   "execution_count": 10,
   "metadata": {},
   "outputs": [
    {
     "data": {
      "text/html": [
       "<div>\n",
       "<style scoped>\n",
       "    .dataframe tbody tr th:only-of-type {\n",
       "        vertical-align: middle;\n",
       "    }\n",
       "\n",
       "    .dataframe tbody tr th {\n",
       "        vertical-align: top;\n",
       "    }\n",
       "\n",
       "    .dataframe thead th {\n",
       "        text-align: right;\n",
       "    }\n",
       "</style>\n",
       "<table border=\"1\" class=\"dataframe\">\n",
       "  <thead>\n",
       "    <tr style=\"text-align: right;\">\n",
       "      <th></th>\n",
       "      <th>PUBCHEM_RESULT_TAG</th>\n",
       "      <th>PUBCHEM_SID</th>\n",
       "      <th>PUBCHEM_CID</th>\n",
       "      <th>PUBCHEM_EXT_DATASOURCE_SMILES</th>\n",
       "      <th>PUBCHEM_ACTIVITY_OUTCOME</th>\n",
       "      <th>PUBCHEM_ACTIVITY_SCORE</th>\n",
       "      <th>PUBCHEM_ACTIVITY_URL</th>\n",
       "      <th>PUBCHEM_ASSAYDATA_COMMENT</th>\n",
       "      <th>Activity Direction</th>\n",
       "      <th>Activity Qualifier</th>\n",
       "      <th>...</th>\n",
       "      <th>Activity at 0.041uM</th>\n",
       "      <th>Activity at 0.091uM</th>\n",
       "      <th>Activity at 0.204uM</th>\n",
       "      <th>Activity at 0.457uM</th>\n",
       "      <th>Activity at 1.022uM</th>\n",
       "      <th>Activity at 2.286uM</th>\n",
       "      <th>Activity at 5.111uM</th>\n",
       "      <th>Activity at 11.429uM</th>\n",
       "      <th>Activity at 25.556uM</th>\n",
       "      <th>Activity at 0.057mM</th>\n",
       "    </tr>\n",
       "  </thead>\n",
       "  <tbody>\n",
       "    <tr>\n",
       "      <th>0</th>\n",
       "      <td>RESULT_TYPE</td>\n",
       "      <td>NaN</td>\n",
       "      <td>NaN</td>\n",
       "      <td>NaN</td>\n",
       "      <td>NaN</td>\n",
       "      <td>NaN</td>\n",
       "      <td>NaN</td>\n",
       "      <td>NaN</td>\n",
       "      <td>STRING</td>\n",
       "      <td>STRING</td>\n",
       "      <td>...</td>\n",
       "      <td>FLOAT</td>\n",
       "      <td>FLOAT</td>\n",
       "      <td>FLOAT</td>\n",
       "      <td>FLOAT</td>\n",
       "      <td>FLOAT</td>\n",
       "      <td>FLOAT</td>\n",
       "      <td>FLOAT</td>\n",
       "      <td>FLOAT</td>\n",
       "      <td>FLOAT</td>\n",
       "      <td>FLOAT</td>\n",
       "    </tr>\n",
       "    <tr>\n",
       "      <th>1</th>\n",
       "      <td>RESULT_DESCR</td>\n",
       "      <td>NaN</td>\n",
       "      <td>NaN</td>\n",
       "      <td>NaN</td>\n",
       "      <td>NaN</td>\n",
       "      <td>NaN</td>\n",
       "      <td>NaN</td>\n",
       "      <td>NaN</td>\n",
       "      <td>Indicates direction of activity: inactive, dec...</td>\n",
       "      <td>Indicates if AC50 is = to value or if it is in...</td>\n",
       "      <td>...</td>\n",
       "      <td>% Activity at given concentration.</td>\n",
       "      <td>% Activity at given concentration.</td>\n",
       "      <td>% Activity at given concentration.</td>\n",
       "      <td>% Activity at given concentration.</td>\n",
       "      <td>% Activity at given concentration.</td>\n",
       "      <td>% Activity at given concentration.</td>\n",
       "      <td>% Activity at given concentration.</td>\n",
       "      <td>% Activity at given concentration.</td>\n",
       "      <td>% Activity at given concentration.</td>\n",
       "      <td>% Activity at given concentration.</td>\n",
       "    </tr>\n",
       "    <tr>\n",
       "      <th>2</th>\n",
       "      <td>RESULT_UNIT</td>\n",
       "      <td>NaN</td>\n",
       "      <td>NaN</td>\n",
       "      <td>NaN</td>\n",
       "      <td>NaN</td>\n",
       "      <td>NaN</td>\n",
       "      <td>NaN</td>\n",
       "      <td>NaN</td>\n",
       "      <td>NaN</td>\n",
       "      <td>NaN</td>\n",
       "      <td>...</td>\n",
       "      <td>PERCENT</td>\n",
       "      <td>PERCENT</td>\n",
       "      <td>PERCENT</td>\n",
       "      <td>PERCENT</td>\n",
       "      <td>PERCENT</td>\n",
       "      <td>PERCENT</td>\n",
       "      <td>PERCENT</td>\n",
       "      <td>PERCENT</td>\n",
       "      <td>PERCENT</td>\n",
       "      <td>PERCENT</td>\n",
       "    </tr>\n",
       "  </tbody>\n",
       "</table>\n",
       "<p>3 rows × 42 columns</p>\n",
       "</div>"
      ],
      "text/plain": [
       "  PUBCHEM_RESULT_TAG  PUBCHEM_SID  PUBCHEM_CID PUBCHEM_EXT_DATASOURCE_SMILES  \\\n",
       "0        RESULT_TYPE          NaN          NaN                           NaN   \n",
       "1       RESULT_DESCR          NaN          NaN                           NaN   \n",
       "2        RESULT_UNIT          NaN          NaN                           NaN   \n",
       "\n",
       "  PUBCHEM_ACTIVITY_OUTCOME  PUBCHEM_ACTIVITY_SCORE  PUBCHEM_ACTIVITY_URL  \\\n",
       "0                      NaN                     NaN                   NaN   \n",
       "1                      NaN                     NaN                   NaN   \n",
       "2                      NaN                     NaN                   NaN   \n",
       "\n",
       "   PUBCHEM_ASSAYDATA_COMMENT  \\\n",
       "0                        NaN   \n",
       "1                        NaN   \n",
       "2                        NaN   \n",
       "\n",
       "                                  Activity Direction  \\\n",
       "0                                             STRING   \n",
       "1  Indicates direction of activity: inactive, dec...   \n",
       "2                                                NaN   \n",
       "\n",
       "                                  Activity Qualifier  ...  \\\n",
       "0                                             STRING  ...   \n",
       "1  Indicates if AC50 is = to value or if it is in...  ...   \n",
       "2                                                NaN  ...   \n",
       "\n",
       "                  Activity at 0.041uM                 Activity at 0.091uM  \\\n",
       "0                               FLOAT                               FLOAT   \n",
       "1  % Activity at given concentration.  % Activity at given concentration.   \n",
       "2                             PERCENT                             PERCENT   \n",
       "\n",
       "                  Activity at 0.204uM                 Activity at 0.457uM  \\\n",
       "0                               FLOAT                               FLOAT   \n",
       "1  % Activity at given concentration.  % Activity at given concentration.   \n",
       "2                             PERCENT                             PERCENT   \n",
       "\n",
       "                  Activity at 1.022uM                 Activity at 2.286uM  \\\n",
       "0                               FLOAT                               FLOAT   \n",
       "1  % Activity at given concentration.  % Activity at given concentration.   \n",
       "2                             PERCENT                             PERCENT   \n",
       "\n",
       "                  Activity at 5.111uM                Activity at 11.429uM  \\\n",
       "0                               FLOAT                               FLOAT   \n",
       "1  % Activity at given concentration.  % Activity at given concentration.   \n",
       "2                             PERCENT                             PERCENT   \n",
       "\n",
       "                 Activity at 25.556uM                 Activity at 0.057mM  \n",
       "0                               FLOAT                               FLOAT  \n",
       "1  % Activity at given concentration.  % Activity at given concentration.  \n",
       "2                             PERCENT                             PERCENT  \n",
       "\n",
       "[3 rows x 42 columns]"
      ]
     },
     "execution_count": 10,
     "metadata": {},
     "output_type": "execute_result"
    }
   ],
   "source": [
    "# first 3 rows are metadata \n",
    "df[0:3]"
   ]
  },
  {
   "cell_type": "code",
   "execution_count": 11,
   "metadata": {},
   "outputs": [],
   "source": [
    "df = df.drop(labels=list(range(0, 3)), axis=0).reset_index(\n",
    "    drop=True\n",
    ")"
   ]
  },
  {
   "cell_type": "code",
   "execution_count": 12,
   "metadata": {},
   "outputs": [
    {
     "data": {
      "text/html": [
       "<div>\n",
       "<style scoped>\n",
       "    .dataframe tbody tr th:only-of-type {\n",
       "        vertical-align: middle;\n",
       "    }\n",
       "\n",
       "    .dataframe tbody tr th {\n",
       "        vertical-align: top;\n",
       "    }\n",
       "\n",
       "    .dataframe thead th {\n",
       "        text-align: right;\n",
       "    }\n",
       "</style>\n",
       "<table border=\"1\" class=\"dataframe\">\n",
       "  <thead>\n",
       "    <tr style=\"text-align: right;\">\n",
       "      <th></th>\n",
       "      <th>PUBCHEM_RESULT_TAG</th>\n",
       "      <th>PUBCHEM_SID</th>\n",
       "      <th>PUBCHEM_CID</th>\n",
       "      <th>PUBCHEM_EXT_DATASOURCE_SMILES</th>\n",
       "      <th>PUBCHEM_ACTIVITY_OUTCOME</th>\n",
       "      <th>PUBCHEM_ACTIVITY_SCORE</th>\n",
       "      <th>PUBCHEM_ACTIVITY_URL</th>\n",
       "      <th>PUBCHEM_ASSAYDATA_COMMENT</th>\n",
       "      <th>Activity Direction</th>\n",
       "      <th>Activity Qualifier</th>\n",
       "      <th>...</th>\n",
       "      <th>Activity at 0.041uM</th>\n",
       "      <th>Activity at 0.091uM</th>\n",
       "      <th>Activity at 0.204uM</th>\n",
       "      <th>Activity at 0.457uM</th>\n",
       "      <th>Activity at 1.022uM</th>\n",
       "      <th>Activity at 2.286uM</th>\n",
       "      <th>Activity at 5.111uM</th>\n",
       "      <th>Activity at 11.429uM</th>\n",
       "      <th>Activity at 25.556uM</th>\n",
       "      <th>Activity at 0.057mM</th>\n",
       "    </tr>\n",
       "  </thead>\n",
       "  <tbody>\n",
       "    <tr>\n",
       "      <th>0</th>\n",
       "      <td>1</td>\n",
       "      <td>4238703.0</td>\n",
       "      <td>3233812.0</td>\n",
       "      <td>COC1=CC=CC=C1C2=CC3=C(C=C2)N=CN=C3N4CCOCC4</td>\n",
       "      <td>Active</td>\n",
       "      <td>62.0</td>\n",
       "      <td>NaN</td>\n",
       "      <td>NaN</td>\n",
       "      <td>decreasing</td>\n",
       "      <td>=</td>\n",
       "      <td>...</td>\n",
       "      <td>NaN</td>\n",
       "      <td>-9.8</td>\n",
       "      <td>NaN</td>\n",
       "      <td>-45.9</td>\n",
       "      <td>NaN</td>\n",
       "      <td>-107.8</td>\n",
       "      <td>NaN</td>\n",
       "      <td>-123</td>\n",
       "      <td>NaN</td>\n",
       "      <td>-126.7</td>\n",
       "    </tr>\n",
       "    <tr>\n",
       "      <th>1</th>\n",
       "      <td>2</td>\n",
       "      <td>4239686.0</td>\n",
       "      <td>3234793.0</td>\n",
       "      <td>CC1=CC=CC=C1C2=CC3=C(C=C2)N=CN=C3N4CCOCC4</td>\n",
       "      <td>Active</td>\n",
       "      <td>59.0</td>\n",
       "      <td>NaN</td>\n",
       "      <td>NaN</td>\n",
       "      <td>decreasing</td>\n",
       "      <td>=</td>\n",
       "      <td>...</td>\n",
       "      <td>NaN</td>\n",
       "      <td>-1.2</td>\n",
       "      <td>NaN</td>\n",
       "      <td>-21.4</td>\n",
       "      <td>NaN</td>\n",
       "      <td>-88.6</td>\n",
       "      <td>NaN</td>\n",
       "      <td>-117.8</td>\n",
       "      <td>NaN</td>\n",
       "      <td>-125.3</td>\n",
       "    </tr>\n",
       "    <tr>\n",
       "      <th>2</th>\n",
       "      <td>3</td>\n",
       "      <td>4239896.0</td>\n",
       "      <td>3235003.0</td>\n",
       "      <td>COC1=CC=CC=C1C2=CC(=NC=N2)NC3=CC=NN3</td>\n",
       "      <td>Active</td>\n",
       "      <td>62.0</td>\n",
       "      <td>NaN</td>\n",
       "      <td>NaN</td>\n",
       "      <td>decreasing</td>\n",
       "      <td>=</td>\n",
       "      <td>...</td>\n",
       "      <td>NaN</td>\n",
       "      <td>-20.4</td>\n",
       "      <td>NaN</td>\n",
       "      <td>-50.7</td>\n",
       "      <td>NaN</td>\n",
       "      <td>-100</td>\n",
       "      <td>NaN</td>\n",
       "      <td>-119.5</td>\n",
       "      <td>NaN</td>\n",
       "      <td>-125.1</td>\n",
       "    </tr>\n",
       "    <tr>\n",
       "      <th>3</th>\n",
       "      <td>4</td>\n",
       "      <td>4239792.0</td>\n",
       "      <td>3234899.0</td>\n",
       "      <td>C1=CC(=CC=C1NC2=NC=NC3=C2C=C(C=C3)C4=COC=C4)F</td>\n",
       "      <td>Active</td>\n",
       "      <td>60.0</td>\n",
       "      <td>NaN</td>\n",
       "      <td>NaN</td>\n",
       "      <td>decreasing</td>\n",
       "      <td>=</td>\n",
       "      <td>...</td>\n",
       "      <td>NaN</td>\n",
       "      <td>-13.3</td>\n",
       "      <td>NaN</td>\n",
       "      <td>-33.9</td>\n",
       "      <td>NaN</td>\n",
       "      <td>-100.5</td>\n",
       "      <td>NaN</td>\n",
       "      <td>-120.9</td>\n",
       "      <td>NaN</td>\n",
       "      <td>-125</td>\n",
       "    </tr>\n",
       "    <tr>\n",
       "      <th>4</th>\n",
       "      <td>5</td>\n",
       "      <td>4238356.0</td>\n",
       "      <td>3233467.0</td>\n",
       "      <td>CC1=CC(=CC=C1)CNC2=NC(=NC=C2)C3=CN=CC=C3</td>\n",
       "      <td>Active</td>\n",
       "      <td>69.0</td>\n",
       "      <td>NaN</td>\n",
       "      <td>NaN</td>\n",
       "      <td>decreasing</td>\n",
       "      <td>=</td>\n",
       "      <td>...</td>\n",
       "      <td>NaN</td>\n",
       "      <td>-45.9</td>\n",
       "      <td>NaN</td>\n",
       "      <td>-101.3</td>\n",
       "      <td>NaN</td>\n",
       "      <td>-118.5</td>\n",
       "      <td>NaN</td>\n",
       "      <td>-121.9</td>\n",
       "      <td>NaN</td>\n",
       "      <td>-124.1</td>\n",
       "    </tr>\n",
       "  </tbody>\n",
       "</table>\n",
       "<p>5 rows × 42 columns</p>\n",
       "</div>"
      ],
      "text/plain": [
       "  PUBCHEM_RESULT_TAG  PUBCHEM_SID  PUBCHEM_CID  \\\n",
       "0                  1    4238703.0    3233812.0   \n",
       "1                  2    4239686.0    3234793.0   \n",
       "2                  3    4239896.0    3235003.0   \n",
       "3                  4    4239792.0    3234899.0   \n",
       "4                  5    4238356.0    3233467.0   \n",
       "\n",
       "                   PUBCHEM_EXT_DATASOURCE_SMILES PUBCHEM_ACTIVITY_OUTCOME  \\\n",
       "0     COC1=CC=CC=C1C2=CC3=C(C=C2)N=CN=C3N4CCOCC4                   Active   \n",
       "1      CC1=CC=CC=C1C2=CC3=C(C=C2)N=CN=C3N4CCOCC4                   Active   \n",
       "2           COC1=CC=CC=C1C2=CC(=NC=N2)NC3=CC=NN3                   Active   \n",
       "3  C1=CC(=CC=C1NC2=NC=NC3=C2C=C(C=C3)C4=COC=C4)F                   Active   \n",
       "4       CC1=CC(=CC=C1)CNC2=NC(=NC=C2)C3=CN=CC=C3                   Active   \n",
       "\n",
       "   PUBCHEM_ACTIVITY_SCORE  PUBCHEM_ACTIVITY_URL  PUBCHEM_ASSAYDATA_COMMENT  \\\n",
       "0                    62.0                   NaN                        NaN   \n",
       "1                    59.0                   NaN                        NaN   \n",
       "2                    62.0                   NaN                        NaN   \n",
       "3                    60.0                   NaN                        NaN   \n",
       "4                    69.0                   NaN                        NaN   \n",
       "\n",
       "  Activity Direction Activity Qualifier  ... Activity at 0.041uM  \\\n",
       "0         decreasing                  =  ...                 NaN   \n",
       "1         decreasing                  =  ...                 NaN   \n",
       "2         decreasing                  =  ...                 NaN   \n",
       "3         decreasing                  =  ...                 NaN   \n",
       "4         decreasing                  =  ...                 NaN   \n",
       "\n",
       "  Activity at 0.091uM Activity at 0.204uM Activity at 0.457uM  \\\n",
       "0                -9.8                 NaN               -45.9   \n",
       "1                -1.2                 NaN               -21.4   \n",
       "2               -20.4                 NaN               -50.7   \n",
       "3               -13.3                 NaN               -33.9   \n",
       "4               -45.9                 NaN              -101.3   \n",
       "\n",
       "  Activity at 1.022uM Activity at 2.286uM Activity at 5.111uM  \\\n",
       "0                 NaN              -107.8                 NaN   \n",
       "1                 NaN               -88.6                 NaN   \n",
       "2                 NaN                -100                 NaN   \n",
       "3                 NaN              -100.5                 NaN   \n",
       "4                 NaN              -118.5                 NaN   \n",
       "\n",
       "  Activity at 11.429uM Activity at 25.556uM Activity at 0.057mM  \n",
       "0                 -123                  NaN              -126.7  \n",
       "1               -117.8                  NaN              -125.3  \n",
       "2               -119.5                  NaN              -125.1  \n",
       "3               -120.9                  NaN                -125  \n",
       "4               -121.9                  NaN              -124.1  \n",
       "\n",
       "[5 rows x 42 columns]"
      ]
     },
     "execution_count": 12,
     "metadata": {},
     "output_type": "execute_result"
    }
   ],
   "source": [
    "df.head()"
   ]
  },
  {
   "cell_type": "code",
   "execution_count": 13,
   "metadata": {},
   "outputs": [
    {
     "data": {
      "text/plain": [
       "<Axes: xlabel='PUBCHEM_ACTIVITY_SCORE', ylabel='Count'>"
      ]
     },
     "execution_count": 13,
     "metadata": {},
     "output_type": "execute_result"
    },
    {
     "data": {
      "image/png": "[encoded data removed]",
      "text/plain": [
       "<Figure size 640x480 with 1 Axes>"
      ]
     },
     "metadata": {},
     "output_type": "display_data"
    }
   ],
   "source": [
    "# lets look at activity\n",
    "sns.histplot(data=df, x=\"PUBCHEM_ACTIVITY_SCORE\")"
   ]
  },
  {
   "cell_type": "code",
   "execution_count": 14,
   "metadata": {},
   "outputs": [
    {
     "data": {
      "text/plain": [
       "<Axes: xlabel='PUBCHEM_ACTIVITY_OUTCOME', ylabel='Count'>"
      ]
     },
     "execution_count": 14,
     "metadata": {},
     "output_type": "execute_result"
    },
    {
     "data": {
      "image/png": "[encoded data removed]",
      "text/plain": [
       "<Figure size 640x480 with 1 Axes>"
      ]
     },
     "metadata": {},
     "output_type": "display_data"
    }
   ],
   "source": [
    "sns.histplot(data=df, x=\"PUBCHEM_ACTIVITY_OUTCOME\")"
   ]
  },
  {
   "cell_type": "code",
   "execution_count": 15,
   "metadata": {},
   "outputs": [
    {
     "data": {
      "text/plain": [
       "9198"
      ]
     },
     "execution_count": 15,
     "metadata": {},
     "output_type": "execute_result"
    }
   ],
   "source": [
    "# clean up the main_dataset\n",
    "activity_cols = [\"PUBCHEM_ACTIVITY_OUTCOME\", \"PUBCHEM_ACTIVITY_SCORE\"]\n",
    "mol_col = \"PUBCHEM_EXT_DATASOURCE_SMILES\"\n",
    "mol_id_cols = [\"PUBCHEM_SID\", \"PUBCHEM_CID\"]\n",
    "len(df)"
   ]
  },
  {
   "cell_type": "code",
   "execution_count": 16,
   "metadata": {},
   "outputs": [],
   "source": [
    "df = df.dropna(subset=\"PUBCHEM_CID\")"
   ]
  },
  {
   "cell_type": "code",
   "execution_count": 17,
   "metadata": {},
   "outputs": [
    {
     "data": {
      "text/plain": [
       "9174"
      ]
     },
     "execution_count": 17,
     "metadata": {},
     "output_type": "execute_result"
    }
   ],
   "source": [
    "len(df)"
   ]
  },
  {
   "cell_type": "code",
   "execution_count": 19,
   "metadata": {},
   "outputs": [],
   "source": [
    "df[\"PUBCHEM_SID\"] = df[\"PUBCHEM_SID\"].astype(int)\n",
    "df[\"PUBCHEM_CID\"] = df[\"PUBCHEM_CID\"].astype(int)\n",
    "df[\"PUBCHEM_CID\"].to_csv(\"data/NCATS_CYP_raw_cids.csv\", index=False, header=False)"
   ]
  },
  {
   "cell_type": "code",
   "execution_count": null,
   "metadata": {},
   "outputs": [],
   "source": [
    "pubchem_mapping_file = \"./NCATS_CYP_raw/2870917276013973259.txt\""
   ]
  }
 ],
 "metadata": {
  "kernelspec": {
   "display_name": "openadmet",
   "language": "python",
   "name": "python3"
  },
  "language_info": {
   "codemirror_mode": {
    "name": "ipython",
    "version": 3
   },
   "file_extension": ".py",
   "mimetype": "text/x-python",
   "name": "python",
   "nbconvert_exporter": "python",
   "pygments_lexer": "ipython3",
   "version": "3.8.20"
  }
 },
 "nbformat": 4,
 "nbformat_minor": 2
}
